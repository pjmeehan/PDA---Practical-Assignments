{
 "cells": [
  {
   "cell_type": "markdown",
   "metadata": {},
   "source": [
    "# Programming for Data Analysis Practical Assignment\n",
    "***\n",
    "1. Explain the overall purpose of the NumPy package.\n",
    "2. Explain the use of the \"simple random data\" and \"Permutations\" functions.\n",
    "3. Explain the use and purpose of at least five \"Distributions\" functions.\n",
    "4. Explain the use of seeds in generating pseudorandom numbers."
   ]
  },
  {
   "cell_type": "markdown",
   "metadata": {},
   "source": [
    "# 1. Explain the overall purpose of the NumPy package.\n",
    "\n",
    "## NumPy\n",
    "\n",
    "NumPy is a linear algebra library in Python. It is used to perform mathematical and logical operations in arrays.\n",
    "A NumPy array is a grid that contains values of the same type. There are 2 types of arrays :\n",
    "1. Vectors - are one dimensional\n",
    "2. Matrices - are multidimensional\n",
    "\n",
    "Why use NumPy when Python can perform the same function(s)?\n",
    "\n",
    "There are 2 reasons to use NumPy rather than Python, they are :\n",
    "1. NumPy is more efficient, meaning it uses less memory to store data.\n",
    "2. It handles the data from mathematical operations better.\n",
    "\n",
    "It's because of these 2 functions that NumPy is so popular and explains it's purpose. It allows for real life complex data to be used to solve solutions to everyday problems. NumPy is used across many industries as you can see by the following examples. The computer gaming industry uses it for computer generated images, electrical engineers use it to determine the properties of a circuit, medical companies use it for CAT scans and MRIs, the robotic industry uses it to operate robot movements and IT companies use it for tracking user information, to perform search queries and manage databases. These are just a small amount of examples.\n",
    "\n",
    "\n"
   ]
  },
  {
   "cell_type": "markdown",
   "metadata": {},
   "source": [
    "# 2. Explain the use of the \"Simple random data\" and \"Permutations\" functions."
   ]
  },
  {
   "cell_type": "markdown",
   "metadata": {},
   "source": [
    "## Simple Random Data\n",
    "\n",
    "Before I get into the randon fucntion(s) in numpy, I want to explore why anyone would need to generate random numbers. It turns out the use of random numbers is utilized across many industries.. It is used in science, art, statistics, gaming, gambling and other industries.(https://en.wikipedia.org/wiki/Applications_of_randomness). It is used to for encryption, modeling complex phenomena and for selectiing random samples from larger data sets. (https://www.random.org/randomness/).\n",
    "A specific example of the use of random generated numbers comes from the online betting exchange Betfair. In their online help centre, they offer an explanation of \"What are Random Number Generators, and how do they work?\". (https://en-betfair.custhelp.com/app/answers/detail/a_id/158/~/what-are-random-number-generators%2C-and-how-do-they-work%3F). It is very interesting, especially their explanation on the use of 'seeds'. More on seeds at the end of this assignment. But basically, they say it is used to generate numbers that do not have patterns and thus appear to be random. \n",
    "\n",
    "In NumPy, there are several ways to generate simple random data such as rand, randn, and random. They all return random numbers but for different purposes.<br>\n",
    "*_Rand_ - creates an array of a specified shape and fills it with random numbers from a uniform distribution over \\[0,1). https://docs.scipy.org/doc/numpy-1.15.1/reference/generated/numpy.random.rand.html <br>\n",
    "*_Randn_ - creates the same array as Rand but fills it with random values based on the 'standard normal' distribution.(https://www.geeksforgeeks.org/numpy-random-rand-python/). <br>\n",
    "*_Random_ - returns an array filled with random numbers from a continuous uniform distribution in the half open interval \\[0.0,1.0) (https://docs.scipy.org/doc/numpy-1.15.1/reference/generated/numpy.random.sample.html#numpy.random.sample.)<br>\n",
    "\n",
    " Below are examples of each of the three simple random functions and graphs to illustrate the outcomes."
   ]
  },
  {
   "cell_type": "code",
   "execution_count": 18,
   "metadata": {},
   "outputs": [],
   "source": [
    "import numpy as np"
   ]
  },
  {
   "cell_type": "markdown",
   "metadata": {},
   "source": [
    "### random.rand"
   ]
  },
  {
   "cell_type": "markdown",
   "metadata": {},
   "source": [
    "Random.rand (d0,d1,...dn)is the official function where d is a parameter that gives the array dimension. Example, random.rand(2,3) will return 6 random numbers \\(2*3) with dimensions 2 rows by 3 columns.<br>\n",
    "If you just wanted to generate x amount of numbers you would just enter how many numbers you wanted to generate instead of giving it dimensions. ie random.rand(1000)."
   ]
  },
  {
   "cell_type": "markdown",
   "metadata": {},
   "source": [
    "Here are two examples of the random.rand function :"
   ]
  },
  {
   "cell_type": "code",
   "execution_count": 19,
   "metadata": {},
   "outputs": [
    {
     "data": {
      "text/plain": [
       "array([[0.9605992 , 0.22756334, 0.09878084, 0.6870247 , 0.1675466 ],\n",
       "       [0.23753591, 0.26756036, 0.7446826 , 0.7665631 , 0.01399715]])"
      ]
     },
     "execution_count": 19,
     "metadata": {},
     "output_type": "execute_result"
    }
   ],
   "source": [
    "np.random.rand(2,5)"
   ]
  },
  {
   "cell_type": "markdown",
   "metadata": {},
   "source": [
    "This generated a random array of 2 rows by 5 columns."
   ]
  },
  {
   "cell_type": "code",
   "execution_count": 20,
   "metadata": {},
   "outputs": [
    {
     "data": {
      "text/plain": [
       "array([5.42069322e-01, 1.66294780e-02, 3.81537737e-01, 6.48824979e-01,\n",
       "       7.39180158e-01, 2.27967681e-01, 9.49477987e-01, 7.62714698e-01,\n",
       "       4.73989717e-02, 8.64260194e-01, 7.22523368e-01, 9.67471386e-01,\n",
       "       8.73911049e-01, 3.54540216e-01, 1.83596846e-01, 4.36138641e-01,\n",
       "       1.08426200e-01, 3.85987586e-01, 3.27712378e-03, 6.92293911e-01,\n",
       "       1.69390064e-01, 6.90032605e-01, 8.30924310e-03, 3.99572923e-01,\n",
       "       8.17438277e-01, 7.33783667e-01, 4.25337949e-01, 6.34040545e-01,\n",
       "       9.06176397e-01, 5.98865408e-01, 6.30297689e-01, 9.87248848e-01,\n",
       "       3.53785308e-01, 8.27710512e-01, 6.69615730e-01, 3.70854332e-02,\n",
       "       3.09275696e-01, 5.67335229e-01, 6.55002686e-02, 4.34550108e-02,\n",
       "       8.97207756e-01, 7.04607437e-01, 3.87732565e-01, 4.14497473e-01,\n",
       "       7.73091605e-01, 5.75078376e-01, 1.11317488e-01, 6.04957321e-02,\n",
       "       4.71065791e-01, 2.50918050e-01, 7.99343258e-01, 8.35755406e-01,\n",
       "       4.81784532e-01, 8.97230392e-01, 8.24658461e-01, 4.82497316e-02,\n",
       "       2.63189833e-01, 3.65653798e-01, 2.78485844e-01, 8.71468957e-02,\n",
       "       4.10820854e-02, 1.79007286e-01, 2.49274708e-01, 6.58661712e-01,\n",
       "       1.39628836e-01, 2.25115675e-01, 3.37099483e-01, 6.81485480e-01,\n",
       "       2.62555129e-01, 6.50291550e-01, 5.50328664e-01, 1.31870890e-01,\n",
       "       1.52929367e-01, 3.47210011e-01, 9.84826118e-01, 8.33993595e-02,\n",
       "       6.70576066e-02, 8.93166474e-01, 8.26066480e-01, 2.59401053e-01,\n",
       "       1.45534133e-02, 6.50369839e-01, 6.04740974e-01, 4.80556613e-01,\n",
       "       7.73189913e-01, 8.88384468e-01, 1.51123052e-01, 7.73819506e-01,\n",
       "       6.64398584e-01, 4.83999467e-01, 7.75646780e-01, 3.66929668e-01,\n",
       "       1.45430782e-01, 6.02294667e-01, 5.41000610e-01, 5.16126684e-01,\n",
       "       3.83058579e-01, 1.07908173e-01, 9.93448538e-01, 8.03888121e-01,\n",
       "       4.77255080e-01, 1.91066401e-01, 2.35205443e-01, 5.02339186e-01,\n",
       "       9.98940111e-01, 1.11106161e-01, 5.42202686e-02, 9.90427740e-01,\n",
       "       3.03035309e-01, 8.39395184e-01, 5.19089232e-01, 2.28424120e-01,\n",
       "       5.26991862e-01, 3.50658718e-01, 6.58438307e-01, 1.08375647e-01,\n",
       "       5.44257422e-01, 1.32081075e-01, 3.39670612e-01, 8.36968133e-01,\n",
       "       7.91620365e-01, 4.27218029e-01, 7.78369119e-01, 7.61773333e-01,\n",
       "       9.98255038e-01, 9.67211341e-01, 5.56065609e-01, 7.49858316e-01,\n",
       "       3.31110656e-01, 6.59388414e-01, 5.04784108e-01, 3.00260274e-01,\n",
       "       4.91385386e-01, 3.98930645e-01, 6.95229076e-01, 7.63256556e-03,\n",
       "       2.53544951e-01, 2.48785540e-01, 8.64399354e-01, 9.70947939e-01,\n",
       "       3.47634847e-01, 7.39325745e-01, 4.56393778e-01, 2.70254324e-01,\n",
       "       8.33237598e-01, 3.15464196e-01, 8.61713721e-01, 1.71558505e-01,\n",
       "       8.30352195e-01, 4.87671696e-01, 6.05438798e-01, 2.59429156e-01,\n",
       "       4.41930139e-01, 3.43036497e-01, 8.77978537e-01, 2.80659803e-01,\n",
       "       4.43544063e-02, 7.38933288e-01, 9.97829642e-01, 8.21589844e-01,\n",
       "       7.44704051e-01, 5.32361607e-01, 8.45152201e-01, 7.55444953e-01,\n",
       "       4.17766101e-02, 2.16497710e-01, 8.41682203e-01, 6.16986036e-01,\n",
       "       7.98694094e-03, 4.45946835e-01, 6.12700195e-01, 5.08106649e-01,\n",
       "       2.96324321e-01, 2.71678396e-01, 7.91978307e-01, 4.59471065e-01,\n",
       "       6.44611601e-02, 6.76323392e-01, 5.43257370e-01, 1.67264027e-01,\n",
       "       8.04059966e-01, 9.80052072e-01, 4.09826193e-01, 9.59535948e-01,\n",
       "       7.11993852e-01, 9.07932454e-01, 2.64664304e-01, 9.33413390e-02,\n",
       "       2.66869475e-01, 4.41689347e-02, 3.59733158e-02, 6.11824077e-01,\n",
       "       3.53048157e-02, 4.61501405e-01, 5.82039494e-02, 7.93770608e-02,\n",
       "       2.60201727e-01, 1.35846378e-01, 4.75656754e-01, 1.87245180e-01,\n",
       "       6.65650736e-01, 4.51617713e-01, 6.64959705e-01, 5.97450251e-01,\n",
       "       5.22885080e-01, 2.68364141e-01, 1.16784426e-01, 4.93988468e-01,\n",
       "       5.44704119e-01, 6.60925205e-01, 3.24569050e-01, 1.37562577e-01,\n",
       "       8.45014194e-01, 8.04045708e-01, 6.28039120e-01, 9.45989976e-01,\n",
       "       5.11017711e-01, 4.36056619e-01, 7.19901527e-01, 4.41718772e-01,\n",
       "       2.91507812e-01, 6.40451074e-01, 9.81700445e-01, 7.41655880e-01,\n",
       "       7.74983401e-01, 4.98096822e-01, 2.48717009e-01, 8.86118616e-01,\n",
       "       1.03034913e-01, 6.85721266e-01, 3.34458834e-01, 6.68233323e-01,\n",
       "       2.58325683e-01, 8.36021153e-02, 4.17537005e-01, 6.09661055e-01,\n",
       "       3.95655778e-01, 4.52637336e-01, 5.34750922e-01, 1.92535823e-01,\n",
       "       7.32028251e-01, 1.53474477e-01, 7.41659308e-01, 7.12121855e-01,\n",
       "       5.84389967e-01, 3.29528010e-01, 7.02051900e-01, 9.64852991e-01,\n",
       "       5.04512198e-01, 1.69326408e-01, 6.30746406e-01, 3.92490153e-02,\n",
       "       7.05112703e-01, 1.05487646e-01, 7.60009014e-01, 7.11730511e-01,\n",
       "       7.60507798e-01, 9.71178345e-01, 9.61754284e-01, 9.37232345e-01,\n",
       "       7.95247369e-01, 4.73879801e-01, 2.53668638e-01, 1.55614860e-01,\n",
       "       8.57546175e-01, 4.67936128e-01, 8.32750194e-01, 1.51299848e-01,\n",
       "       3.58835106e-01, 5.20241934e-01, 4.50801187e-01, 2.50743439e-01,\n",
       "       6.79766166e-01, 9.19366541e-01, 2.46257069e-01, 3.79127851e-01,\n",
       "       3.45205188e-01, 5.61002362e-01, 1.36677531e-01, 5.64066933e-01,\n",
       "       5.27417795e-01, 2.86195993e-01, 7.02826388e-01, 1.54427959e-01,\n",
       "       5.32097201e-01, 8.16348039e-01, 5.83457581e-01, 1.25059574e-01,\n",
       "       2.65853549e-01, 8.09333614e-01, 9.85232661e-01, 7.30774549e-01,\n",
       "       8.99184772e-01, 4.37329984e-01, 6.25647639e-01, 9.13500186e-01,\n",
       "       2.59635922e-01, 9.36406735e-01, 9.50381624e-01, 7.64594466e-01,\n",
       "       7.38345000e-01, 4.15150306e-01, 9.94901953e-01, 3.44242901e-01,\n",
       "       3.73244137e-01, 4.58194528e-01, 9.50967366e-01, 7.03453771e-01,\n",
       "       7.97550633e-01, 4.56059031e-01, 2.70486452e-01, 5.85957783e-01,\n",
       "       5.08838240e-02, 9.17463260e-02, 6.88324244e-01, 8.56036250e-01,\n",
       "       5.73800356e-01, 2.04925842e-01, 8.73887599e-01, 1.29373961e-01,\n",
       "       5.80130831e-01, 7.78132961e-01, 2.54197923e-01, 9.14556536e-01,\n",
       "       8.62845521e-01, 1.41471612e-01, 1.48376703e-01, 3.37033951e-01,\n",
       "       7.36650628e-01, 8.72142342e-01, 9.69489065e-01, 5.50410216e-01,\n",
       "       6.51476720e-01, 3.63812313e-01, 9.03544138e-01, 6.40832982e-01,\n",
       "       2.25084714e-01, 6.59597501e-01, 2.71341925e-01, 8.57848406e-01,\n",
       "       8.78229158e-01, 1.30714103e-01, 7.38473798e-01, 5.48567458e-01,\n",
       "       4.97909266e-01, 2.95233213e-04, 3.43001410e-01, 6.44726750e-01,\n",
       "       6.39307830e-01, 7.54034778e-01, 3.56798293e-01, 4.58273150e-01,\n",
       "       9.09571351e-02, 7.04920564e-01, 7.52592346e-01, 9.61532463e-01,\n",
       "       6.00311790e-01, 1.94503374e-01, 4.61535422e-01, 4.98726194e-01,\n",
       "       8.42292741e-01, 1.64238603e-02, 2.81437940e-01, 5.70690824e-01,\n",
       "       5.87454898e-01, 3.89497193e-01, 9.80040455e-01, 5.17214692e-01,\n",
       "       5.87406290e-01, 4.10523195e-01, 7.79094603e-01, 9.67454478e-01,\n",
       "       5.85048178e-03, 4.99285766e-01, 7.42039279e-02, 8.28816398e-02,\n",
       "       8.24010033e-01, 5.79761395e-01, 3.53882600e-01, 9.21818970e-03,\n",
       "       3.44181678e-01, 2.41882273e-01, 3.43134788e-01, 6.33282443e-01,\n",
       "       1.80158934e-03, 8.77829399e-01, 3.15791279e-01, 1.47502521e-01,\n",
       "       2.67512334e-01, 3.13408212e-01, 2.76591199e-01, 3.50624104e-01,\n",
       "       2.88842660e-02, 6.97022913e-01, 3.14103929e-01, 8.71903382e-01,\n",
       "       3.16223591e-01, 1.18049008e-01, 6.85975364e-01, 3.00895033e-01,\n",
       "       2.69474317e-01, 9.77686477e-02, 5.13935095e-02, 2.55429131e-01,\n",
       "       3.24339390e-01, 4.71784736e-01, 9.64041740e-01, 4.59404881e-01,\n",
       "       8.58530348e-01, 8.44570798e-01, 8.73240355e-01, 6.21315688e-01,\n",
       "       4.28586051e-01, 7.40521267e-01, 9.68140021e-01, 3.52326138e-01,\n",
       "       3.86586850e-01, 4.86585929e-01, 3.91126680e-01, 9.12479072e-01,\n",
       "       1.27566086e-01, 1.71114948e-01, 7.81149555e-01, 5.47388889e-01,\n",
       "       4.39457643e-01, 3.80851800e-01, 5.20254912e-01, 9.75842598e-02,\n",
       "       1.55545063e-02, 4.72906224e-01, 7.73181541e-01, 7.26098341e-01,\n",
       "       4.71319327e-01, 7.04320535e-01, 7.51216596e-02, 3.87378685e-01,\n",
       "       1.06564989e-01, 4.34555888e-01, 4.01907840e-01, 1.67087287e-01,\n",
       "       9.24543303e-01, 8.62531746e-01, 5.64454505e-01, 3.78530493e-01,\n",
       "       6.12168241e-01, 5.75867179e-01, 3.21175964e-01, 2.64029048e-01,\n",
       "       6.21556923e-01, 1.02419510e-01, 3.51137804e-01, 2.38960276e-01,\n",
       "       6.99137564e-01, 4.02423730e-01, 1.15378865e-01, 1.84362091e-01,\n",
       "       7.38910636e-01, 3.97786102e-01, 1.69602335e-01, 4.92441332e-01,\n",
       "       7.52424001e-02, 3.68915107e-01, 8.42141892e-01, 4.87611606e-01,\n",
       "       8.76534906e-01, 4.72188587e-01, 4.06378324e-01, 8.81188241e-01,\n",
       "       3.07042468e-01, 1.59015974e-01, 1.56270133e-01, 2.45863107e-01,\n",
       "       3.48408885e-01, 3.94653852e-01, 6.05201740e-01, 5.90545720e-01,\n",
       "       5.93826185e-01, 4.25392686e-02, 2.50062125e-01, 4.72618884e-01,\n",
       "       2.24594939e-01, 4.12991809e-01, 2.58309830e-01, 7.78740031e-01,\n",
       "       2.41029739e-01, 3.35028405e-01, 3.04206203e-01, 1.30547914e-01,\n",
       "       5.42206188e-01, 6.40958368e-01, 8.29671882e-02, 6.11268761e-01,\n",
       "       1.68241150e-01, 6.41386825e-01, 7.08143879e-01, 3.12215177e-01,\n",
       "       7.74066406e-01, 7.13918167e-01, 5.39174089e-01, 2.44942124e-01,\n",
       "       5.36300608e-01, 7.44092849e-01, 5.97030617e-01, 3.01051484e-01,\n",
       "       8.43861569e-01, 1.92142447e-01, 5.39508105e-02, 4.16649688e-01,\n",
       "       5.07537234e-01, 5.11631441e-01, 3.47131439e-01, 2.22120026e-01,\n",
       "       6.21326399e-01, 2.96960730e-01, 8.01604434e-01, 6.32415587e-02,\n",
       "       9.83124086e-01, 6.01929562e-01, 9.47148617e-01, 1.12689086e-01,\n",
       "       3.53394768e-01, 9.62100441e-01, 2.49487580e-01, 8.56117942e-01,\n",
       "       8.22521366e-01, 4.43885066e-01, 7.00577736e-01, 6.22057005e-01,\n",
       "       4.11860570e-01, 1.56399348e-01, 1.49429466e-01, 4.35152483e-01,\n",
       "       5.74106135e-01, 6.39930588e-01, 5.11217775e-01, 3.13358177e-01,\n",
       "       4.73314139e-01, 9.20504251e-02, 3.95199487e-01, 7.85923366e-01,\n",
       "       1.07595417e-01, 6.83859505e-01, 4.15268278e-01, 5.81537986e-01,\n",
       "       6.24069575e-01, 6.54596761e-01, 8.63156753e-01, 4.32002028e-01,\n",
       "       1.30307482e-01, 1.48856142e-01, 9.27404191e-01, 9.43007648e-01,\n",
       "       1.45021961e-01, 1.61875270e-01, 5.80496838e-01, 6.41903099e-01,\n",
       "       8.52753109e-01, 4.15918294e-01, 9.94484492e-01, 7.90758525e-01,\n",
       "       7.98774981e-01, 4.00491325e-01, 9.94232071e-01, 1.72353648e-01,\n",
       "       9.57397196e-01, 6.68879066e-01, 7.46929145e-02, 5.95863917e-01,\n",
       "       6.13221706e-01, 7.69256206e-01, 4.89612928e-01, 5.99315310e-02,\n",
       "       3.62232881e-02, 3.33322937e-01, 5.41109482e-01, 8.65827583e-01,\n",
       "       2.55952787e-01, 7.43445375e-01, 3.09803317e-01, 3.30827231e-01,\n",
       "       1.94009548e-02, 5.23554826e-02, 6.61683626e-01, 8.54568862e-01,\n",
       "       9.57070784e-01, 3.28384438e-01, 8.10712756e-01, 9.43035597e-01,\n",
       "       9.98055363e-01, 6.17001751e-01, 7.09858058e-01, 4.31636770e-02,\n",
       "       2.58074548e-01, 6.38386430e-01, 1.90900038e-01, 9.72268581e-01,\n",
       "       6.91250792e-02, 7.98380667e-01, 1.67607687e-01, 3.11059412e-01,\n",
       "       5.76482739e-01, 1.69260184e-01, 2.63471255e-03, 7.38229766e-01,\n",
       "       1.34712848e-01, 7.87175377e-01, 2.76303491e-01, 7.60258681e-01,\n",
       "       4.54266100e-01, 8.57029095e-01, 9.49016973e-01, 4.93818753e-01,\n",
       "       8.86142039e-01, 5.42338479e-01, 1.67036008e-01, 6.55708282e-01,\n",
       "       5.38346993e-01, 4.79091291e-01, 2.92336378e-01, 5.23111766e-01,\n",
       "       3.02097549e-01, 3.53379192e-01, 7.05085978e-01, 4.89483393e-01,\n",
       "       9.68011998e-01, 4.24818587e-01, 2.99300413e-01, 9.87773926e-01,\n",
       "       7.48504630e-01, 1.23848745e-01, 8.71954086e-01, 2.00285604e-01,\n",
       "       5.45148526e-01, 9.60399616e-01, 4.94424523e-01, 3.36745916e-01,\n",
       "       2.24070153e-01, 5.85002044e-01, 4.91014294e-01, 8.03474529e-01,\n",
       "       2.62659555e-01, 5.88670787e-01, 5.91779166e-02, 8.39861297e-01,\n",
       "       1.65081996e-01, 9.98892478e-01, 5.43131392e-01, 7.67741650e-01,\n",
       "       3.62566428e-01, 9.11487694e-01, 1.76641445e-01, 1.24104753e-01,\n",
       "       5.79955348e-01, 4.03271339e-01, 6.85599065e-01, 5.34300068e-01,\n",
       "       5.87137946e-01, 1.55558145e-01, 4.37754096e-01, 2.01127549e-01,\n",
       "       3.68092681e-01, 1.04207864e-01, 6.24808198e-01, 4.76345805e-01,\n",
       "       2.93493133e-01, 4.89446361e-02, 4.62098332e-01, 3.65878240e-01,\n",
       "       8.24114246e-01, 7.07261329e-01, 6.51478378e-01, 4.67160057e-01,\n",
       "       6.27617436e-01, 7.39750433e-01, 7.94060968e-01, 5.50319738e-01,\n",
       "       1.67184827e-01, 6.34154286e-01, 6.46860348e-01, 4.21450873e-02,\n",
       "       2.34305567e-01, 7.39412312e-01, 1.02295350e-01, 4.28822548e-01,\n",
       "       2.24469812e-01, 8.93198931e-01, 8.75478304e-01, 1.59948390e-02,\n",
       "       3.78218117e-01, 3.69181276e-01, 7.47692473e-01, 7.93929018e-01,\n",
       "       4.47153359e-02, 2.06930887e-01, 7.92375118e-01, 7.06844328e-01,\n",
       "       1.00970472e-01, 2.68897445e-02, 4.83231884e-01, 5.81589718e-01,\n",
       "       2.42732912e-01, 4.42659950e-01, 8.55900875e-01, 9.20135991e-01,\n",
       "       7.03660331e-01, 3.00194486e-01, 2.43334506e-01, 2.89808360e-01,\n",
       "       9.39249864e-01, 6.26898654e-01, 8.96820391e-01, 3.30491320e-01,\n",
       "       2.41258751e-01, 8.53045895e-01, 4.77043337e-01, 2.40567525e-02,\n",
       "       8.46769625e-01, 7.90762336e-01, 3.09483830e-01, 3.17376282e-01,\n",
       "       2.52702848e-01, 7.27573595e-01, 5.27980474e-02, 1.98051534e-01,\n",
       "       2.84417223e-01, 5.88837856e-03, 2.60922840e-01, 9.24756217e-01,\n",
       "       4.87303104e-01, 5.13297622e-01, 6.49824847e-01, 6.97221463e-02,\n",
       "       8.18312618e-01, 7.72840260e-01, 9.15439113e-01, 8.33707246e-01,\n",
       "       3.43067706e-01, 7.43220008e-01, 7.88034259e-01, 7.57242762e-01,\n",
       "       5.51252817e-01, 5.16686977e-01, 8.15719895e-01, 9.75132550e-03,\n",
       "       5.81403141e-01, 2.33592966e-01, 3.41494202e-02, 4.90911639e-01,\n",
       "       2.58660345e-01, 7.39231174e-01, 5.54952648e-01, 1.67042793e-01,\n",
       "       5.80930979e-01, 3.95794488e-01, 2.20694496e-01, 7.16897572e-01,\n",
       "       1.68381578e-01, 1.23091441e-01, 3.72790458e-01, 9.97765522e-01,\n",
       "       3.13477323e-01, 2.47227511e-01, 7.84074287e-01, 5.53783549e-01,\n",
       "       8.99951591e-01, 1.68585530e-02, 3.60736838e-01, 6.00673558e-01,\n",
       "       7.92734470e-01, 5.66729758e-01, 4.56261825e-01, 2.60151629e-01,\n",
       "       8.63562815e-01, 6.48491843e-01, 9.71502735e-01, 6.61563721e-01,\n",
       "       7.53175622e-01, 5.69335973e-01, 1.10310900e-01, 1.24504173e-01,\n",
       "       5.88865497e-01, 7.64733708e-01, 2.58087341e-01, 2.32250396e-01,\n",
       "       3.26837611e-01, 9.91499623e-01, 5.52429267e-01, 9.42083747e-01,\n",
       "       9.26852006e-01, 1.40018258e-02, 5.74284031e-01, 2.07940170e-01,\n",
       "       4.56431063e-01, 2.83350201e-01, 2.36899726e-01, 1.55884239e-01,\n",
       "       6.65829011e-01, 3.59170043e-01, 2.05392711e-01, 2.57244560e-01,\n",
       "       1.52432118e-01, 8.68212219e-02, 6.13067956e-01, 4.20259546e-01,\n",
       "       3.17377890e-01, 9.83156944e-01, 1.89633060e-01, 9.16428028e-01,\n",
       "       5.53684255e-01, 5.05059311e-02, 5.27589659e-01, 6.53919211e-01,\n",
       "       2.57793127e-01, 3.74555150e-01, 4.43028954e-01, 7.28668160e-01,\n",
       "       8.76281182e-01, 5.93713260e-01, 5.44153870e-01, 4.30775337e-01,\n",
       "       6.80277204e-01, 7.64833137e-01, 2.44883374e-01, 2.73042752e-01,\n",
       "       8.41898137e-01, 7.97794476e-01, 4.35104942e-01, 7.06408273e-01,\n",
       "       8.63092608e-01, 2.37687052e-01, 8.51756097e-01, 1.31796119e-01,\n",
       "       5.00709856e-02, 9.85573151e-01, 5.41599634e-01, 2.73116877e-01,\n",
       "       3.52127748e-01, 6.41605778e-01, 1.89619985e-01, 2.19807655e-01,\n",
       "       7.64056434e-01, 2.40090748e-01, 8.43279775e-01, 6.26492196e-01,\n",
       "       3.12337247e-01, 2.61680003e-01, 1.78761420e-01, 4.17310248e-01,\n",
       "       3.07320289e-01, 5.62911758e-01, 8.24268754e-01, 1.15528578e-01,\n",
       "       6.56499849e-01, 8.91293390e-01, 6.70971214e-01, 5.45757672e-01,\n",
       "       2.32719170e-01, 8.21271751e-01, 9.85335513e-01, 6.02331933e-01,\n",
       "       7.38719076e-01, 8.90365201e-01, 5.25140165e-01, 4.47643231e-01,\n",
       "       6.57350778e-01, 9.05107891e-01, 3.80756643e-01, 9.73872250e-01,\n",
       "       1.59630431e-02, 5.75279426e-01, 9.26496987e-02, 8.71182641e-01,\n",
       "       3.94884394e-01, 7.96962116e-02, 7.53913367e-01, 3.33818883e-01,\n",
       "       4.29537041e-01, 7.46351164e-01, 4.42458425e-02, 8.38794725e-01,\n",
       "       8.49871624e-01, 4.45556632e-01, 8.51363255e-01, 5.52718994e-01,\n",
       "       8.18882776e-01, 6.12344158e-01, 5.10942696e-01, 5.00163672e-01,\n",
       "       1.54373091e-01, 6.39673784e-01, 3.15787584e-01, 9.78646386e-01,\n",
       "       3.50311441e-01, 1.58767368e-01, 1.59413018e-01, 3.86242331e-01,\n",
       "       5.86366891e-01, 1.26838930e-01, 2.35331533e-01, 9.87690706e-01,\n",
       "       1.45654448e-02, 4.57602631e-01, 9.02289085e-01, 1.55210690e-01,\n",
       "       3.72292745e-01, 6.48494489e-01, 4.32380232e-01, 5.46075776e-02,\n",
       "       7.60097160e-01, 2.23031574e-01, 1.18497900e-01, 7.03887331e-02,\n",
       "       3.95597273e-01, 6.55903301e-01, 8.94665634e-01, 2.49417695e-02,\n",
       "       5.68107459e-01, 4.31921428e-01, 8.40686302e-01, 6.45711801e-01,\n",
       "       1.30922910e-01, 6.84777766e-01, 2.11831511e-01, 8.72245869e-01,\n",
       "       1.37472977e-01, 4.65766647e-01, 4.82891050e-01, 1.96114383e-01,\n",
       "       2.60482331e-01, 3.51169677e-01, 3.48088722e-01, 1.18482318e-02,\n",
       "       7.08353144e-01, 4.35196903e-01, 4.08664349e-01, 3.82597675e-01,\n",
       "       2.55301500e-01, 9.84735394e-01, 7.47256128e-01, 4.17229968e-01,\n",
       "       9.69600658e-01, 8.03522636e-01, 6.89339839e-01, 4.91788505e-01,\n",
       "       7.34512550e-01, 5.51177933e-01, 5.57540012e-01, 9.43709979e-02,\n",
       "       9.72504406e-01, 3.40541547e-01, 4.25425278e-01, 7.15346865e-01,\n",
       "       9.46470284e-01, 6.06275798e-02, 7.73523428e-01, 9.63245885e-01,\n",
       "       2.83525801e-01, 5.63672406e-01, 7.88053138e-01, 1.56638164e-02,\n",
       "       6.57967648e-01, 8.07092599e-01, 8.00588750e-01, 2.48965772e-01,\n",
       "       2.90783327e-01, 1.46042064e-02, 4.69871155e-01, 7.57779496e-01,\n",
       "       3.42332918e-01, 1.13469062e-01, 2.15490628e-01, 8.24866347e-01,\n",
       "       5.56184718e-01, 2.38582997e-01, 1.32174745e-02, 4.83568467e-03,\n",
       "       6.60887848e-01, 1.56538337e-02, 6.35278330e-01, 7.04409734e-01,\n",
       "       2.92815300e-01, 1.77900718e-01, 6.32318533e-01, 4.72027168e-01,\n",
       "       9.93252378e-01, 6.54591182e-01, 5.51990633e-02, 9.48870981e-03,\n",
       "       1.71173470e-01, 7.98960571e-01, 9.75674103e-01, 5.92436223e-01,\n",
       "       9.92053434e-01, 3.06949823e-01, 5.20586709e-01, 5.76818834e-01,\n",
       "       2.25922598e-01, 4.24617801e-01, 5.80048862e-01, 2.63281838e-03])"
      ]
     },
     "execution_count": 20,
     "metadata": {},
     "output_type": "execute_result"
    }
   ],
   "source": [
    "np.random.rand(1000)"
   ]
  },
  {
   "cell_type": "markdown",
   "metadata": {},
   "source": [
    "This generated 1000 random numbers."
   ]
  },
  {
   "cell_type": "code",
   "execution_count": 21,
   "metadata": {},
   "outputs": [],
   "source": [
    "x = np.random.rand(1000)"
   ]
  },
  {
   "cell_type": "code",
   "execution_count": 22,
   "metadata": {
    "scrolled": true
   },
   "outputs": [
    {
     "data": {
      "image/png": "[encoded data removed]",
      "text/plain": [
       "<Figure size 432x288 with 1 Axes>"
      ]
     },
     "metadata": {},
     "output_type": "display_data"
    }
   ],
   "source": [
    "%matplotlib inline\n",
    "\n",
    "import matplotlib.pyplot as plt\n",
    "plt.hist(x)\n",
    "plt.xlabel('continuous variables')\n",
    "plt.ylabel('number of outcomes')\n",
    "plt.show()\n"
   ]
  },
  {
   "cell_type": "markdown",
   "metadata": {},
   "source": [
    "As you can see from the histogram above, the random.rand is uniform with 10 different columns of continuous variables all around the 100 level of outcomes."
   ]
  },
  {
   "cell_type": "markdown",
   "metadata": {},
   "source": [
    "### random.randn"
   ]
  },
  {
   "cell_type": "markdown",
   "metadata": {},
   "source": [
    "The random.randn function is the same as the random.rand as far as being able to give the outcome dimensions and just the ability to generate many random numbers. The only difference is that the random.randn is based on a normal distribution. Please see below histogram based on 5000 outcomes."
   ]
  },
  {
   "cell_type": "markdown",
   "metadata": {},
   "source": [
    "Here are two examples of the random.randn function :"
   ]
  },
  {
   "cell_type": "code",
   "execution_count": 23,
   "metadata": {},
   "outputs": [
    {
     "data": {
      "text/plain": [
       "array([[ 2.80623941e-03,  1.07948923e+00, -8.47665822e-01,\n",
       "        -2.57395988e+00],\n",
       "       [-9.63805924e-01, -5.57080517e-01, -1.42289828e-01,\n",
       "         1.10700696e+00],\n",
       "       [-1.97948206e-01,  1.35381205e+00, -1.05538819e+00,\n",
       "         5.28884975e-01],\n",
       "       [ 3.37716599e+00, -9.33315809e-01, -9.85964436e-01,\n",
       "        -7.72476387e-01]])"
      ]
     },
     "execution_count": 23,
     "metadata": {},
     "output_type": "execute_result"
    }
   ],
   "source": [
    "np.random.randn(4,4)"
   ]
  },
  {
   "cell_type": "markdown",
   "metadata": {},
   "source": [
    "This generated a random array of 4 rows by 4 columns."
   ]
  },
  {
   "cell_type": "code",
   "execution_count": 24,
   "metadata": {},
   "outputs": [],
   "source": [
    "y = np.random.randn(5000)"
   ]
  },
  {
   "cell_type": "code",
   "execution_count": 25,
   "metadata": {
    "scrolled": true
   },
   "outputs": [
    {
     "data": {
      "image/png": "[encoded data removed]",
      "text/plain": [
       "<Figure size 432x288 with 1 Axes>"
      ]
     },
     "metadata": {},
     "output_type": "display_data"
    }
   ],
   "source": [
    "plt.hist(y)\n",
    "plt.xlabel('continuous variables')\n",
    "plt.ylabel('number of outcomes')\n",
    "plt.show()"
   ]
  },
  {
   "cell_type": "markdown",
   "metadata": {},
   "source": [
    "As you csn see from the above histogram, the random.randn returns a normal distribution with the classic bell shape."
   ]
  },
  {
   "cell_type": "markdown",
   "metadata": {},
   "source": [
    "### random.random"
   ]
  },
  {
   "cell_type": "markdown",
   "metadata": {},
   "source": [
    "Random.rand is the same as the random.rand except for how the arguments are handled.In random.rand, the shapes are separate arguments while in the random.random function, the shape argument is a single tuple. https://stackoverflow.com/questions/47231852/np-random-rand-vs-np-random-random"
   ]
  },
  {
   "cell_type": "markdown",
   "metadata": {},
   "source": [
    "Here are two examples of the random.random function :"
   ]
  },
  {
   "cell_type": "code",
   "execution_count": 26,
   "metadata": {},
   "outputs": [
    {
     "data": {
      "text/plain": [
       "0.03339266229432014"
      ]
     },
     "execution_count": 26,
     "metadata": {},
     "output_type": "execute_result"
    }
   ],
   "source": [
    "np.random.random()"
   ]
  },
  {
   "cell_type": "markdown",
   "metadata": {},
   "source": [
    "This generated a single random number from the uniform distribution [0,1)."
   ]
  },
  {
   "cell_type": "code",
   "execution_count": 27,
   "metadata": {},
   "outputs": [],
   "source": [
    "z = np.random.random(5000)"
   ]
  },
  {
   "cell_type": "code",
   "execution_count": 28,
   "metadata": {
    "scrolled": true
   },
   "outputs": [
    {
     "data": {
      "image/png": "[encoded data removed]",
      "text/plain": [
       "<Figure size 432x288 with 1 Axes>"
      ]
     },
     "metadata": {},
     "output_type": "display_data"
    }
   ],
   "source": [
    "plt.hist(z)\n",
    "plt.xlabel('continuous variable')\n",
    "plt.ylabel('number of outcomes')\n",
    "plt.show()\n"
   ]
  },
  {
   "cell_type": "markdown",
   "metadata": {},
   "source": [
    "You can tell from the above histogram that the outcomes show a uniform distribution based on 5000 random numbers."
   ]
  },
  {
   "cell_type": "markdown",
   "metadata": {},
   "source": [
    "## Permutations "
   ]
  },
  {
   "cell_type": "markdown",
   "metadata": {},
   "source": [
    "In mathematics, permutation is defined as the act of arranging all the members of a set into some sequence or order, \n",
    "or if the set is already ordered, rearranging its elements, a process called permuting. https://en.wikipedia.org/wiki/Permutation"
   ]
  }
 ],
 "metadata": {
  "celltoolbar": "Raw Cell Format",
  "kernelspec": {
   "display_name": "Python 3",
   "language": "python",
   "name": "python3"
  },
  "language_info": {
   "codemirror_mode": {
    "name": "ipython",
    "version": 3
   },
   "file_extension": ".py",
   "mimetype": "text/x-python",
   "name": "python",
   "nbconvert_exporter": "python",
   "pygments_lexer": "ipython3",
   "version": "3.6.5"
  }
 },
 "nbformat": 4,
 "nbformat_minor": 2
}
