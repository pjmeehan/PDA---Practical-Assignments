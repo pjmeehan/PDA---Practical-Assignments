{
 "cells": [
  {
   "cell_type": "markdown",
   "metadata": {},
   "source": [
    "# Programming for Data Analysis Practical Assignment\n",
    "***\n",
    "1. Explain the overall purpose of the NumPy package.\n",
    "2. Explain the use of the \"simple random data\" and \"Permutations\" functions.\n",
    "3. Explain the use and purpose of at least five \"Distributions\" functions.\n",
    "4. Explain the use of seeds in generating pseudorandom numbers."
   ]
  },
  {
   "cell_type": "markdown",
   "metadata": {},
   "source": [
    "# 1. Explain the overall purpose of the NumPy package.\n",
    "\n",
    "## NumPy\n",
    "\n",
    "NumPy is a linear algebra library in Python. It is used to perform mathematical and logical operations in arrays.\n",
    "A NumPy array is a grid that contains values of the same type. There are 2 types of arrays :\n",
    "1. Vectors - are one dimensional\n",
    "2. Matrices - are multidimensional\n",
    "\n",
    "Why use NumPy when Python can perform the same function(s)?\n",
    "\n",
    "There are 2 reasons to use NumPy rather than Python, they are :\n",
    "1. NumPy is more efficient, meaning it uses less memory to store data.\n",
    "2. It handles the data from mathematical operations better.\n",
    "\n",
    "It's because of these 2 functions that NumPy is so popular and explains it's purpose. It allows for real life complex data to be used to solve solutions to everyday problems. NumPy is used across many industries as you can see by the following examples. The computer gaming industry uses it for computer generated images, electrical engineers use it to determine the properties of a circuit, medical companies use it for CAT scans and MRIs, the robotic industry uses it to operate robot movements and IT companies use it for tracking user information, to perform search queries and manage databases. These are just a small amount of examples.\n",
    "\n",
    "\n"
   ]
  },
  {
   "cell_type": "markdown",
   "metadata": {},
   "source": [
    "# 2. Explain the use of the \"Simple random data\" and \"Permutations\" functions."
   ]
  },
  {
   "cell_type": "markdown",
   "metadata": {},
   "source": [
    "## Simple Random Data\n",
    "\n",
    "Before I get into the randon fucntion(s) in numpy, I want to explore why anyone would need to generate random numbers. It turns out the use of random numbers is utilized across many industries.. It is used in science, art, statistics, gaming, gambling and other industries.(https://en.wikipedia.org/wiki/Applications_of_randomness). It is used to for encryption, modeling complex phenomena and for selectiing random samples from larger data sets. (https://www.random.org/randomness/).\n",
    "A specific example of the use of random generated numbers comes from the online betting exchange Betfair. In their online help centre, they offer an explanation of \"What are Random Number Generators, and how do they work?\". (https://en-betfair.custhelp.com/app/answers/detail/a_id/158/~/what-are-random-number-generators%2C-and-how-do-they-work%3F). It is very interesting, especially their explanation on the use of 'seeds'. More on seeds at the end of this assignment. But basically, they say it is used to generate numbers that do not have patterns and thus appear to be random. \n",
    "\n",
    "In NumPy, there are several ways to generate simple random data such as rand, randn, and random. They all return random numbers but for different purposes.\n",
    "-_Rand_ creates an array of a specified shape and fills it with random numbers. <br>\n",
    "-_Randn_ creates the same array as Rand but fills it with random values based on the 'standard normal' distribution.(https://www.geeksforgeeks.org/numpy-random-rand-python/). <br>\n",
    "-_Random_ returns an array filled with random numbers in the half open interval \\[0.0,1.0) (https://docs.scipy.org/doc/numpy-1.15.1/reference/generated/numpy.random.sample.html#numpy.random.sample.)<br>\n",
    "\n",
    " Below are examples of each of the three simple random functions and graphs to illustrate the outcomes."
   ]
  },
  {
   "cell_type": "code",
   "execution_count": 6,
   "metadata": {},
   "outputs": [],
   "source": [
    "import numpy as np"
   ]
  },
  {
   "cell_type": "code",
   "execution_count": 7,
   "metadata": {},
   "outputs": [
    {
     "data": {
      "text/plain": [
       "array([[0.29743322, 0.48685711, 0.50207484, 0.79608238, 0.76125708],\n",
       "       [0.57359361, 0.530562  , 0.7025064 , 0.93463279, 0.27401406]])"
      ]
     },
     "execution_count": 7,
     "metadata": {},
     "output_type": "execute_result"
    }
   ],
   "source": [
    "np.random.rand(2,5)"
   ]
  },
  {
   "cell_type": "markdown",
   "metadata": {},
   "source": [
    "This generated a random array of 2 rows by 5 columns."
   ]
  },
  {
   "cell_type": "code",
   "execution_count": 18,
   "metadata": {},
   "outputs": [],
   "source": [
    "x = np.random.rand(5000)"
   ]
  },
  {
   "cell_type": "code",
   "execution_count": 19,
   "metadata": {},
   "outputs": [
    {
     "data": {
      "image/png": "[encoded data removed]",
      "text/plain": [
       "<Figure size 432x288 with 1 Axes>"
      ]
     },
     "metadata": {},
     "output_type": "display_data"
    }
   ],
   "source": [
    "%matplotlib inline\n",
    "\n",
    "import matplotlib.pyplot as plt\n",
    "plt.hist(x)\n",
    "plt.show()\n"
   ]
  },
  {
   "cell_type": "code",
   "execution_count": 10,
   "metadata": {},
   "outputs": [
    {
     "data": {
      "text/plain": [
       "array([[ 0.26190213, -0.69465142,  1.37478834, -0.66560337],\n",
       "       [-1.22003032, -0.17581279,  0.77704831, -0.87512517],\n",
       "       [ 0.42818374,  0.60701425, -1.87777498, -1.25327202],\n",
       "       [ 0.18483908,  2.23229935, -0.32728827,  0.86370174]])"
      ]
     },
     "execution_count": 10,
     "metadata": {},
     "output_type": "execute_result"
    }
   ],
   "source": [
    "np.random.randn(4,4)"
   ]
  },
  {
   "cell_type": "code",
   "execution_count": 11,
   "metadata": {},
   "outputs": [],
   "source": [
    "###This generated a random array of 4 rows by 4 columns."
   ]
  },
  {
   "cell_type": "code",
   "execution_count": 20,
   "metadata": {},
   "outputs": [],
   "source": [
    "y = np.random.randn(5000)"
   ]
  },
  {
   "cell_type": "code",
   "execution_count": 21,
   "metadata": {},
   "outputs": [
    {
     "data": {
      "image/png": "[encoded data removed]",
      "text/plain": [
       "<Figure size 432x288 with 1 Axes>"
      ]
     },
     "metadata": {},
     "output_type": "display_data"
    }
   ],
   "source": [
    "plt.hist(y)\n",
    "plt.show()"
   ]
  },
  {
   "cell_type": "code",
   "execution_count": 14,
   "metadata": {},
   "outputs": [
    {
     "data": {
      "text/plain": [
       "0.16508767112529465"
      ]
     },
     "execution_count": 14,
     "metadata": {},
     "output_type": "execute_result"
    }
   ],
   "source": [
    "np.random.random()"
   ]
  },
  {
   "cell_type": "code",
   "execution_count": 15,
   "metadata": {},
   "outputs": [],
   "source": [
    "###This generated a single random number from the uniform distribution [0,1)."
   ]
  },
  {
   "cell_type": "code",
   "execution_count": 22,
   "metadata": {},
   "outputs": [],
   "source": [
    "z = np.random.random(5000)"
   ]
  },
  {
   "cell_type": "code",
   "execution_count": 23,
   "metadata": {},
   "outputs": [
    {
     "data": {
      "image/png": "[encoded data removed]",
      "text/plain": [
       "<Figure size 432x288 with 1 Axes>"
      ]
     },
     "metadata": {},
     "output_type": "display_data"
    }
   ],
   "source": [
    "plt.hist(z)\n",
    "plt.show()"
   ]
  },
  {
   "cell_type": "code",
   "execution_count": null,
   "metadata": {},
   "outputs": [],
   "source": []
  }
 ],
 "metadata": {
  "celltoolbar": "Raw Cell Format",
  "kernelspec": {
   "display_name": "Python 3",
   "language": "python",
   "name": "python3"
  },
  "language_info": {
   "codemirror_mode": {
    "name": "ipython",
    "version": 3
   },
   "file_extension": ".py",
   "mimetype": "text/x-python",
   "name": "python",
   "nbconvert_exporter": "python",
   "pygments_lexer": "ipython3",
   "version": "3.6.5"
  }
 },
 "nbformat": 4,
 "nbformat_minor": 2
}
