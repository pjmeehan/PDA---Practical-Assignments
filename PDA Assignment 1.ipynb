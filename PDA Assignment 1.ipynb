{
 "cells": [
  {
   "cell_type": "markdown",
   "metadata": {},
   "source": [
    "# Programming for Data Analysis Practical Assignment\n",
    "***\n",
    "1. Explain the overall purpose of the NumPy package.\n",
    "2. Explain the use of the \"simple random data\" and \"Permutations\" functions.\n",
    "3. Explain the use and purpose of at least five \"Distributions\" functions.\n",
    "4. Explain the use of seeds in generating pseudorandom numbers."
   ]
  },
  {
   "cell_type": "markdown",
   "metadata": {},
   "source": [
    "# 1. Explain the overall purpose of the NumPy package.\n",
    "\n",
    "## NumPy\n",
    "\n",
    "NumPy is a linear algebra library in Python. It is used to perform mathematical and logical operations in arrays.\n",
    "A NumPy array is a grid that contains values of the same type. There are 2 types of arrays :\n",
    "1. Vectors - are one dimensional\n",
    "2. Matrices - are multidimensional\n",
    "\n",
    "Why use NumPy when Python can perform the same function(s)?\n",
    "\n",
    "There are 2 reasons to use NumPy rather than Python, they are :\n",
    "1. NumPy is more efficient, meaning it uses less memory to store data.\n",
    "2. It handles the data from mathematical operations better.\n",
    "\n",
    "It's because of these 2 functions that NumPy is so popular and explains it's purpose. It allows for real life complex data to be used to solve solutions to everyday problems. NumPy is used across many industries as you can see by the following examples. The computer gaming industry uses it for computer generated images, electrical engineers use it to determine the properties of a circuit, medical companies use it for CAT scans and MRIs, the robotic industry uses it to operate robot movements and IT companies use it for tracking user information, to perform search queries and manage databases. These are just a small amount of examples.\n",
    "\n",
    "\n"
   ]
  },
  {
   "cell_type": "markdown",
   "metadata": {},
   "source": [
    "# 2. Explain the use of the \"Simple random data\" and \"Permutations\" functions."
   ]
  },
  {
   "cell_type": "markdown",
   "metadata": {},
   "source": [
    "## Simple Random Data\n",
    "\n",
    "Before I get into the randon fucntion(s) in numpy, I want to explore why anyone would need to generate random numbers. It turns out the use of random numbers is utilized across many industries.. It is used in science, art, statistics, gaming, gambling and other industries.(https://en.wikipedia.org/wiki/Applications_of_randomness). It is used to for encryption, modeling complex phenomena and for selectiing random samples from larger data sets. (https://www.random.org/randomness/).\n",
    "A specific example of the use of random generated numbers comes from the online betting exchange Betfair. In their online help centre, they offer an explanation of \"What are Random Number Generators, and how do they work?\". (https://en-betfair.custhelp.com/app/answers/detail/a_id/158/~/what-are-random-number-generators%2C-and-how-do-they-work%3F). It is very interesting, especially their explanation on the use of 'seeds'. More on seeds at the end of this assignment. But basically, they say it is used to generate numbers that do not have patterns and thus appear to be random. \n",
    "\n",
    "In NumPy, there are several ways to generate simple random data such as rand, randn, and random. They all return random numbers but go about it slightly different.<br>\n",
    "*_Rand_ - creates an array of a specified shape and fills it with random numbers from a uniform distribution over \\[0,1). https://docs.scipy.org/doc/numpy-1.15.1/reference/generated/numpy.random.rand.html <br>\n",
    "*_Randn_ - creates the same array as Rand but fills it with random values based on the 'standard normal' distribution.(https://www.geeksforgeeks.org/numpy-random-rand-python/). <br>\n",
    "*_Random_ - returns an array filled with random numbers from a continuous uniform distribution in the half open interval \\[0.0,1.0) (https://docs.scipy.org/doc/numpy-1.15.1/reference/generated/numpy.random.sample.html#numpy.random.sample.)<br>\n",
    "\n",
    " Below are examples of each of the three simple random functions and graphs to illustrate the outcomes."
   ]
  },
  {
   "cell_type": "code",
   "execution_count": 3,
   "metadata": {},
   "outputs": [],
   "source": [
    "import numpy as np"
   ]
  },
  {
   "cell_type": "markdown",
   "metadata": {},
   "source": [
    "### random.rand"
   ]
  },
  {
   "cell_type": "markdown",
   "metadata": {},
   "source": [
    "Random.rand (d0,d1,...dn)is the official function where d is a parameter that gives the array dimension. Example, random.rand(2,3) will return 6 random numbers \\(2*3) with dimensions 2 rows by 3 columns.<br>\n",
    "If you just wanted to generate x amount of numbers you would just enter how many numbers you wanted to generate instead of giving it dimensions. ie random.rand(1000)."
   ]
  },
  {
   "cell_type": "markdown",
   "metadata": {},
   "source": [
    "Here are two examples of the random.rand function :"
   ]
  },
  {
   "cell_type": "code",
   "execution_count": 4,
   "metadata": {},
   "outputs": [
    {
     "data": {
      "text/plain": [
       "array([[0.43563776, 0.77239611, 0.09092543, 0.55240783, 0.00185991],\n",
       "       [0.12971414, 0.75258829, 0.36462951, 0.63099291, 0.28234258]])"
      ]
     },
     "execution_count": 4,
     "metadata": {},
     "output_type": "execute_result"
    }
   ],
   "source": [
    "np.random.rand(2,5)"
   ]
  },
  {
   "cell_type": "markdown",
   "metadata": {},
   "source": [
    "This generated a random array of 2 rows by 5 columns."
   ]
  },
  {
   "cell_type": "code",
   "execution_count": 5,
   "metadata": {},
   "outputs": [
    {
     "data": {
      "text/plain": [
       "array([2.20359090e-01, 8.46951529e-01, 5.31123798e-01, 3.11478660e-01,\n",
       "       8.04400453e-01, 6.25613395e-01, 4.50669892e-01, 3.03072162e-01,\n",
       "       7.11176736e-02, 4.73243121e-01, 3.14227189e-01, 8.11471814e-01,\n",
       "       3.01525858e-01, 6.08274878e-01, 5.08576514e-02, 4.49710858e-01,\n",
       "       7.98003755e-01, 7.45375394e-01, 5.07972160e-02, 7.70557912e-02,\n",
       "       5.61655586e-01, 6.21303829e-01, 2.92729278e-01, 4.73363135e-01,\n",
       "       2.91358869e-01, 9.32963536e-01, 6.89124398e-01, 4.00935571e-01,\n",
       "       9.17630691e-01, 1.70956820e-01, 2.68242873e-01, 2.13102001e-01,\n",
       "       4.00063980e-01, 2.33906555e-01, 1.94725682e-02, 5.62052505e-01,\n",
       "       1.31393640e-01, 3.43466415e-01, 6.79963791e-02, 7.72399685e-01,\n",
       "       8.39548144e-01, 5.42503570e-01, 4.31248461e-01, 2.79702847e-01,\n",
       "       7.52713154e-02, 6.15535251e-03, 9.23200351e-01, 7.73018296e-01,\n",
       "       8.63324362e-01, 2.97627195e-01, 2.52027729e-01, 8.51198588e-01,\n",
       "       5.12039242e-01, 7.00117256e-01, 2.49157195e-01, 2.28632179e-01,\n",
       "       5.99498763e-01, 4.97274124e-01, 2.90765209e-02, 1.83829011e-01,\n",
       "       6.88276732e-01, 9.85327109e-01, 4.04794751e-01, 2.59339200e-02,\n",
       "       8.07548536e-01, 1.76124611e-02, 7.70457423e-01, 1.27378312e-01,\n",
       "       8.19731020e-01, 5.91689674e-01, 1.74761379e-01, 2.56226422e-01,\n",
       "       3.68009397e-01, 8.04428384e-01, 9.25702351e-01, 3.45985710e-01,\n",
       "       2.36413846e-01, 3.54241668e-01, 1.86557007e-01, 3.08166561e-01,\n",
       "       1.88500325e-01, 5.31491808e-01, 7.61629585e-01, 7.08856240e-01,\n",
       "       9.18960190e-01, 7.74670225e-01, 6.49339085e-02, 3.50795086e-01,\n",
       "       8.79532985e-01, 8.37955662e-01, 2.13805945e-01, 3.10985024e-01,\n",
       "       1.80504908e-01, 9.63437482e-02, 2.73063192e-01, 5.21891291e-01,\n",
       "       4.60980576e-01, 9.49828060e-01, 3.97171260e-01, 8.70581690e-01,\n",
       "       9.69753854e-01, 4.92355468e-01, 4.57284734e-01, 3.10789309e-01,\n",
       "       8.00850872e-01, 2.48888830e-01, 4.51417833e-01, 3.79493231e-02,\n",
       "       4.06173570e-01, 1.73679303e-01, 8.88741175e-01, 8.52772937e-01,\n",
       "       5.48118631e-01, 5.04436075e-01, 5.26129725e-01, 3.76832704e-01,\n",
       "       6.95499780e-01, 4.50550791e-02, 5.20482642e-01, 6.09096411e-01,\n",
       "       9.98577121e-01, 6.08748253e-01, 5.34779550e-03, 8.87652868e-01,\n",
       "       4.17938155e-01, 5.53274660e-01, 8.88352739e-01, 1.03430532e-01,\n",
       "       3.42159819e-01, 1.54965698e-01, 5.02734240e-01, 8.22559179e-01,\n",
       "       9.38920171e-01, 3.23623698e-01, 8.47390248e-01, 5.36576265e-01,\n",
       "       4.54723188e-01, 7.44621187e-01, 4.16875239e-01, 8.94652342e-01,\n",
       "       4.85458868e-01, 8.55899161e-01, 1.07733240e-01, 1.89499776e-01,\n",
       "       9.46155189e-01, 6.76569681e-01, 4.41143312e-01, 9.65362707e-01,\n",
       "       8.20409567e-01, 2.86408955e-02, 6.53497338e-01, 2.30150910e-01,\n",
       "       3.61414797e-01, 7.54041353e-01, 4.33379973e-01, 3.10002400e-02,\n",
       "       2.28036258e-01, 1.31753862e-01, 6.39104585e-01, 8.59440902e-01,\n",
       "       3.46255567e-01, 8.59803191e-01, 6.37755352e-01, 4.87755490e-01,\n",
       "       4.81485174e-01, 7.89586150e-01, 7.89582220e-01, 3.87576800e-01,\n",
       "       6.87362775e-01, 8.08290159e-01, 4.28035674e-01, 1.27213906e-01,\n",
       "       4.15599887e-01, 1.19068172e-01, 6.00059134e-01, 9.48488893e-01,\n",
       "       6.66856786e-01, 6.22016785e-01, 4.25883173e-01, 4.90628648e-01,\n",
       "       5.93819903e-01, 7.43504863e-01, 1.56132936e-02, 7.87592904e-01,\n",
       "       8.85658606e-01, 4.06535612e-01, 8.12212729e-01, 3.54377140e-02,\n",
       "       9.69942125e-01, 8.71713812e-01, 3.51189806e-01, 8.19009865e-01,\n",
       "       5.32535174e-01, 9.51327997e-01, 8.00828535e-01, 5.67731890e-01,\n",
       "       5.76414179e-01, 2.55798819e-01, 9.65513254e-01, 3.27437005e-01,\n",
       "       4.20665713e-01, 2.10469162e-01, 7.06058624e-01, 4.17034857e-01,\n",
       "       1.11962265e-01, 6.65771385e-01, 6.63138256e-01, 5.89718851e-01,\n",
       "       6.60237740e-01, 2.01434696e-01, 7.74538500e-02, 4.59605832e-01,\n",
       "       8.61442657e-02, 8.77790882e-01, 3.59225674e-01, 6.00348448e-02,\n",
       "       7.95697841e-01, 3.43920769e-01, 5.46269118e-01, 8.80915781e-01,\n",
       "       5.55641366e-01, 3.16458221e-01, 5.45418458e-01, 4.75444272e-01,\n",
       "       5.09183197e-01, 2.82382421e-01, 7.58927484e-01, 5.33037043e-01,\n",
       "       3.35060890e-01, 4.86495937e-01, 9.16974552e-01, 6.30946008e-01,\n",
       "       1.56574859e-01, 5.55021896e-01, 4.65573542e-01, 9.51562160e-01,\n",
       "       9.56556124e-01, 3.49626910e-02, 7.02809722e-01, 5.17946070e-01,\n",
       "       1.96724673e-03, 2.65789295e-01, 3.59391343e-01, 6.99536807e-02,\n",
       "       4.13220716e-01, 4.82120219e-01, 7.45952044e-01, 8.93708107e-02,\n",
       "       6.11869891e-01, 1.63171191e-02, 7.80785710e-01, 8.73988067e-01,\n",
       "       4.46413052e-01, 5.34057702e-01, 8.07765294e-01, 1.72170763e-01,\n",
       "       3.88279437e-01, 6.35997071e-01, 2.41623753e-01, 5.02282062e-01,\n",
       "       6.11950254e-01, 6.23659651e-01, 2.87354917e-01, 1.20041734e-01,\n",
       "       9.39566211e-01, 7.77123986e-01, 4.14917582e-01, 7.57482973e-01,\n",
       "       5.88368616e-01, 1.21729080e-02, 3.11378114e-01, 4.26274414e-01,\n",
       "       9.63970640e-01, 3.36142772e-01, 7.05430205e-03, 6.72862541e-02,\n",
       "       5.26373533e-01, 6.97544862e-01, 4.10614129e-01, 4.36464883e-02,\n",
       "       8.40422503e-01, 9.32034230e-01, 8.43890115e-01, 4.28488972e-01,\n",
       "       6.07744515e-01, 3.97684273e-01, 6.32823533e-01, 6.59632113e-01,\n",
       "       9.90569330e-01, 5.69659336e-01, 1.15180671e-01, 8.68661180e-01,\n",
       "       2.40848390e-03, 9.71872434e-02, 5.55452893e-02, 1.24107284e-01,\n",
       "       6.11033871e-01, 4.44605632e-02, 8.02192380e-01, 3.98293944e-03,\n",
       "       1.44641952e-01, 3.82541243e-01, 8.41651445e-01, 3.98664431e-01,\n",
       "       1.27642574e-01, 3.76322001e-01, 3.41440491e-01, 2.02141010e-01,\n",
       "       4.93496166e-01, 8.78884844e-01, 4.65833911e-01, 8.97662722e-01,\n",
       "       1.03470367e-01, 8.02245061e-01, 7.73824765e-01, 8.67860974e-01,\n",
       "       9.37465585e-01, 4.55837967e-01, 2.88376655e-01, 2.79266013e-01,\n",
       "       6.49591111e-01, 5.59295116e-01, 5.50000067e-01, 9.49122178e-01,\n",
       "       3.81753007e-01, 4.79454055e-01, 8.84530497e-01, 3.41582155e-01,\n",
       "       9.48481566e-01, 1.78632756e-01, 5.31490983e-01, 7.20154960e-01,\n",
       "       3.95918730e-01, 7.47115305e-01, 4.15140796e-01, 8.68251140e-01,\n",
       "       8.59138729e-01, 1.39894431e-01, 3.26953088e-02, 3.71435516e-02,\n",
       "       7.82873093e-01, 2.24367762e-01, 2.25987630e-01, 8.13746907e-01,\n",
       "       1.44458898e-02, 9.54489713e-01, 6.86017695e-01, 2.65407305e-01,\n",
       "       8.32108832e-02, 6.91705437e-01, 4.13606511e-01, 3.01871160e-01,\n",
       "       9.29430714e-01, 2.88615898e-01, 3.40528693e-01, 5.03532189e-01,\n",
       "       7.53378146e-01, 8.92328262e-01, 4.53930596e-01, 5.99938099e-01,\n",
       "       9.05415310e-01, 2.10961056e-01, 9.46038951e-01, 4.90306476e-01,\n",
       "       4.49354053e-01, 9.80840996e-01, 3.97477523e-01, 3.45195861e-01,\n",
       "       8.17888232e-01, 7.59511455e-01, 8.24277727e-01, 3.18708786e-01,\n",
       "       4.54570841e-01, 7.99766842e-01, 2.23454067e-02, 6.80356266e-01,\n",
       "       5.38349899e-01, 8.44720856e-01, 9.51917278e-02, 9.32625216e-01,\n",
       "       1.49433908e-01, 1.72135014e-01, 2.59877959e-02, 4.17555298e-01,\n",
       "       2.66062885e-01, 7.01373522e-01, 3.32964548e-01, 2.52957737e-01,\n",
       "       7.17136088e-01, 1.82498620e-01, 5.29570165e-01, 6.73427639e-01,\n",
       "       9.05282838e-03, 4.36026187e-01, 6.38833716e-01, 2.76038110e-01,\n",
       "       8.57519234e-01, 8.66598555e-01, 5.19228097e-01, 5.50030664e-01,\n",
       "       3.85888113e-01, 4.32890556e-01, 6.36418422e-01, 8.02381594e-01,\n",
       "       7.20424275e-02, 8.05345206e-01, 2.68764156e-01, 4.07307748e-01,\n",
       "       5.86654950e-01, 2.65637725e-01, 3.06702209e-01, 4.06175839e-01,\n",
       "       4.48571383e-01, 9.99786949e-01, 2.95269789e-01, 8.76325243e-01,\n",
       "       9.56673281e-01, 8.24677610e-01, 5.09447413e-01, 7.35787797e-01,\n",
       "       2.44477341e-01, 5.25947037e-01, 3.41258415e-01, 3.43613806e-01,\n",
       "       2.97235569e-01, 2.28810592e-01, 1.64722533e-01, 7.96586144e-01,\n",
       "       9.67832336e-01, 2.42106221e-01, 2.23541913e-01, 1.68027428e-01,\n",
       "       6.85723903e-01, 4.77871494e-01, 4.96486639e-01, 6.08340498e-01,\n",
       "       8.39510813e-01, 3.44354733e-01, 2.72435558e-01, 5.03956614e-01,\n",
       "       5.39134431e-01, 6.45547216e-01, 6.33778613e-01, 8.79341308e-02,\n",
       "       7.48822557e-01, 1.66110530e-01, 1.82690830e-01, 8.68789696e-01,\n",
       "       5.35641977e-02, 7.42087522e-01, 8.66311759e-01, 8.46715553e-01,\n",
       "       8.83109526e-01, 9.00627250e-01, 8.23777524e-01, 8.29467348e-01,\n",
       "       1.49100740e-01, 8.37257961e-01, 1.36622755e-02, 7.18674048e-01,\n",
       "       1.02057197e-01, 2.50760907e-01, 6.89603605e-01, 6.08937740e-01,\n",
       "       5.25519200e-01, 9.40377485e-01, 1.05676568e-01, 7.00018434e-01,\n",
       "       7.89842681e-02, 6.09593418e-02, 2.37149357e-03, 3.12175739e-01,\n",
       "       9.64109623e-01, 2.84349250e-01, 1.53339735e-01, 9.60405584e-01,\n",
       "       6.14270004e-01, 8.22028884e-01, 5.71467267e-01, 3.35278054e-01,\n",
       "       8.16211149e-01, 5.25223230e-01, 6.89657997e-02, 6.14380310e-01,\n",
       "       2.56688855e-01, 1.67016788e-01, 9.14804836e-01, 9.91379425e-01,\n",
       "       8.05209543e-01, 3.40320512e-01, 7.81513477e-01, 8.08099305e-01,\n",
       "       3.62778666e-01, 6.81843160e-01, 1.29454023e-01, 1.15617332e-01,\n",
       "       5.39114650e-01, 5.47578612e-02, 2.12544229e-02, 7.21459540e-01,\n",
       "       4.87913389e-01, 1.79016720e-01, 8.91046950e-01, 2.74755324e-01,\n",
       "       6.58787291e-01, 5.60010592e-01, 2.15323860e-01, 2.39213632e-02,\n",
       "       2.16389356e-01, 5.07106600e-01, 6.38311763e-02, 6.73826701e-01,\n",
       "       8.19390562e-01, 4.79670727e-01, 3.67094962e-01, 9.09277220e-01,\n",
       "       3.80856116e-02, 8.42724950e-01, 6.13967016e-01, 2.99394282e-01,\n",
       "       1.16584616e-01, 9.38286732e-01, 9.79178867e-01, 3.05831199e-01,\n",
       "       6.47218227e-01, 1.96447182e-01, 7.42930172e-01, 5.37585207e-02,\n",
       "       8.74344685e-01, 2.07319647e-01, 9.45638408e-01, 7.35650987e-01,\n",
       "       5.12802651e-01, 1.12855230e-03, 9.31071582e-01, 3.07056984e-01,\n",
       "       3.66909036e-01, 1.84131310e-01, 4.69299781e-01, 9.88682245e-01,\n",
       "       4.48934025e-01, 9.25378243e-02, 2.60797383e-01, 4.10828164e-01,\n",
       "       3.42018656e-04, 4.29688718e-01, 5.70122843e-01, 8.88873163e-01,\n",
       "       7.85760583e-01, 5.30164968e-01, 3.90738803e-01, 8.63925504e-01,\n",
       "       5.02941086e-01, 8.91309701e-01, 6.11789578e-01, 6.17496805e-01,\n",
       "       2.99029745e-01, 6.60487742e-02, 5.98467669e-02, 1.97819243e-01,\n",
       "       4.68587818e-01, 4.56692288e-01, 7.13506117e-01, 2.86158024e-01,\n",
       "       4.29498030e-01, 5.27475469e-01, 7.92330392e-01, 2.00748043e-01,\n",
       "       6.65982982e-02, 2.04626795e-01, 6.98525411e-01, 8.32220186e-01,\n",
       "       5.31651480e-01, 8.65775371e-01, 4.95915249e-01, 4.54094846e-01,\n",
       "       9.79749466e-01, 1.39648401e-02, 2.44067449e-01, 9.92776853e-01,\n",
       "       4.18060422e-01, 8.02012087e-01, 5.21361399e-01, 5.60090388e-01,\n",
       "       4.59338439e-01, 5.52597683e-01, 1.41159987e-01, 8.44614991e-01,\n",
       "       8.11650242e-03, 7.21350997e-01, 8.02091070e-01, 4.43191796e-01,\n",
       "       8.49929387e-01, 9.66345976e-01, 5.89920076e-01, 2.72520998e-01,\n",
       "       6.48985177e-01, 7.02755387e-01, 5.09783230e-01, 5.69240545e-01,\n",
       "       9.59703089e-01, 4.48879026e-01, 3.03789131e-01, 7.17136993e-01,\n",
       "       6.39553660e-02, 9.33782591e-01, 8.26506412e-01, 4.71046727e-01,\n",
       "       9.92300486e-01, 2.17557977e-01, 8.52244054e-01, 5.15307717e-01,\n",
       "       8.57460713e-01, 3.57304131e-01, 8.99120355e-01, 2.96575990e-01,\n",
       "       9.18887164e-01, 5.94369220e-01, 9.22752027e-01, 4.08759797e-01,\n",
       "       9.59841643e-02, 4.42750525e-01, 1.12316365e-04, 4.89605820e-01,\n",
       "       3.02192430e-01, 4.97846611e-01, 3.49771623e-01, 7.22418092e-01,\n",
       "       2.87730406e-01, 6.53131370e-01, 1.59790814e-01, 1.25757386e-01,\n",
       "       4.18260962e-01, 6.81992152e-01, 7.80056360e-01, 5.95999227e-01,\n",
       "       4.04967998e-01, 1.32767826e-01, 1.72652264e-01, 9.03100029e-01,\n",
       "       2.70360566e-01, 1.42312393e-01, 7.01087254e-01, 1.95915379e-01,\n",
       "       2.95926738e-01, 1.34388120e-01, 7.55288446e-01, 6.45540440e-01,\n",
       "       2.23639920e-01, 9.84139671e-01, 9.81816402e-01, 8.86816106e-02,\n",
       "       5.52884456e-01, 1.33655077e-01, 3.96095290e-01, 7.01030091e-01,\n",
       "       3.15886090e-01, 7.58018349e-01, 7.58660162e-01, 1.33441479e-01,\n",
       "       9.15022941e-01, 5.78304690e-01, 6.52896950e-01, 7.68067890e-01,\n",
       "       5.27243119e-01, 9.89264694e-03, 7.70568003e-01, 8.31364820e-01,\n",
       "       4.17253817e-01, 6.36641703e-02, 5.88486660e-01, 1.03239878e-02,\n",
       "       5.18824700e-02, 7.79248234e-01, 2.19787464e-01, 5.69984526e-01,\n",
       "       8.57466658e-02, 3.99582370e-01, 4.53187251e-01, 7.55669218e-01,\n",
       "       3.06608734e-02, 7.30337291e-01, 4.25611057e-01, 1.58222617e-01,\n",
       "       7.24907977e-01, 6.83883748e-01, 7.18848524e-01, 5.34304951e-01,\n",
       "       7.52212006e-01, 9.41617997e-01, 1.29978958e-01, 1.52483355e-01,\n",
       "       2.81044958e-01, 1.54321323e-01, 8.07722568e-01, 6.16371212e-01,\n",
       "       3.64731527e-01, 7.30258092e-01, 7.84186175e-01, 2.99353345e-01,\n",
       "       1.44904223e-01, 3.61970256e-01, 6.81582514e-02, 6.23870484e-01,\n",
       "       4.62326041e-01, 1.71815153e-01, 5.50565627e-01, 2.80898652e-01,\n",
       "       4.08733376e-01, 6.72264005e-01, 9.14633369e-01, 6.85905049e-01,\n",
       "       6.34534902e-01, 6.94737249e-01, 5.26301494e-01, 3.03083684e-01,\n",
       "       6.77257500e-01, 9.38042775e-01, 3.05012529e-01, 8.54576884e-01,\n",
       "       9.03449584e-01, 7.58664379e-01, 5.30902420e-01, 6.68881461e-01,\n",
       "       6.79160352e-01, 5.87531288e-01, 2.19036172e-01, 5.40606256e-01,\n",
       "       9.33200771e-01, 8.65717311e-01, 3.30834324e-01, 1.43642769e-01,\n",
       "       8.47930736e-02, 8.17004602e-01, 1.59732758e-01, 4.27606751e-01,\n",
       "       5.14440049e-01, 9.99623007e-01, 7.78093930e-01, 5.56172769e-01,\n",
       "       6.33272583e-01, 7.17491738e-01, 6.91784049e-01, 6.11729618e-02,\n",
       "       7.71971808e-01, 6.15474349e-01, 3.62649081e-01, 5.09605614e-02,\n",
       "       9.67149570e-01, 9.79396641e-01, 9.31253336e-01, 6.08904621e-01,\n",
       "       1.92272077e-01, 6.47181155e-01, 3.03764386e-01, 4.93387274e-01,\n",
       "       2.27162352e-02, 5.27812553e-01, 8.42319527e-01, 6.00691859e-01,\n",
       "       2.29140840e-01, 8.25110642e-01, 9.16547290e-01, 9.84324355e-01,\n",
       "       1.50859504e-01, 9.69824277e-01, 5.36298396e-01, 1.09902260e-01,\n",
       "       2.37555601e-01, 6.32253603e-01, 9.84278446e-01, 9.45138427e-01,\n",
       "       3.83148241e-01, 7.22628934e-01, 3.94452731e-01, 1.70899319e-01,\n",
       "       5.46047469e-01, 9.70907794e-01, 6.16099694e-02, 6.16246238e-01,\n",
       "       1.36135715e-01, 4.66567996e-01, 6.20034360e-01, 1.68201276e-01,\n",
       "       6.76535777e-01, 4.01622278e-01, 7.58759633e-01, 5.49611041e-02,\n",
       "       6.25635705e-01, 5.12414674e-01, 2.25572963e-01, 8.89014405e-01,\n",
       "       8.66194178e-01, 3.20132373e-01, 2.64102451e-01, 9.30326226e-01,\n",
       "       2.43151650e-01, 8.79750966e-01, 5.47343418e-02, 5.30519049e-01,\n",
       "       8.47292103e-01, 2.81058952e-01, 4.35942561e-01, 1.02489730e-01,\n",
       "       7.76096593e-01, 6.68404132e-01, 4.18595816e-01, 6.22318672e-01,\n",
       "       1.35634293e-01, 8.04316202e-01, 1.82769524e-01, 8.08494966e-01,\n",
       "       1.18420257e-01, 6.60047091e-02, 3.85313905e-01, 2.84377376e-01,\n",
       "       7.68933985e-02, 7.48471973e-01, 6.10473727e-01, 7.43160607e-01,\n",
       "       5.22281210e-02, 6.40018035e-01, 7.38218318e-01, 3.07703904e-01,\n",
       "       1.17807726e-01, 8.86489827e-01, 4.26652941e-01, 2.83643417e-01,\n",
       "       7.27465276e-02, 6.55333364e-01, 4.95353069e-02, 7.00445998e-02,\n",
       "       7.78316313e-02, 7.40256779e-01, 8.15868703e-01, 8.53592801e-01,\n",
       "       2.98012830e-02, 6.60777148e-01, 1.71227972e-01, 1.88923169e-01,\n",
       "       4.76547771e-01, 6.05835327e-01, 7.13397533e-01, 9.24736843e-01,\n",
       "       5.64343099e-01, 5.48183735e-01, 2.26917813e-01, 3.35587629e-01,\n",
       "       7.62065681e-01, 8.11968358e-01, 1.95810141e-01, 9.66468625e-01,\n",
       "       5.84198615e-03, 5.54449949e-01, 9.78185244e-01, 1.32068225e-01,\n",
       "       7.03588734e-01, 6.46566213e-01, 4.37645463e-01, 8.87103974e-01,\n",
       "       1.26589906e-01, 1.57625969e-01, 6.71823750e-01, 3.11798730e-01,\n",
       "       4.20034643e-01, 6.66863658e-01, 8.81311101e-01, 6.38383136e-01,\n",
       "       3.35843044e-01, 1.49466488e-01, 6.54537153e-01, 9.65309811e-01,\n",
       "       6.81956532e-01, 3.58986702e-01, 8.53383038e-01, 1.03500269e-01,\n",
       "       9.94107809e-01, 8.28214837e-01, 1.85470792e-01, 4.65022153e-01,\n",
       "       5.21826639e-02, 1.38070977e-01, 9.83650941e-02, 8.73679303e-01,\n",
       "       3.96046606e-01, 2.69804147e-01, 7.95288118e-01, 7.01430420e-01,\n",
       "       7.66226753e-01, 7.03488736e-01, 9.94754729e-02, 7.24665475e-01,\n",
       "       6.23932483e-01, 6.32525466e-01, 2.19160913e-01, 2.67858438e-01,\n",
       "       3.81493473e-01, 5.86948686e-01, 5.80616098e-01, 7.02043152e-01,\n",
       "       7.62357379e-01, 6.34923045e-01, 7.15401774e-01, 5.83311693e-01,\n",
       "       2.71963539e-01, 3.12387449e-01, 8.59750095e-01, 9.41273590e-01,\n",
       "       4.10170846e-01, 7.85832304e-01, 4.66856336e-01, 7.65055598e-02,\n",
       "       5.32994267e-01, 8.13429490e-01, 2.68919047e-01, 8.92377792e-01,\n",
       "       8.59351773e-01, 6.97455444e-01, 9.62905979e-01, 2.73848010e-01,\n",
       "       9.57199507e-01, 4.44680689e-01, 4.42210871e-01, 2.08398367e-01,\n",
       "       7.03867872e-01, 4.17599917e-01, 6.95341708e-01, 5.52697344e-01,\n",
       "       2.98837994e-02, 8.02746349e-01, 1.99069973e-01, 9.48470245e-01,\n",
       "       7.10225843e-01, 6.82272323e-01, 8.61344467e-01, 9.77675639e-01,\n",
       "       5.26898207e-01, 1.69068849e-01, 2.06109757e-01, 5.30839012e-01,\n",
       "       6.02045690e-01, 3.82203671e-01, 6.08359453e-01, 1.97355448e-02,\n",
       "       4.13426193e-01, 7.00336710e-01, 1.52463551e-01, 1.81384977e-01,\n",
       "       4.46779168e-01, 9.47336378e-02, 3.92300001e-01, 9.39857759e-01,\n",
       "       7.92581410e-01, 3.96188946e-01, 1.45099696e-01, 3.50379410e-01,\n",
       "       5.00283001e-01, 9.51748378e-01, 7.43108292e-01, 5.23344980e-01,\n",
       "       6.07965588e-01, 4.30501761e-02, 7.89894517e-01, 5.70126075e-01,\n",
       "       1.85730122e-02, 4.74073210e-01, 4.75197358e-01, 3.32838990e-01,\n",
       "       8.15831814e-01, 5.83689953e-01, 1.21188959e-01, 4.29822721e-01,\n",
       "       7.47993928e-01, 7.41774069e-01, 2.31655687e-01, 1.13931806e-02,\n",
       "       2.08991964e-01, 7.77781564e-01, 8.48239817e-01, 2.67088528e-02,\n",
       "       4.61784116e-01, 6.92009247e-01, 3.32341128e-01, 9.60346366e-02,\n",
       "       4.26226420e-01, 5.59778608e-01, 7.96612914e-02, 6.42158164e-01,\n",
       "       9.29468611e-01, 3.80037530e-01, 3.35498674e-01, 3.50699972e-01,\n",
       "       9.38333773e-01, 6.54238366e-02, 2.94123095e-01, 8.70733607e-01,\n",
       "       6.88264830e-02, 3.53299365e-01, 1.62003047e-01, 5.32831925e-01])"
      ]
     },
     "execution_count": 5,
     "metadata": {},
     "output_type": "execute_result"
    }
   ],
   "source": [
    "np.random.rand(1000)"
   ]
  },
  {
   "cell_type": "markdown",
   "metadata": {},
   "source": [
    "This generated 1000 random numbers."
   ]
  },
  {
   "cell_type": "code",
   "execution_count": 6,
   "metadata": {},
   "outputs": [],
   "source": [
    "x = np.random.rand(1000)"
   ]
  },
  {
   "cell_type": "code",
   "execution_count": 7,
   "metadata": {
    "scrolled": true
   },
   "outputs": [
    {
     "data": {
      "image/png": "[encoded data removed]",
      "text/plain": [
       "<Figure size 432x288 with 1 Axes>"
      ]
     },
     "metadata": {},
     "output_type": "display_data"
    }
   ],
   "source": [
    "%matplotlib inline\n",
    "\n",
    "import matplotlib.pyplot as plt\n",
    "plt.style.use('seaborn-whitegrid')\n",
    "plt.hist(x)\n",
    "plt.xlabel('continuous variables')\n",
    "plt.ylabel('number of outcomes')\n",
    "plt.show()\n"
   ]
  },
  {
   "cell_type": "markdown",
   "metadata": {},
   "source": [
    "As you can see from the histogram above, the random.rand is uniform with 10 different columns of continuous variables all around the 100 level of outcomes."
   ]
  },
  {
   "cell_type": "markdown",
   "metadata": {},
   "source": [
    "### random.randn"
   ]
  },
  {
   "cell_type": "markdown",
   "metadata": {},
   "source": [
    "The random.randn function is the same as the random.rand as far as being able to give the outcome dimensions and the ability to generate just many random numbers. The only difference is that the random.randn is based on a normal distribution. Please see below histogram based on 5000 outcomes."
   ]
  },
  {
   "cell_type": "markdown",
   "metadata": {},
   "source": [
    "Here are two examples of the random.randn function :"
   ]
  },
  {
   "cell_type": "code",
   "execution_count": 8,
   "metadata": {},
   "outputs": [
    {
     "data": {
      "text/plain": [
       "array([[-0.71397599,  0.92315088,  0.85723723,  0.34658957],\n",
       "       [ 0.07822585, -0.02661883, -0.16220439, -0.02781268],\n",
       "       [ 1.4974966 , -0.83184333, -1.20613434, -0.13707335],\n",
       "       [-0.1189725 , -0.52971191, -0.070159  ,  1.62014345]])"
      ]
     },
     "execution_count": 8,
     "metadata": {},
     "output_type": "execute_result"
    }
   ],
   "source": [
    "np.random.randn(4,4)"
   ]
  },
  {
   "cell_type": "markdown",
   "metadata": {},
   "source": [
    "This generated a random array of 4 rows by 4 columns."
   ]
  },
  {
   "cell_type": "code",
   "execution_count": 9,
   "metadata": {},
   "outputs": [],
   "source": [
    "y = np.random.randn(5000)"
   ]
  },
  {
   "cell_type": "code",
   "execution_count": 10,
   "metadata": {
    "scrolled": true
   },
   "outputs": [
    {
     "data": {
      "image/png": "[encoded data removed]",
      "text/plain": [
       "<Figure size 432x288 with 1 Axes>"
      ]
     },
     "metadata": {},
     "output_type": "display_data"
    }
   ],
   "source": [
    "plt.style.use('seaborn-whitegrid')\n",
    "plt.hist(y)\n",
    "plt.xlabel('continuous variables')\n",
    "plt.ylabel('number of outcomes')\n",
    "plt.show()"
   ]
  },
  {
   "cell_type": "markdown",
   "metadata": {},
   "source": [
    "As you csn see from the above histogram, the random.randn returns a normal distribution with the classic bell shape."
   ]
  },
  {
   "cell_type": "markdown",
   "metadata": {},
   "source": [
    "### random.random"
   ]
  },
  {
   "cell_type": "markdown",
   "metadata": {},
   "source": [
    "Random.rand is the same as the random.rand except for how the arguments are handled.In random.rand, the shapes are separate arguments while in the random.random function, the shape argument is a single tuple. https://stackoverflow.com/questions/47231852/np-random-rand-vs-np-random-random"
   ]
  },
  {
   "cell_type": "markdown",
   "metadata": {},
   "source": [
    "Here are two examples of the random.random function :"
   ]
  },
  {
   "cell_type": "code",
   "execution_count": 11,
   "metadata": {},
   "outputs": [
    {
     "data": {
      "text/plain": [
       "0.7829918712553361"
      ]
     },
     "execution_count": 11,
     "metadata": {},
     "output_type": "execute_result"
    }
   ],
   "source": [
    "np.random.random()"
   ]
  },
  {
   "cell_type": "markdown",
   "metadata": {},
   "source": [
    "This generated a single random number from the uniform distribution [0,1)."
   ]
  },
  {
   "cell_type": "code",
   "execution_count": 12,
   "metadata": {},
   "outputs": [],
   "source": [
    "z = np.random.random(5000)"
   ]
  },
  {
   "cell_type": "code",
   "execution_count": 13,
   "metadata": {
    "scrolled": true
   },
   "outputs": [
    {
     "data": {
      "image/png": "[encoded data removed]",
      "text/plain": [
       "<Figure size 432x288 with 1 Axes>"
      ]
     },
     "metadata": {},
     "output_type": "display_data"
    }
   ],
   "source": [
    "plt.style.use('seaborn-whitegrid')\n",
    "plt.hist(z)\n",
    "plt.xlabel('continuous variable')\n",
    "plt.ylabel('number of outcomes')\n",
    "plt.show()\n"
   ]
  },
  {
   "cell_type": "markdown",
   "metadata": {},
   "source": [
    "You can tell from the above histogram that the outcomes show a uniform distribution based on 5000 random numbers."
   ]
  },
  {
   "cell_type": "markdown",
   "metadata": {},
   "source": [
    "## Permutations "
   ]
  },
  {
   "cell_type": "markdown",
   "metadata": {},
   "source": [
    "In mathematics, permutation is defined as the act of arranging all the members of a set into some sequence or order, \n",
    "or if the set is already ordered, rearranging its elements, a process called permuting. https://en.wikipedia.org/wiki/Permutation"
   ]
  },
  {
   "cell_type": "code",
   "execution_count": 14,
   "metadata": {},
   "outputs": [
    {
     "data": {
      "text/plain": [
       "array([3, 4, 1, 0, 2])"
      ]
     },
     "execution_count": 14,
     "metadata": {},
     "output_type": "execute_result"
    }
   ],
   "source": [
    "np.random.permutation(5)"
   ]
  },
  {
   "cell_type": "code",
   "execution_count": 15,
   "metadata": {},
   "outputs": [
    {
     "data": {
      "text/plain": [
       "array([[0, 1],\n",
       "       [4, 5],\n",
       "       [2, 3]])"
      ]
     },
     "execution_count": 15,
     "metadata": {},
     "output_type": "execute_result"
    }
   ],
   "source": [
    "ar = np.arange(6).reshape((3,2))\n",
    "np.random.permutation(ar)"
   ]
  },
  {
   "cell_type": "markdown",
   "metadata": {},
   "source": [
    "# 3. Explain the use and purpose of at least five \"Distributions\" functions."
   ]
  },
  {
   "cell_type": "markdown",
   "metadata": {},
   "source": [
    "## Distributions"
   ]
  },
  {
   "cell_type": "markdown",
   "metadata": {},
   "source": [
    "Distribution, as defined in statistics, is a listing or function showing all the possible values (or intervals) of the data and how often they occur.(https://www.dummies.com/education/math/statistics/what-the-distribution-tells-you-about-a-statistical-data-set/)"
   ]
  },
  {
   "cell_type": "markdown",
   "metadata": {},
   "source": [
    "The main purpose of distributions is that they can be used as a shorthand for describinng and calculating related quantities, such as likelihhods of observations, and plotting the relationship between observations in the domain. (https://machinelearningmastery.com/statistical-data-distributions/)"
   ]
  },
  {
   "cell_type": "markdown",
   "metadata": {},
   "source": [
    "There are many types of distribtions and below we will look at 5 of the most common. They are the normal distribution, the uniform distribution, the exponential distribution, the poisson distribution and the binomial distribution."
   ]
  },
  {
   "cell_type": "markdown",
   "metadata": {},
   "source": [
    "### Normal Distribution"
   ]
  },
  {
   "cell_type": "markdown",
   "metadata": {},
   "source": [
    "The normal distribution, also known as the Gaussian distribution, is a probability distribution that is symmetric about the mean, showing that data near the mean are more frequent in occurrence than data far from the mean. (https://www.investopedia.com/terms/n/normaldistribution.asp)"
   ]
  },
  {
   "cell_type": "markdown",
   "metadata": {},
   "source": [
    "In numpy, the normal distribution function is defined as : numpy.random.normal(*loc*, *scale*, *size*).\n",
    "*loc* is the mean (centre) of the distribution, *scale* is the standard deviation (spread) of the distribution and \n",
    "*size* is the output shape. (https://docs.scipy.org/doc/numpy-1.15.1/reference/generated/numpy.random.normal.html#numpy.random.normal)"
   ]
  },
  {
   "cell_type": "code",
   "execution_count": 16,
   "metadata": {},
   "outputs": [
    {
     "data": {
      "text/plain": [
       "array([-0.08432722, -0.0703986 , -0.02471241, -0.00035967, -0.02050295,\n",
       "       -0.08233767,  0.01361214, -0.1145482 , -0.148352  ,  0.01284902])"
      ]
     },
     "execution_count": 16,
     "metadata": {},
     "output_type": "execute_result"
    }
   ],
   "source": [
    "np.random.normal(0,0.1,10)"
   ]
  },
  {
   "cell_type": "code",
   "execution_count": 17,
   "metadata": {},
   "outputs": [],
   "source": [
    "nd = np.random.normal(0,0.1,1000)"
   ]
  },
  {
   "cell_type": "code",
   "execution_count": 18,
   "metadata": {},
   "outputs": [
    {
     "data": {
      "image/png": "[encoded data removed]",
      "text/plain": [
       "<Figure size 432x288 with 1 Axes>"
      ]
     },
     "metadata": {},
     "output_type": "display_data"
    }
   ],
   "source": [
    "plt.style.use('seaborn-whitegrid')\n",
    "plt.hist(nd)\n",
    "plt.xlabel('continuous variable')\n",
    "plt.ylabel('number of outcomes')\n",
    "plt.show()"
   ]
  },
  {
   "cell_type": "markdown",
   "metadata": {},
   "source": [
    "As you can see from the above histogram, most of the data are near the mean (0)."
   ]
  },
  {
   "cell_type": "markdown",
   "metadata": {},
   "source": [
    "### Uniform Distribution"
   ]
  },
  {
   "cell_type": "markdown",
   "metadata": {},
   "source": [
    "The uniform distribution is a continuous distribution. It is a probability distribution that has a constant probability.\n",
    "It is also known as the rectangular distribution. The distribution is defined by two parameters, a and b. It is written as U(a,b). (https://www.statisticshowto.datasciencecentral.com/uniform-distribution/)"
   ]
  },
  {
   "cell_type": "code",
   "execution_count": 19,
   "metadata": {},
   "outputs": [
    {
     "data": {
      "text/plain": [
       "array([0.93010259, 0.43350739, 0.66969072, 0.9485593 , 0.56838   ,\n",
       "       0.86556218, 0.34604801, 0.36683357, 0.50419564, 0.33105191])"
      ]
     },
     "execution_count": 19,
     "metadata": {},
     "output_type": "execute_result"
    }
   ],
   "source": [
    "np.random.uniform(0,1,10)"
   ]
  },
  {
   "cell_type": "code",
   "execution_count": 20,
   "metadata": {},
   "outputs": [],
   "source": [
    "ud = np.random.uniform(0,1,1000)"
   ]
  },
  {
   "cell_type": "code",
   "execution_count": 21,
   "metadata": {},
   "outputs": [
    {
     "data": {
      "image/png": "[encoded data removed]",
      "text/plain": [
       "<Figure size 432x288 with 1 Axes>"
      ]
     },
     "metadata": {},
     "output_type": "display_data"
    }
   ],
   "source": [
    "plt.style.use('seaborn-whitegrid')\n",
    "plt.hist(ud)\n",
    "plt.xlabel('continuous variable')\n",
    "plt.ylabel('number of outcomes')\n",
    "plt.show()"
   ]
  },
  {
   "cell_type": "markdown",
   "metadata": {},
   "source": [
    "As you can see from the above histogram, the uniform distribution takes the shape of a rectangle."
   ]
  },
  {
   "cell_type": "markdown",
   "metadata": {},
   "source": [
    "### Exponetial Distribution"
   ]
  },
  {
   "cell_type": "code",
   "execution_count": null,
   "metadata": {},
   "outputs": [],
   "source": []
  },
  {
   "cell_type": "markdown",
   "metadata": {},
   "source": [
    "The exponential distribution (also known as the negative distribution) describes the time until some specific events occur. A popular example is the time before an earthquake takes place. Another example might be how many days before a car battery runs out. The exponential distribution is widely used in the field of reliability. Reliability deals with the amount of time a product lasts. (https://courses.lumenlearning.com/introstats1/chapter/the-exponential-distribution/)"
   ]
  },
  {
   "cell_type": "code",
   "execution_count": 22,
   "metadata": {},
   "outputs": [
    {
     "data": {
      "text/plain": [
       "array([0.84127364, 2.19357675, 3.93660411, 1.24806821, 0.86545505,\n",
       "       0.90159663, 0.79178663, 0.68460718, 1.30180159, 0.01290132])"
      ]
     },
     "execution_count": 22,
     "metadata": {},
     "output_type": "execute_result"
    }
   ],
   "source": [
    "np.random.exponential(1.0, 10)"
   ]
  },
  {
   "cell_type": "code",
   "execution_count": 23,
   "metadata": {},
   "outputs": [],
   "source": [
    "ed = np.random.exponential(1.0, 1000)"
   ]
  },
  {
   "cell_type": "code",
   "execution_count": 24,
   "metadata": {},
   "outputs": [
    {
     "data": {
      "image/png": "[encoded data removed]",
      "text/plain": [
       "<Figure size 432x288 with 1 Axes>"
      ]
     },
     "metadata": {},
     "output_type": "display_data"
    }
   ],
   "source": [
    "plt.style.use('seaborn-whitegrid')\n",
    "plt.hist(ed)\n",
    "plt.xlabel('continuous variable')\n",
    "plt.ylabel('number of outcomes')\n",
    "plt.show()"
   ]
  },
  {
   "cell_type": "markdown",
   "metadata": {},
   "source": [
    "### Poisson Distribution"
   ]
  },
  {
   "cell_type": "markdown",
   "metadata": {},
   "source": [
    "The poisson distribution is the discrete probability distribution of the number of events occurring in a given time period, given the average number of times the event occurs over that time period.(https://brilliant.org/wiki/poisson-distribution/)\n",
    "\n",
    "The poisson distribution is applied in many ways such as rare diseases, car accidents and the failure of a machine in a month. (https://www.intmath.com/counting-probability/13-poisson-probability-distribution.php)\n",
    "\n"
   ]
  },
  {
   "cell_type": "code",
   "execution_count": 25,
   "metadata": {},
   "outputs": [
    {
     "data": {
      "text/plain": [
       "array([3, 0, 1, 1, 1, 1, 2, 2, 1, 0])"
      ]
     },
     "execution_count": 25,
     "metadata": {},
     "output_type": "execute_result"
    }
   ],
   "source": [
    "np.random.poisson(1.0,10)"
   ]
  },
  {
   "cell_type": "code",
   "execution_count": 26,
   "metadata": {},
   "outputs": [],
   "source": [
    "pd = np.random.poisson(1.0,1000)"
   ]
  },
  {
   "cell_type": "code",
   "execution_count": 28,
   "metadata": {},
   "outputs": [
    {
     "data": {
      "image/png": "[encoded data removed]",
      "text/plain": [
       "<Figure size 432x288 with 1 Axes>"
      ]
     },
     "metadata": {},
     "output_type": "display_data"
    }
   ],
   "source": [
    "plt.style.use('seaborn-whitegrid')\n",
    "plt.hist(pd)\n",
    "plt.xlabel('discrete variable')\n",
    "plt.ylabel('number of outcomes')\n",
    "plt.show()"
   ]
  },
  {
   "cell_type": "markdown",
   "metadata": {},
   "source": [
    "As expected in the above poisson histogram, the events start to decline right around the mean, (1.0)."
   ]
  },
  {
   "cell_type": "markdown",
   "metadata": {},
   "source": [
    "### Binomial Distribution"
   ]
  },
  {
   "cell_type": "markdown",
   "metadata": {},
   "source": [
    "The binomial distribution can be thought of as simply the probability of a SUCCESS or FAILURE outcome in an experiment or survey that is repeated multiple times. The binomial is a type of distribution that has two possible outcomes.(https://www.statisticshowto.datasciencecentral.com/probability-and-statistics/binomial-theorem/binomial-distribution-formula/)"
   ]
  },
  {
   "cell_type": "markdown",
   "metadata": {},
   "source": [
    "Examples of binomial distribution are where there are only two possible results such as a baby's gender."
   ]
  },
  {
   "cell_type": "code",
   "execution_count": 31,
   "metadata": {},
   "outputs": [
    {
     "data": {
      "text/plain": [
       "array([1, 1, 0, 0, 1, 1, 0, 1, 0, 0, 1, 1, 1, 0, 1, 1, 0, 1, 1, 1, 0, 0,\n",
       "       1, 1, 1, 0, 1, 1, 0, 1, 0, 0, 0, 1, 0, 0, 0, 0, 0, 1, 1, 0, 1, 0,\n",
       "       0, 1, 1, 0, 1, 0, 1, 1, 1, 1, 1, 1, 1, 0, 1, 1, 1, 1, 0, 0, 0, 1,\n",
       "       1, 0, 1, 1, 1, 0, 1, 1, 1, 1, 1, 0, 0, 0, 1, 0, 0, 0, 1, 0, 0, 0,\n",
       "       0, 1, 1, 1, 1, 1, 1, 1, 0, 0, 1, 1])"
      ]
     },
     "execution_count": 31,
     "metadata": {},
     "output_type": "execute_result"
    }
   ],
   "source": [
    "np.random.binomial(1,0.5,100)"
   ]
  },
  {
   "cell_type": "code",
   "execution_count": 35,
   "metadata": {},
   "outputs": [],
   "source": [
    "bd = np.random.binomial(1.0,0.5,1000)"
   ]
  },
  {
   "cell_type": "code",
   "execution_count": 36,
   "metadata": {},
   "outputs": [
    {
     "data": {
      "image/png": "[encoded data removed]",
      "text/plain": [
       "<Figure size 432x288 with 1 Axes>"
      ]
     },
     "metadata": {},
     "output_type": "display_data"
    }
   ],
   "source": [
    "plt.style.use('seaborn-whitegrid')\n",
    "plt.hist(bd)\n",
    "plt.xlabel('discrete variable')\n",
    "plt.ylabel('number of outcomes')\n",
    "plt.show()"
   ]
  },
  {
   "cell_type": "markdown",
   "metadata": {},
   "source": [
    "As expected from the probability of the event being true set to 0.5, the reults are pretty much equal.\n"
   ]
  },
  {
   "cell_type": "markdown",
   "metadata": {},
   "source": [
    "The Poisson distribution is related to the exponential distribution. Suppose an event can occur several times within a \n",
    "given unit of time. When the total number of occurrences of the event is unknown, we can think of it as a random variable. \n",
    "This random variable has a Poisson distribution if the time elapsed between two successive occurrences of the event has an exponential distribution and it is independent of previous occurrences."
   ]
  },
  {
   "cell_type": "markdown",
   "metadata": {},
   "source": [
    "# 4. Explain the use of seeds in generating pseudo random numbers."
   ]
  },
  {
   "cell_type": "markdown",
   "metadata": {},
   "source": [
    "First, lets define what pseudo random numbers are. Pseudo random numbers are a set of values or elements that is statistically random, but it is derived from a known starting point and is typically repeated over and over. Pseudo-random numbers provide necessary values for processes that require randomness. (https://www.pcmag.com/encyclopedia/term/49914/pseudo-random-numbers)"
   ]
  }
 ],
 "metadata": {
  "celltoolbar": "Raw Cell Format",
  "kernelspec": {
   "display_name": "Python 3",
   "language": "python",
   "name": "python3"
  },
  "language_info": {
   "codemirror_mode": {
    "name": "ipython",
    "version": 3
   },
   "file_extension": ".py",
   "mimetype": "text/x-python",
   "name": "python",
   "nbconvert_exporter": "python",
   "pygments_lexer": "ipython3",
   "version": "3.6.5"
  }
 },
 "nbformat": 4,
 "nbformat_minor": 2
}
