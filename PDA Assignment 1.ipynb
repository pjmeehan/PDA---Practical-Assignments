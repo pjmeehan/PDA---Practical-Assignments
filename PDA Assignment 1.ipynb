{
 "cells": [
  {
   "cell_type": "markdown",
   "metadata": {},
   "source": [
    "# Programming for Data Analysis Practical Assignment\n",
    "1. Explain the overall purpose of the NumPy package.\n",
    "2. Explain the use of the \"simple random data\" and \"Permutations\" functions.\n",
    "3. Explain the use and purpose of at least five \"Distributions\" functions.\n",
    "4. Explain the use of seeds in generating pseudorandom numbers."
   ]
  },
  {
   "cell_type": "markdown",
   "metadata": {},
   "source": [
    "# 1. Explain the overall purpose of the NumPy package.\n",
    "\n",
    "## NumPy\n",
    "\n",
    "NumPy is a linear algebra library in Python. It is used to perform mathematical and logical operations in arrays.\n",
    "A NumPy array is a grid that contains values of the same type. There are 2 types of arrays :\n",
    "1. Vectors - are one dimensional\n",
    "2. Matrices - are multidimensional\n",
    "\n",
    "Why use NumPy when Python can perform the same function(s)?\n",
    "\n",
    "There are 2 reasons to use NumPy rather than Python, they are :\n",
    "1. NumPy is more efficient, meaning it uses less memory to store data.\n",
    "2. It handles the data from mathematical operations better.\n",
    "\n",
    "It's because of these 2 functions that NumPy is so popular and explains it's purpose. It allows for real life complex data to be used to solve solutions to everyday problems. NumPy is used across many industries as you can see by the following examples. The computer gaming industry uses it for computer generated images, electrical engineers use it to determine the properties of a circuit, medical companies use it for CAT scans and MRIs, the robotic industry uses it to operate robot movements and IT companies use it for tracking user information, to perform search queries and manage databases. These are just a small amount of examples.\n",
    "\n",
    "\n"
   ]
  },
  {
   "cell_type": "code",
   "execution_count": 1,
   "metadata": {},
   "outputs": [],
   "source": [
    "#2. Explain the use of the \"Simple random data\" and \"Permutations\" functions."
   ]
  },
  {
   "cell_type": "code",
   "execution_count": 2,
   "metadata": {},
   "outputs": [],
   "source": [
    "## Simple Random Data"
   ]
  },
  {
   "cell_type": "code",
   "execution_count": 3,
   "metadata": {},
   "outputs": [],
   "source": [
    "import numpy as np"
   ]
  },
  {
   "cell_type": "code",
   "execution_count": 4,
   "metadata": {},
   "outputs": [
    {
     "data": {
      "text/plain": [
       "array([[0.52829255, 0.10540809],\n",
       "       [0.00220028, 0.78308759],\n",
       "       [0.03992174, 0.25981634]])"
      ]
     },
     "execution_count": 4,
     "metadata": {},
     "output_type": "execute_result"
    }
   ],
   "source": [
    "np.random.rand(3,2)"
   ]
  },
  {
   "cell_type": "code",
   "execution_count": null,
   "metadata": {},
   "outputs": [],
   "source": []
  }
 ],
 "metadata": {
  "kernelspec": {
   "display_name": "Python 3",
   "language": "python",
   "name": "python3"
  },
  "language_info": {
   "codemirror_mode": {
    "name": "ipython",
    "version": 3
   },
   "file_extension": ".py",
   "mimetype": "text/x-python",
   "name": "python",
   "nbconvert_exporter": "python",
   "pygments_lexer": "ipython3",
   "version": "3.6.5"
  }
 },
 "nbformat": 4,
 "nbformat_minor": 2
}
