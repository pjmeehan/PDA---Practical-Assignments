{
 "cells": [
  {
   "cell_type": "markdown",
   "metadata": {},
   "source": [
    "# Programming for Data Analysis Practical Assignment\n",
    "***\n",
    "1. Explain the overall purpose of the NumPy package.\n",
    "2. Explain the use of the \"simple random data\" and \"Permutations\" functions.\n",
    "3. Explain the use and purpose of at least five \"Distributions\" functions.\n",
    "4. Explain the use of seeds in generating pseudorandom numbers."
   ]
  },
  {
   "cell_type": "markdown",
   "metadata": {},
   "source": [
    "# 1. Explain the overall purpose of the NumPy package.\n",
    "\n",
    "## NumPy\n",
    "\n",
    "NumPy is a linear algebra library in Python. It is used to perform mathematical and logical operations in arrays.\n",
    "A NumPy array is a grid that contains values of the same type.(https://towardsdatascience.com/lets-talk-about-numpy-for-datascience-beginners-b8088722309f) There are 2 types of arrays :\n",
    "\n",
    "1. Vectors - are one dimensional\n",
    "2. Matrices - are multidimensional\n",
    "\n",
    "Why use NumPy when Python can perform the same function(s)?\n",
    "\n",
    "There are 2 reasons to use NumPy rather than Python, they are :\n",
    "1. NumPy is more efficient, meaning it uses less memory to store data.\n",
    "2. It handles the data from mathematical operations better.\n",
    "\n",
    "It's because of these 2 functions that NumPy is so popular and explains it's purpose. It allows for real life complex data to be used to solve solutions to everyday problems. NumPy is used across many industries such as the computer gaming industry, which uses it for computer generated images, electrical engineers use it to determine the properties of a circuit, medical companies use it for CAT scans and MRIs, the robotic industry uses it to operate robot movements and IT companies use it for tracking user information, to perform search queries and manage databases. These are just a small amount of examples.\n",
    "\n",
    "\n"
   ]
  },
  {
   "cell_type": "markdown",
   "metadata": {},
   "source": [
    "# 2. Explain the use of the \"Simple random data\" and \"Permutations\" functions."
   ]
  },
  {
   "cell_type": "markdown",
   "metadata": {},
   "source": [
    "## Simple Random Data\n",
    "\n",
    "Before I get into the randon fucntion(s) in numpy, I want to explore why anyone would need to generate random numbers. It turns out the use of random numbers is utilized across many industries.. It is used in science, art, statistics, gaming, gambling and other industries.(https://en.wikipedia.org/wiki/Applications_of_randomness). It is used to for encryption, modeling complex phenomena and for selecting random samples from larger data sets. (https://www.random.org/randomness/).\n",
    "A specific example of the use of random generated numbers comes from the online betting exchange Betfair. In their online help centre, they offer an explanation of \"What are Random Number Generators, and how do they work?\". (https://en-betfair.custhelp.com/app/answers/detail/a_id/158/~/what-are-random-number-generators%2C-and-how-do-they-work%3F). It is very interesting, especially their explanation on the use of 'seeds'. More on seeds at the end of this assignment. But basically, they say it is used to generate numbers that do not have patterns and thus appear to be random. \n",
    "\n",
    "In NumPy, there are several ways to generate simple random data such as rand, randn, and random. They all return random numbers but go about it slightly different.<br>\n",
    "*_Rand_ - creates an array of a specified shape and fills it with random numbers from a uniform distribution over \\[0.0,1.0). (https://docs.scipy.org/doc/numpy-1.15.1/reference/generated/numpy.random.rand.html) <br>\n",
    "*_Randn_ - creates the same array as _Rand_ but fills it with random values based on the 'standard normal' distribution.(https://www.geeksforgeeks.org/numpy-random-rand-python).<br>\n",
    "_Random_ - returns an array filled with random numbers from a continuous uniform distribution in the half open interval \\[0.0,1.0) (https://docs.scipy.org/doc/numpy-1.15.1/reference/generated/numpy.random.sample.html#numpy.random.sample.)<br>\n",
    "\n",
    " Below are examples of three simple random functions, (rand, randn and random) and histographs to illustrate their outcomes."
   ]
  },
  {
   "cell_type": "code",
   "execution_count": 4,
   "metadata": {},
   "outputs": [],
   "source": [
    "import numpy as np"
   ]
  },
  {
   "cell_type": "markdown",
   "metadata": {},
   "source": [
    "### random.rand"
   ]
  },
  {
   "cell_type": "markdown",
   "metadata": {},
   "source": [
    "Random.rand (d0,d1,...dn)is the random function where d is a parameter that gives the array dimension. Example, random.rand(2,3) will return 6 random numbers \\(2*3) with dimensions 2 rows by 3 columns.<br>\n",
    "If you just wanted to generate x amount of numbers you would just enter how many numbers you wanted to generate instead of giving it dimensions. ie random.rand(1000)."
   ]
  },
  {
   "cell_type": "markdown",
   "metadata": {},
   "source": [
    "Here are two examples of the random.rand function :"
   ]
  },
  {
   "cell_type": "markdown",
   "metadata": {},
   "source": [
    "The first example shows how to generate 10 random numbers in an array with two rows and five columns."
   ]
  },
  {
   "cell_type": "code",
   "execution_count": 5,
   "metadata": {
    "scrolled": true
   },
   "outputs": [
    {
     "data": {
      "text/plain": [
       "array([[0.48297403, 0.5475308 , 0.71172802, 0.61101553, 0.72904746],\n",
       "       [0.67316893, 0.5623733 , 0.04304542, 0.50970754, 0.23603544]])"
      ]
     },
     "execution_count": 5,
     "metadata": {},
     "output_type": "execute_result"
    }
   ],
   "source": [
    "np.random.rand(2,5)"
   ]
  },
  {
   "cell_type": "markdown",
   "metadata": {},
   "source": [
    "The second example shows how to generate a defined amount of random numbers without specifying dimensions. In this example\n",
    "we choose 1000 random numbers."
   ]
  },
  {
   "cell_type": "code",
   "execution_count": 6,
   "metadata": {},
   "outputs": [
    {
     "data": {
      "text/plain": [
       "array([6.57526860e-01, 7.24600055e-01, 1.23393864e-01, 6.44392935e-01,\n",
       "       7.07967303e-01, 3.20750430e-01, 8.01828685e-01, 1.20429795e-01,\n",
       "       8.92925224e-02, 8.73647969e-01, 8.94265632e-01, 6.84853085e-01,\n",
       "       2.51099439e-01, 6.38637946e-01, 1.95506996e-01, 5.96498277e-01,\n",
       "       3.56643644e-01, 4.12439870e-01, 6.35673841e-01, 5.20482942e-01,\n",
       "       9.84822693e-02, 6.75802278e-01, 3.19040036e-01, 5.16269917e-01,\n",
       "       4.62108429e-01, 9.92067835e-01, 5.02585041e-01, 7.87606072e-01,\n",
       "       2.30625739e-01, 2.99281135e-01, 5.05527484e-01, 1.74446266e-01,\n",
       "       9.29129318e-01, 9.33782998e-01, 6.23109954e-01, 9.36011804e-01,\n",
       "       7.58110341e-01, 1.66464989e-02, 5.78066986e-01, 8.07676947e-01,\n",
       "       7.19904633e-01, 8.02377142e-01, 6.55412884e-02, 3.16043654e-01,\n",
       "       4.64205554e-02, 8.29883157e-01, 7.75131107e-01, 4.54431949e-01,\n",
       "       3.08910136e-01, 2.57488444e-01, 5.50126676e-01, 9.36447621e-01,\n",
       "       2.48773016e-01, 5.97642101e-02, 2.05670153e-01, 3.93569527e-01,\n",
       "       3.23769529e-01, 8.70664798e-01, 9.55502089e-01, 8.98112110e-01,\n",
       "       2.06257371e-01, 3.08265621e-01, 2.20883999e-01, 9.00508685e-03,\n",
       "       5.99533170e-01, 2.54940723e-02, 1.91828763e-01, 6.19711243e-02,\n",
       "       7.15198203e-01, 2.17789787e-02, 6.99649683e-01, 1.20673865e-02,\n",
       "       8.79992128e-02, 9.91131403e-01, 9.56959648e-01, 2.74254145e-02,\n",
       "       2.46894128e-01, 8.85921134e-01, 2.09492225e-01, 6.48669898e-01,\n",
       "       8.95845962e-01, 4.96130635e-01, 7.79826363e-01, 5.79928494e-01,\n",
       "       6.55002410e-01, 6.43295727e-01, 8.68734186e-01, 5.34754399e-01,\n",
       "       1.45869827e-01, 7.11777015e-01, 8.68768812e-01, 8.32490206e-01,\n",
       "       3.30669248e-01, 6.37141594e-01, 5.86943486e-01, 3.60274093e-01,\n",
       "       1.65916897e-01, 5.94250515e-01, 4.75329152e-01, 3.97679596e-01,\n",
       "       8.05421493e-01, 7.30575953e-02, 1.46583414e-01, 1.52914205e-01,\n",
       "       1.31706191e-01, 4.69920955e-01, 3.01995938e-01, 3.64396389e-01,\n",
       "       7.80955854e-01, 1.52529974e-01, 5.77578781e-01, 9.10126195e-01,\n",
       "       2.11869608e-01, 5.44428134e-01, 8.45182498e-01, 4.29557116e-02,\n",
       "       6.13754465e-01, 2.68132123e-01, 1.19205471e-02, 6.28243379e-01,\n",
       "       3.70976539e-01, 6.92449414e-01, 3.83343585e-01, 6.26259838e-02,\n",
       "       2.74771840e-02, 6.02057356e-01, 6.21068642e-01, 2.78963349e-02,\n",
       "       9.62152927e-01, 8.70078250e-01, 8.92804548e-01, 4.84897395e-01,\n",
       "       2.49183691e-01, 1.93271066e-01, 7.97044839e-01, 4.15879097e-01,\n",
       "       4.35534442e-01, 1.29162865e-02, 3.30126929e-01, 1.59826374e-02,\n",
       "       8.20137547e-02, 6.35110706e-01, 4.27788937e-01, 5.27186138e-01,\n",
       "       7.85069824e-01, 5.28800758e-01, 1.42275535e-01, 1.21787473e-01,\n",
       "       3.91337667e-01, 7.23429590e-01, 9.43872435e-02, 3.40387122e-01,\n",
       "       6.46902733e-01, 9.37623490e-02, 5.41881595e-02, 3.79164952e-01,\n",
       "       2.48093758e-01, 4.56575558e-01, 8.70498109e-02, 9.32456417e-01,\n",
       "       5.20235333e-01, 8.77740887e-01, 2.33376404e-01, 1.15527651e-01,\n",
       "       8.99608456e-02, 5.98727541e-01, 9.19441351e-01, 4.79345322e-02,\n",
       "       1.25001352e-01, 4.98194273e-01, 5.49181949e-02, 4.55681347e-01,\n",
       "       2.28041583e-01, 1.10518564e-01, 6.43855378e-01, 7.85550910e-01,\n",
       "       6.04670793e-01, 4.35457944e-01, 9.76179354e-01, 7.94658356e-01,\n",
       "       1.87501502e-01, 7.26810233e-01, 7.59240420e-01, 8.48625080e-02,\n",
       "       9.84415599e-01, 1.35632844e-02, 7.79675521e-01, 4.97342008e-01,\n",
       "       4.32454049e-01, 1.03296505e-01, 7.15820491e-01, 1.43085210e-01,\n",
       "       1.45080087e-01, 2.01982639e-01, 6.09148082e-01, 3.12515466e-01,\n",
       "       3.66173799e-01, 5.52998793e-01, 9.05930570e-01, 3.38034293e-01,\n",
       "       6.68557786e-01, 2.39552485e-01, 3.28163702e-01, 4.53065866e-01,\n",
       "       3.98259509e-01, 4.98889832e-01, 5.28132852e-01, 5.14660999e-01,\n",
       "       8.76889858e-01, 5.44522934e-01, 3.59102021e-01, 5.07603758e-01,\n",
       "       6.35033150e-01, 1.58401399e-01, 4.09890705e-01, 6.33130266e-01,\n",
       "       6.75239431e-01, 2.74258223e-01, 8.74926422e-02, 4.83361152e-01,\n",
       "       4.36818053e-01, 6.17214698e-01, 7.33662935e-01, 6.74387879e-01,\n",
       "       4.72044843e-01, 6.76475171e-01, 6.03401819e-01, 2.21253375e-01,\n",
       "       3.52588489e-01, 9.81143282e-01, 2.45074205e-01, 8.69336499e-01,\n",
       "       4.43729062e-01, 9.58998290e-02, 8.06866427e-01, 9.37147807e-01,\n",
       "       6.34274296e-01, 7.33842798e-01, 4.07227377e-01, 3.08861053e-01,\n",
       "       1.42939936e-01, 7.09267712e-01, 1.60388848e-01, 4.57350212e-01,\n",
       "       1.24201636e-01, 8.31623220e-01, 9.76781362e-01, 4.97133685e-01,\n",
       "       1.36155697e-01, 1.20476815e-01, 1.52894682e-01, 4.60133912e-01,\n",
       "       5.23631981e-01, 9.88633335e-01, 4.30575702e-01, 4.23486615e-01,\n",
       "       9.68825558e-01, 8.31587692e-01, 9.67999103e-01, 7.52939038e-01,\n",
       "       3.18762215e-01, 2.53699572e-01, 6.84530915e-01, 8.91945238e-01,\n",
       "       4.09254299e-01, 2.35731980e-02, 5.05926915e-01, 4.30343333e-01,\n",
       "       2.06651154e-01, 5.65564842e-01, 6.19228029e-01, 4.58292474e-01,\n",
       "       4.52329748e-01, 6.69691898e-02, 7.76958966e-01, 7.18532407e-01,\n",
       "       3.98192113e-01, 1.84008922e-01, 7.13224281e-01, 7.90726372e-01,\n",
       "       2.28719048e-01, 5.17371290e-01, 4.81927884e-01, 1.71332719e-01,\n",
       "       4.52460671e-01, 9.14017638e-01, 2.40588822e-01, 8.62736426e-01,\n",
       "       1.26390999e-01, 7.38437033e-01, 3.70300846e-01, 4.98759322e-01,\n",
       "       2.57435006e-01, 2.39263019e-01, 7.02028105e-01, 5.91530578e-01,\n",
       "       5.00844188e-01, 2.83787563e-01, 7.42053764e-01, 1.01408910e-01,\n",
       "       7.44761097e-03, 2.88708970e-01, 2.91410111e-01, 4.29031515e-01,\n",
       "       8.54601049e-02, 8.91574077e-01, 5.61379600e-01, 4.63609524e-01,\n",
       "       9.48510990e-01, 6.67347072e-01, 3.23022419e-01, 4.49295468e-01,\n",
       "       2.91793575e-01, 8.87863473e-01, 4.38228880e-01, 2.77906425e-01,\n",
       "       3.24391147e-01, 4.56221965e-01, 9.30031326e-01, 2.72282613e-01,\n",
       "       5.87219800e-01, 9.09293286e-02, 5.31364288e-01, 5.90005680e-01,\n",
       "       4.07054375e-01, 6.30223938e-02, 1.23050690e-01, 8.12495094e-01,\n",
       "       4.86931555e-01, 6.77159546e-01, 3.93490379e-03, 9.85126505e-01,\n",
       "       6.68918345e-01, 5.78970680e-01, 5.95362579e-01, 9.47079951e-01,\n",
       "       5.18680428e-01, 2.25690518e-01, 8.94024902e-01, 7.85018071e-01,\n",
       "       5.37960588e-01, 8.07665150e-01, 3.60327088e-01, 1.59258679e-02,\n",
       "       8.60417700e-01, 2.53337830e-01, 4.00329532e-02, 6.24506443e-01,\n",
       "       4.47855923e-01, 5.22241194e-01, 2.24004200e-02, 4.95037578e-01,\n",
       "       5.00392959e-01, 6.33212374e-01, 2.49383865e-01, 4.27675934e-01,\n",
       "       5.03716615e-02, 3.92646920e-01, 7.13000835e-01, 7.08867543e-01,\n",
       "       3.72979694e-01, 6.49423786e-01, 9.68024460e-01, 5.13662942e-01,\n",
       "       1.49347267e-01, 3.07827702e-01, 4.92981212e-01, 8.64805691e-01,\n",
       "       1.55931981e-02, 5.36797034e-01, 4.99635203e-01, 3.94410837e-01,\n",
       "       9.31698527e-01, 5.00303710e-01, 7.01078279e-01, 1.52883309e-01,\n",
       "       8.89925768e-01, 5.67449934e-01, 1.66157623e-01, 3.89425473e-01,\n",
       "       1.80849867e-01, 5.77209344e-01, 9.74720560e-01, 3.54202720e-01,\n",
       "       5.34865590e-01, 7.21809258e-01, 9.33670387e-01, 4.54057809e-01,\n",
       "       7.87287496e-01, 7.49160897e-01, 4.23134181e-01, 4.42095981e-01,\n",
       "       1.95061121e-01, 4.32205341e-03, 7.28537790e-01, 8.73702112e-01,\n",
       "       6.54630138e-01, 6.68268485e-01, 6.60839073e-01, 4.89951032e-01,\n",
       "       2.01549221e-01, 5.78208034e-01, 7.58015741e-02, 9.13621485e-01,\n",
       "       4.17269372e-01, 2.96499593e-01, 9.29458308e-01, 6.78663089e-01,\n",
       "       9.95012022e-01, 7.50160647e-01, 3.38530094e-01, 8.44883264e-01,\n",
       "       5.05289238e-01, 6.58657601e-02, 4.28351029e-01, 4.01802478e-02,\n",
       "       3.72722679e-01, 7.12638930e-01, 2.10169914e-01, 7.24083898e-01,\n",
       "       7.58487624e-01, 6.89184069e-01, 4.90331722e-01, 7.79373328e-02,\n",
       "       2.99470739e-01, 7.45720677e-01, 3.59880559e-01, 7.09782800e-01,\n",
       "       2.95800773e-01, 4.22051924e-02, 9.28572684e-01, 8.02549042e-01,\n",
       "       2.03583118e-01, 2.07289475e-01, 3.28474371e-01, 4.96040524e-01,\n",
       "       8.81327469e-01, 4.99868693e-01, 7.69242292e-01, 8.62846912e-01,\n",
       "       8.21484813e-01, 2.37993405e-01, 1.27170443e-01, 2.25585178e-01,\n",
       "       2.39842553e-01, 8.49766029e-01, 2.03586014e-01, 3.88395495e-01,\n",
       "       4.93923501e-01, 3.14602646e-01, 5.95528426e-01, 2.06464950e-01,\n",
       "       9.43643587e-01, 1.83868114e-01, 4.06445014e-01, 6.14927107e-01,\n",
       "       4.98987041e-01, 6.42563690e-01, 7.90494015e-01, 2.09752861e-01,\n",
       "       3.82479846e-01, 1.32036323e-01, 4.44137306e-01, 2.53849011e-01,\n",
       "       4.93937697e-01, 3.25067184e-01, 4.39857002e-01, 2.66735435e-01,\n",
       "       5.25865605e-01, 2.82046290e-01, 4.30438151e-01, 9.65901692e-02,\n",
       "       8.64084526e-01, 6.09855363e-01, 3.73253411e-01, 2.35801286e-01,\n",
       "       9.22090694e-01, 1.21344921e-01, 5.65840506e-01, 5.13453316e-01,\n",
       "       9.38379705e-01, 8.13279644e-01, 3.20887451e-01, 5.68088895e-01,\n",
       "       3.78565622e-02, 5.19885744e-01, 4.03715539e-01, 2.49946805e-01,\n",
       "       7.73819904e-01, 3.72068249e-01, 1.82070904e-01, 8.16442574e-01,\n",
       "       9.50351609e-02, 7.77879210e-01, 8.97978901e-01, 7.81364761e-01,\n",
       "       7.51248984e-01, 9.82304568e-01, 9.24824477e-01, 9.39792193e-01,\n",
       "       8.06992307e-01, 6.71657770e-01, 9.31324827e-01, 3.59556679e-01,\n",
       "       4.25434703e-01, 1.13025333e-01, 5.01310361e-02, 7.00774464e-02,\n",
       "       3.14527289e-01, 7.54455869e-01, 2.39309992e-01, 1.24808484e-01,\n",
       "       5.62150814e-01, 3.58589950e-02, 9.46023845e-01, 7.22285415e-01,\n",
       "       5.20298404e-01, 3.40340225e-01, 3.27500015e-01, 5.41292388e-01,\n",
       "       5.31732573e-01, 6.47587520e-01, 9.45099393e-01, 3.17814936e-01,\n",
       "       4.41479419e-01, 9.61718267e-01, 3.67971969e-02, 5.90256381e-01,\n",
       "       7.61412577e-01, 7.54275088e-01, 6.83136842e-01, 8.86398614e-01,\n",
       "       7.05135212e-01, 1.20802449e-01, 1.36568817e-01, 7.40019271e-02,\n",
       "       9.34124682e-01, 7.24618479e-01, 8.55299017e-01, 5.68207831e-01,\n",
       "       6.46436208e-01, 1.96280962e-01, 8.85981590e-01, 4.45125910e-01,\n",
       "       5.72450522e-01, 7.93730739e-01, 3.94519730e-01, 4.98851819e-01,\n",
       "       7.93161776e-01, 9.69251182e-01, 6.46260500e-01, 4.80086204e-01,\n",
       "       6.75936440e-01, 2.11712640e-01, 7.87643223e-01, 3.16975741e-01,\n",
       "       6.19057335e-01, 6.13734238e-01, 3.11565249e-01, 1.94167043e-01,\n",
       "       7.05055904e-01, 3.44485510e-01, 5.60531868e-01, 2.93638570e-01,\n",
       "       5.74873970e-01, 2.38724130e-01, 8.15598835e-01, 5.37841376e-01,\n",
       "       2.54750493e-01, 4.20918777e-01, 2.12584011e-01, 1.30520743e-01,\n",
       "       7.36720793e-01, 2.31945516e-02, 2.01525529e-01, 1.74919886e-01,\n",
       "       4.71431592e-01, 6.79395924e-02, 6.79944219e-02, 8.82385736e-01,\n",
       "       9.73189435e-01, 1.93440285e-01, 1.09645113e-01, 1.46534870e-02,\n",
       "       1.69245306e-01, 1.24119782e-01, 7.30237860e-01, 2.72791725e-01,\n",
       "       5.35374956e-01, 3.69580857e-01, 1.44058751e-01, 8.72438838e-01,\n",
       "       3.76851822e-01, 7.03596918e-01, 6.75150775e-01, 3.03041098e-01,\n",
       "       1.05260474e-01, 6.83097870e-01, 9.14082862e-01, 3.33676958e-01,\n",
       "       5.95206931e-01, 1.35410375e-01, 5.58018931e-01, 8.90108197e-01,\n",
       "       1.46500558e-01, 1.09631706e-01, 6.58210904e-01, 5.16494383e-01,\n",
       "       2.93107062e-01, 9.11038066e-02, 1.37954264e-01, 9.25728690e-01,\n",
       "       3.73183793e-01, 3.05968701e-01, 8.91555555e-01, 7.64168555e-01,\n",
       "       6.58442915e-01, 7.40796728e-01, 3.34369665e-01, 2.31356606e-01,\n",
       "       7.01113612e-02, 4.27812140e-01, 3.55883194e-01, 9.61982294e-01,\n",
       "       2.82399742e-01, 4.26813334e-01, 4.97350542e-01, 8.37006309e-01,\n",
       "       6.40437927e-02, 1.39297823e-01, 8.82603123e-01, 1.81406578e-02,\n",
       "       9.88496706e-01, 6.68572329e-01, 2.72732547e-01, 9.94508555e-01,\n",
       "       7.17626766e-01, 6.76768120e-01, 6.72978369e-01, 4.67086588e-01,\n",
       "       4.98199191e-03, 3.75698935e-01, 3.14820482e-01, 1.94478190e-02,\n",
       "       2.50258802e-01, 2.36301975e-01, 6.04432459e-02, 9.12167096e-01,\n",
       "       1.04514846e-01, 9.39282607e-01, 2.93687820e-01, 7.86391954e-01,\n",
       "       1.43383805e-01, 8.26615483e-01, 1.34377827e-01, 6.52704114e-02,\n",
       "       1.37258851e-01, 5.09833465e-01, 2.37857228e-01, 9.26449414e-01,\n",
       "       1.47939163e-01, 6.32422272e-02, 3.07928925e-01, 5.43728731e-01,\n",
       "       9.25165693e-01, 4.01034946e-01, 2.76709665e-01, 5.08316150e-01,\n",
       "       1.32765919e-01, 4.35906495e-01, 7.59254201e-01, 9.82105653e-01,\n",
       "       2.05033385e-01, 7.25331946e-01, 9.65649607e-01, 1.26407124e-01,\n",
       "       5.29923209e-01, 8.24191614e-01, 1.14063846e-01, 2.10848770e-01,\n",
       "       6.53487884e-01, 7.07248707e-01, 3.31547438e-01, 7.44730335e-01,\n",
       "       7.30076981e-01, 2.81357128e-01, 9.32158860e-01, 6.48494985e-01,\n",
       "       5.01620772e-01, 9.70618742e-01, 4.23400532e-01, 2.34099599e-01,\n",
       "       8.99241053e-01, 9.58610805e-01, 8.19954116e-01, 7.66297958e-02,\n",
       "       2.24820104e-01, 2.92182163e-01, 4.99938506e-01, 6.72599725e-01,\n",
       "       2.44200198e-01, 8.01127577e-01, 8.69724925e-01, 7.46516356e-01,\n",
       "       9.29830100e-01, 3.23634319e-01, 6.31126070e-01, 8.46964974e-01,\n",
       "       4.28194304e-01, 4.79266238e-01, 3.74955578e-01, 9.15607771e-02,\n",
       "       4.96056923e-01, 9.59352799e-01, 5.15375812e-01, 9.07798307e-01,\n",
       "       1.57836783e-01, 9.63446970e-01, 3.55834157e-01, 2.22306001e-01,\n",
       "       4.96377421e-01, 2.82952863e-01, 8.50934839e-03, 7.98088659e-01,\n",
       "       8.53510975e-01, 6.50398975e-01, 4.61926794e-01, 1.22282684e-01,\n",
       "       2.23748102e-01, 5.02779882e-01, 1.31663978e-01, 8.89989700e-01,\n",
       "       5.54059048e-01, 8.64023039e-01, 5.35998352e-01, 2.20872400e-01,\n",
       "       4.40540955e-01, 2.30160827e-01, 3.77063012e-01, 8.15346657e-01,\n",
       "       6.66229105e-01, 6.13579115e-01, 5.88879606e-01, 6.76847339e-01,\n",
       "       2.64526901e-01, 1.62939901e-01, 4.49361246e-01, 1.95521340e-01,\n",
       "       2.95175736e-01, 1.50370972e-01, 2.13133123e-02, 6.12889672e-01,\n",
       "       3.62977948e-01, 2.97290442e-01, 5.26013562e-01, 4.33600097e-01,\n",
       "       6.51983362e-01, 5.31170673e-01, 5.44948606e-01, 8.39744523e-01,\n",
       "       5.62774776e-01, 6.07011075e-01, 7.43853235e-01, 2.05376769e-01,\n",
       "       1.71787841e-01, 6.03222199e-01, 5.03246005e-01, 7.81346774e-01,\n",
       "       9.46140770e-01, 9.86492336e-02, 5.28116613e-01, 6.38120759e-01,\n",
       "       8.43243596e-01, 1.06138269e-02, 7.62872112e-01, 3.39975252e-01,\n",
       "       2.55185252e-01, 6.99051613e-01, 9.33997941e-01, 1.13987407e-02,\n",
       "       1.86014042e-01, 9.87538446e-01, 2.99892808e-01, 6.11757042e-01,\n",
       "       2.41845110e-02, 6.93439541e-02, 7.90434026e-02, 4.58420385e-01,\n",
       "       8.89290039e-01, 3.25393026e-04, 5.67242494e-01, 4.27856699e-01,\n",
       "       4.11326415e-01, 9.17942457e-01, 7.27901703e-01, 6.78159390e-01,\n",
       "       2.59749316e-01, 2.12712233e-01, 7.07192039e-01, 3.97100909e-01,\n",
       "       5.61999569e-01, 9.76428112e-01, 9.69441774e-01, 1.24385326e-01,\n",
       "       1.64115547e-01, 3.82475711e-01, 8.70044494e-01, 9.28696075e-01,\n",
       "       9.72119380e-01, 4.96059929e-01, 8.77770693e-01, 4.62245216e-01,\n",
       "       7.99427230e-01, 8.08830792e-01, 7.74060088e-01, 5.30497063e-01,\n",
       "       4.66217894e-01, 9.91061940e-01, 3.81894702e-01, 3.27474836e-01,\n",
       "       9.54939052e-01, 4.73801171e-01, 4.38653036e-01, 8.21255913e-01,\n",
       "       9.58129568e-02, 6.68184452e-01, 8.87538316e-01, 4.11363241e-01,\n",
       "       8.63880186e-02, 4.66434602e-01, 4.53383904e-01, 3.09180054e-01,\n",
       "       5.25391800e-01, 8.32863402e-01, 1.53202976e-01, 5.72933289e-01,\n",
       "       8.86869057e-01, 3.64557180e-01, 1.68182565e-01, 9.72558095e-01,\n",
       "       6.17960191e-01, 7.82369020e-01, 8.26422944e-01, 6.40204783e-01,\n",
       "       1.97220007e-01, 6.71809435e-01, 5.63316215e-01, 1.17965338e-01,\n",
       "       6.61585484e-01, 4.02047546e-01, 9.17093908e-01, 3.05260356e-01,\n",
       "       4.12894094e-01, 1.98598839e-01, 2.36630160e-01, 5.02419740e-01,\n",
       "       8.53318080e-01, 8.08188561e-01, 7.55341334e-01, 1.88542971e-01,\n",
       "       9.73596216e-01, 4.20304980e-01, 6.80067968e-01, 6.73730049e-01,\n",
       "       2.07659937e-01, 9.86798930e-01, 8.88743483e-01, 5.67028042e-01,\n",
       "       1.14062971e-02, 6.29947344e-01, 5.07048342e-01, 9.91159265e-02,\n",
       "       8.10497611e-01, 5.86726204e-02, 7.34727330e-01, 4.93820245e-01,\n",
       "       7.78758803e-02, 5.52630574e-01, 6.48331609e-01, 5.87083094e-01,\n",
       "       3.58562723e-01, 2.08781761e-01, 9.95801136e-01, 3.04568920e-01,\n",
       "       2.55924231e-01, 4.88173297e-01, 2.63806792e-01, 6.85906142e-01,\n",
       "       2.03485001e-01, 8.34668409e-01, 8.22649815e-01, 1.33645239e-01,\n",
       "       7.47428120e-02, 3.90130250e-01, 5.86704022e-01, 4.81747581e-01,\n",
       "       4.23693127e-01, 2.26176651e-01, 3.28129858e-01, 1.43767549e-01,\n",
       "       7.59016022e-01, 1.50124374e-01, 8.98735606e-01, 8.47332851e-01,\n",
       "       5.43662056e-01, 9.18988144e-01, 3.25290543e-01, 9.10762035e-01,\n",
       "       7.50359280e-01, 5.85261818e-01, 9.62271426e-01, 5.87156112e-01,\n",
       "       4.43437145e-01, 7.17592945e-01, 4.46686617e-01, 7.54942368e-01,\n",
       "       7.55790010e-01, 1.83519767e-01, 2.32982821e-01, 8.13415064e-01,\n",
       "       2.59859341e-01, 4.33719594e-01, 6.94776411e-01, 9.97595676e-01,\n",
       "       6.01088776e-01, 4.75094286e-01, 1.14640520e-01, 3.07358525e-01,\n",
       "       1.68556876e-01, 5.80076356e-01, 1.07461518e-01, 2.18308460e-01,\n",
       "       9.27082555e-01, 7.11397090e-01, 8.44916615e-01, 3.22889298e-01,\n",
       "       7.13158948e-01, 8.54538193e-01, 4.29788941e-01, 1.48507490e-01,\n",
       "       9.44847412e-01, 2.84322742e-01, 6.06581509e-01, 9.39904182e-01,\n",
       "       4.58218632e-01, 4.47969529e-01, 6.16265174e-01, 8.62938164e-01,\n",
       "       7.86727258e-01, 8.21506526e-01, 6.94269714e-01, 8.39740786e-01,\n",
       "       9.60713104e-01, 5.55581305e-01, 1.58507129e-01, 5.06513853e-01,\n",
       "       5.33263587e-02, 4.66710357e-01, 3.91166957e-01, 2.23544687e-01,\n",
       "       5.76971257e-01, 7.26079055e-01, 6.39142487e-01, 3.83913131e-01,\n",
       "       8.93838915e-01, 5.69470605e-01, 9.53970244e-01, 2.87415404e-02,\n",
       "       9.13507871e-01, 2.12597327e-01, 9.51166581e-01, 5.68100263e-01,\n",
       "       6.83036557e-01, 7.74005179e-01, 4.12129917e-01, 6.94013925e-01,\n",
       "       4.52807561e-01, 1.91966635e-01, 3.90689775e-01, 6.72943047e-01,\n",
       "       6.10812906e-03, 5.51995834e-01, 3.68922540e-01, 7.67648006e-01,\n",
       "       6.06253309e-01, 2.44055442e-01, 9.17517554e-01, 1.55861474e-01,\n",
       "       4.79206668e-01, 6.18118186e-01, 6.59226349e-01, 9.29527503e-01,\n",
       "       7.40261040e-01, 8.87323387e-01, 4.85755306e-01, 9.79739764e-01,\n",
       "       6.26458783e-01, 3.77971184e-01, 8.03548852e-01, 9.15993928e-01])"
      ]
     },
     "execution_count": 6,
     "metadata": {},
     "output_type": "execute_result"
    }
   ],
   "source": [
    "np.random.rand(1000)"
   ]
  },
  {
   "cell_type": "markdown",
   "metadata": {},
   "source": [
    "Below shows how to create a histogram for the np.random.rand function."
   ]
  },
  {
   "cell_type": "code",
   "execution_count": 7,
   "metadata": {},
   "outputs": [],
   "source": [
    "x = np.random.rand(1000)"
   ]
  },
  {
   "cell_type": "code",
   "execution_count": 8,
   "metadata": {
    "scrolled": true
   },
   "outputs": [
    {
     "data": {
      "image/png": "[encoded data removed]",
      "text/plain": [
       "<Figure size 432x288 with 1 Axes>"
      ]
     },
     "metadata": {},
     "output_type": "display_data"
    }
   ],
   "source": [
    "%matplotlib inline\n",
    "\n",
    "import matplotlib.pyplot as plt\n",
    "plt.style.use('seaborn-whitegrid')\n",
    "plt.hist(x)\n",
    "plt.xlabel('continuous variables')\n",
    "plt.ylabel('number of outcomes')\n",
    "plt.show()\n"
   ]
  },
  {
   "cell_type": "markdown",
   "metadata": {},
   "source": [
    "As you can see from the histogram above, the random.rand is uniform with 10 different columns of continuous variables all around the 100 level of outcomes."
   ]
  },
  {
   "cell_type": "markdown",
   "metadata": {},
   "source": [
    "### random.randn"
   ]
  },
  {
   "cell_type": "markdown",
   "metadata": {},
   "source": [
    "The random.randn function is the same as the random.rand as far as being able to give the outcome dimensions and/or the ability to generate many random numbers without specifying the dimension. The only difference is that the random.randn is based on a normal distribution. Please see below histogram based on 5000 outcomes."
   ]
  },
  {
   "cell_type": "markdown",
   "metadata": {},
   "source": [
    "Here are two examples of the random.randn function :"
   ]
  },
  {
   "cell_type": "markdown",
   "metadata": {},
   "source": [
    "The first example shows how to generate random numbers in an array with four rows and four columns. "
   ]
  },
  {
   "cell_type": "code",
   "execution_count": 9,
   "metadata": {},
   "outputs": [
    {
     "data": {
      "text/plain": [
       "array([[ 0.47996649, -0.36066711,  1.17635059,  0.23317888],\n",
       "       [ 0.08581557,  0.95573082,  0.9951    ,  0.53567524],\n",
       "       [-0.97748323,  1.91435355, -0.25336596,  0.8575264 ],\n",
       "       [-1.63084708, -1.13920356,  1.26463888,  0.32677043]])"
      ]
     },
     "execution_count": 9,
     "metadata": {},
     "output_type": "execute_result"
    }
   ],
   "source": [
    "np.random.randn(4,4)"
   ]
  },
  {
   "cell_type": "markdown",
   "metadata": {},
   "source": [
    "The second example shows how to generate a defined amount of random numbers without specifying dimensions. In this example we choose 5000 random numbers."
   ]
  },
  {
   "cell_type": "markdown",
   "metadata": {},
   "source": [
    "Below shows how to create a histogram for the np.random.randn function."
   ]
  },
  {
   "cell_type": "code",
   "execution_count": 10,
   "metadata": {},
   "outputs": [],
   "source": [
    "y = np.random.randn(5000)"
   ]
  },
  {
   "cell_type": "code",
   "execution_count": 11,
   "metadata": {
    "scrolled": true
   },
   "outputs": [
    {
     "data": {
      "image/png": "[encoded data removed]",
      "text/plain": [
       "<Figure size 432x288 with 1 Axes>"
      ]
     },
     "metadata": {},
     "output_type": "display_data"
    }
   ],
   "source": [
    "plt.style.use('seaborn-whitegrid')\n",
    "plt.hist(y)\n",
    "plt.xlabel('continuous variables')\n",
    "plt.ylabel('number of outcomes')\n",
    "plt.show()"
   ]
  },
  {
   "cell_type": "markdown",
   "metadata": {},
   "source": [
    "As you csn see from the above histogram, the random.randn returns a normal distribution with the classic bell shape."
   ]
  },
  {
   "cell_type": "markdown",
   "metadata": {},
   "source": [
    "### random.random"
   ]
  },
  {
   "cell_type": "markdown",
   "metadata": {},
   "source": [
    "Random.random is the same as the random.rand except for how the arguments are handled. In random.rand, the shapes are separate arguments while in the random.random function, the shape argument is a single tuple. https://stackoverflow.com/questions/47231852/np-random-rand-vs-np-random-random"
   ]
  },
  {
   "cell_type": "markdown",
   "metadata": {},
   "source": [
    "Here are two examples of the random.random function :"
   ]
  },
  {
   "cell_type": "markdown",
   "metadata": {},
   "source": [
    "The first example shows how to generate a random number from the uniform distribution without specifying a number of outcomes."
   ]
  },
  {
   "cell_type": "code",
   "execution_count": 12,
   "metadata": {},
   "outputs": [
    {
     "data": {
      "text/plain": [
       "0.21591552985401963"
      ]
     },
     "execution_count": 12,
     "metadata": {},
     "output_type": "execute_result"
    }
   ],
   "source": [
    "np.random.random()"
   ]
  },
  {
   "cell_type": "markdown",
   "metadata": {},
   "source": [
    "The second example shows how to generate a defined amount of random numbers from the uniform distribution."
   ]
  },
  {
   "cell_type": "code",
   "execution_count": 32,
   "metadata": {},
   "outputs": [
    {
     "data": {
      "text/plain": [
       "array([0.01623398, 0.50127385, 0.4832479 , 0.80371076, 0.18475293,\n",
       "       0.54105963, 0.02268907, 0.10744868, 0.90982497, 0.85945942])"
      ]
     },
     "execution_count": 32,
     "metadata": {},
     "output_type": "execute_result"
    }
   ],
   "source": [
    "np.random.random(10)"
   ]
  },
  {
   "cell_type": "markdown",
   "metadata": {},
   "source": [
    "Below shows how to create a histogram for the np.random.random function with 5,000 outcomes."
   ]
  },
  {
   "cell_type": "code",
   "execution_count": 37,
   "metadata": {},
   "outputs": [],
   "source": [
    "z = np.random.random(5000)"
   ]
  },
  {
   "cell_type": "code",
   "execution_count": 38,
   "metadata": {
    "scrolled": true
   },
   "outputs": [
    {
     "data": {
      "image/png": "[encoded data removed]",
      "text/plain": [
       "<Figure size 432x288 with 1 Axes>"
      ]
     },
     "metadata": {},
     "output_type": "display_data"
    }
   ],
   "source": [
    "plt.style.use('seaborn-whitegrid')\n",
    "plt.hist(z)\n",
    "plt.xlabel('continuous variable')\n",
    "plt.ylabel('number of outcomes')\n",
    "plt.show()\n"
   ]
  },
  {
   "cell_type": "markdown",
   "metadata": {},
   "source": [
    "You can tell from the above histogram that the outcomes show a uniform distribution based on 5000 random numbers."
   ]
  },
  {
   "cell_type": "markdown",
   "metadata": {},
   "source": [
    "## Permutations "
   ]
  },
  {
   "cell_type": "markdown",
   "metadata": {},
   "source": [
    "In mathematics, permutation is defined as the act of arranging all the members of a set into some sequence or order, \n",
    "or if the set is already ordered, rearranging its elements, a process called permuting. https://en.wikipedia.org/wiki/Permutation"
   ]
  },
  {
   "cell_type": "code",
   "execution_count": 15,
   "metadata": {},
   "outputs": [
    {
     "data": {
      "text/plain": [
       "array([1, 2, 3, 4, 0])"
      ]
     },
     "execution_count": 15,
     "metadata": {},
     "output_type": "execute_result"
    }
   ],
   "source": [
    "np.random.permutation(5)"
   ]
  },
  {
   "cell_type": "code",
   "execution_count": 16,
   "metadata": {},
   "outputs": [
    {
     "data": {
      "text/plain": [
       "array([[0, 1],\n",
       "       [2, 3],\n",
       "       [4, 5]])"
      ]
     },
     "execution_count": 16,
     "metadata": {},
     "output_type": "execute_result"
    }
   ],
   "source": [
    "ar = np.arange(6).reshape((3,2))\n",
    "np.random.permutation(ar)"
   ]
  },
  {
   "cell_type": "markdown",
   "metadata": {},
   "source": [
    "# 3. Explain the use and purpose of at least five \"Distributions\" functions."
   ]
  },
  {
   "cell_type": "markdown",
   "metadata": {},
   "source": [
    "## Distributions"
   ]
  },
  {
   "cell_type": "markdown",
   "metadata": {},
   "source": [
    "Distribution, as defined in statistics, is a listing or function showing all the possible values (or intervals) of the data and how often they occur.(https://www.dummies.com/education/math/statistics/what-the-distribution-tells-you-about-a-statistical-data-set/)"
   ]
  },
  {
   "cell_type": "markdown",
   "metadata": {},
   "source": [
    "The main purpose of distributions is that they can be used as a shorthand for describinng and calculating related quantities, such as likelihhods of observations, and plotting the relationship between observations in the domain. (https://machinelearningmastery.com/statistical-data-distributions/)"
   ]
  },
  {
   "cell_type": "markdown",
   "metadata": {},
   "source": [
    "There are many types of distribtions and below we will look at 5 of the most common. They are the normal distribution, the uniform distribution, the exponential distribution, the poisson distribution and the binomial distribution."
   ]
  },
  {
   "cell_type": "markdown",
   "metadata": {},
   "source": [
    "### Normal Distribution"
   ]
  },
  {
   "cell_type": "markdown",
   "metadata": {},
   "source": [
    "The normal distribution, also known as the Gaussian distribution, is a probability distribution that is symmetric about the mean, showing that data near the mean are more frequent in occurrence than data far from the mean. (https://www.investopedia.com/terms/n/normaldistribution.asp)"
   ]
  },
  {
   "cell_type": "markdown",
   "metadata": {},
   "source": [
    "In numpy, the normal distribution function is defined as : numpy.random.normal(*loc*, *scale*, *size*).\n",
    "*loc* is the mean (centre) of the distribution, *scale* is the standard deviation (spread) of the distribution and \n",
    "*size* is the output shape. (https://docs.scipy.org/doc/numpy-1.15.1/reference/generated/numpy.random.normal.html#numpy.random.normal)"
   ]
  },
  {
   "cell_type": "code",
   "execution_count": 17,
   "metadata": {},
   "outputs": [
    {
     "data": {
      "text/plain": [
       "array([ 0.23614405,  0.13513134, -0.17265409, -0.04112276,  0.15666252,\n",
       "       -0.10643928,  0.08751137,  0.05709178, -0.01430834,  0.01730015])"
      ]
     },
     "execution_count": 17,
     "metadata": {},
     "output_type": "execute_result"
    }
   ],
   "source": [
    "np.random.normal(0,0.1,10)"
   ]
  },
  {
   "cell_type": "code",
   "execution_count": 18,
   "metadata": {},
   "outputs": [],
   "source": [
    "nd = np.random.normal(0,0.1,1000)"
   ]
  },
  {
   "cell_type": "code",
   "execution_count": 19,
   "metadata": {},
   "outputs": [
    {
     "data": {
      "image/png": "[encoded data removed]",
      "text/plain": [
       "<Figure size 432x288 with 1 Axes>"
      ]
     },
     "metadata": {},
     "output_type": "display_data"
    }
   ],
   "source": [
    "plt.style.use('seaborn-whitegrid')\n",
    "plt.hist(nd)\n",
    "plt.xlabel('continuous variable')\n",
    "plt.ylabel('number of outcomes')\n",
    "plt.show()"
   ]
  },
  {
   "cell_type": "markdown",
   "metadata": {},
   "source": [
    "As you can see from the above histogram, most of the data are near the mean (0)."
   ]
  },
  {
   "cell_type": "markdown",
   "metadata": {},
   "source": [
    "### Uniform Distribution"
   ]
  },
  {
   "cell_type": "markdown",
   "metadata": {},
   "source": [
    "The uniform distribution is a continuous distribution. It is a probability distribution that has a constant probability.\n",
    "It is also known as the rectangular distribution. The distribution is defined by two parameters, a and b. It is written as U(a,b). (https://www.statisticshowto.datasciencecentral.com/uniform-distribution/)"
   ]
  },
  {
   "cell_type": "code",
   "execution_count": 20,
   "metadata": {},
   "outputs": [
    {
     "data": {
      "text/plain": [
       "array([0.27690417, 0.56818217, 0.8967848 , 0.47720552, 0.01990852,\n",
       "       0.05415197, 0.30792121, 0.5904079 , 0.02423327, 0.50780782])"
      ]
     },
     "execution_count": 20,
     "metadata": {},
     "output_type": "execute_result"
    }
   ],
   "source": [
    "np.random.uniform(0,1,10)"
   ]
  },
  {
   "cell_type": "code",
   "execution_count": 21,
   "metadata": {},
   "outputs": [],
   "source": [
    "ud = np.random.uniform(0,1,1000)"
   ]
  },
  {
   "cell_type": "code",
   "execution_count": 22,
   "metadata": {},
   "outputs": [
    {
     "data": {
      "image/png": "[encoded data removed]",
      "text/plain": [
       "<Figure size 432x288 with 1 Axes>"
      ]
     },
     "metadata": {},
     "output_type": "display_data"
    }
   ],
   "source": [
    "plt.style.use('seaborn-whitegrid')\n",
    "plt.hist(ud)\n",
    "plt.xlabel('continuous variable')\n",
    "plt.ylabel('number of outcomes')\n",
    "plt.show()"
   ]
  },
  {
   "cell_type": "markdown",
   "metadata": {},
   "source": [
    "As you can see from the above histogram, the uniform distribution takes the shape of a rectangle."
   ]
  },
  {
   "cell_type": "markdown",
   "metadata": {},
   "source": [
    "### Exponetial Distribution"
   ]
  },
  {
   "cell_type": "markdown",
   "metadata": {},
   "source": [
    "The exponential distribution (also known as the negative distribution) describes the time until some specific events occur. A popular example is the time before an earthquake takes place. Another example might be how many days before a car battery runs out. The exponential distribution is widely used in the field of reliability. Reliability deals with the amount of time a product lasts. (https://courses.lumenlearning.com/introstats1/chapter/the-exponential-distribution/)"
   ]
  },
  {
   "cell_type": "code",
   "execution_count": 23,
   "metadata": {},
   "outputs": [
    {
     "data": {
      "text/plain": [
       "array([0.12749358, 1.56049833, 1.98119486, 4.03144411, 0.82668157,\n",
       "       1.22732452, 2.55601867, 1.24294247, 1.08936268, 1.00741174])"
      ]
     },
     "execution_count": 23,
     "metadata": {},
     "output_type": "execute_result"
    }
   ],
   "source": [
    "np.random.exponential(1.0, 10)"
   ]
  },
  {
   "cell_type": "code",
   "execution_count": 24,
   "metadata": {},
   "outputs": [],
   "source": [
    "ed = np.random.exponential(1.0, 1000)"
   ]
  },
  {
   "cell_type": "code",
   "execution_count": 25,
   "metadata": {},
   "outputs": [
    {
     "data": {
      "image/png": "[encoded data removed]",
      "text/plain": [
       "<Figure size 432x288 with 1 Axes>"
      ]
     },
     "metadata": {},
     "output_type": "display_data"
    }
   ],
   "source": [
    "plt.style.use('seaborn-whitegrid')\n",
    "plt.hist(ed)\n",
    "plt.xlabel('continuous variable')\n",
    "plt.ylabel('number of outcomes')\n",
    "plt.show()"
   ]
  },
  {
   "cell_type": "markdown",
   "metadata": {},
   "source": [
    "### Poisson Distribution"
   ]
  },
  {
   "cell_type": "markdown",
   "metadata": {},
   "source": [
    "The poisson distribution is the discrete probability distribution of the number of events occurring in a given time period, given the average number of times the event occurs over that time period.(https://brilliant.org/wiki/poisson-distribution/)\n",
    "\n",
    "The poisson distribution is applied in many ways. Examples are, predicting how many rare diseases will be diagnosed in any given time period, how many car accidents will there be on New Year's eve and to predict the number of failures of a machine in a month. (https://www.intmath.com/counting-probability/13-poisson-probability-distribution.php)\n",
    "\n"
   ]
  },
  {
   "cell_type": "code",
   "execution_count": 26,
   "metadata": {},
   "outputs": [
    {
     "data": {
      "text/plain": [
       "array([2, 2, 5, 3, 1, 0, 1, 2, 0, 1])"
      ]
     },
     "execution_count": 26,
     "metadata": {},
     "output_type": "execute_result"
    }
   ],
   "source": [
    "np.random.poisson(1.0,10)"
   ]
  },
  {
   "cell_type": "code",
   "execution_count": 27,
   "metadata": {},
   "outputs": [],
   "source": [
    "pd = np.random.poisson(1.0,1000)"
   ]
  },
  {
   "cell_type": "code",
   "execution_count": 28,
   "metadata": {},
   "outputs": [
    {
     "data": {
      "image/png": "[encoded data removed]",
      "text/plain": [
       "<Figure size 432x288 with 1 Axes>"
      ]
     },
     "metadata": {},
     "output_type": "display_data"
    }
   ],
   "source": [
    "plt.style.use('seaborn-whitegrid')\n",
    "plt.hist(pd)\n",
    "plt.xlabel('discrete variable')\n",
    "plt.ylabel('number of outcomes')\n",
    "plt.show()"
   ]
  },
  {
   "cell_type": "markdown",
   "metadata": {},
   "source": [
    "As expected in the above poisson histogram, the events start to decline right around the mean, (1.0)."
   ]
  },
  {
   "cell_type": "markdown",
   "metadata": {},
   "source": [
    "### Binomial Distribution"
   ]
  },
  {
   "cell_type": "markdown",
   "metadata": {},
   "source": [
    "The binomial distribution can be thought of as simply the probability of a SUCCESS or FAILURE outcome in an experiment or survey that is repeated multiple times. The binomial is a type of distribution that has two possible outcomes. An example of this is predicting a baby's gender.(https://www.statisticshowto.datasciencecentral.com/probability-and-statistics/binomial-theorem/binomial-distribution-formula/)"
   ]
  },
  {
   "cell_type": "code",
   "execution_count": 29,
   "metadata": {},
   "outputs": [
    {
     "data": {
      "text/plain": [
       "array([1, 0, 1, 0, 1, 0, 0, 1, 0, 1, 1, 1, 0, 0, 0, 1, 1, 1, 0, 0, 0, 1,\n",
       "       0, 0, 0, 0, 0, 0, 0, 0, 0, 1, 1, 1, 1, 1, 1, 0, 0, 0, 0, 1, 0, 1,\n",
       "       0, 1, 1, 0, 0, 0, 0, 1, 1, 1, 1, 1, 1, 0, 0, 0, 0, 0, 0, 1, 1, 1,\n",
       "       0, 1, 0, 1, 1, 0, 1, 1, 0, 0, 0, 1, 0, 1, 0, 0, 1, 1, 0, 0, 0, 1,\n",
       "       1, 1, 0, 1, 0, 1, 1, 0, 0, 0, 1, 0])"
      ]
     },
     "execution_count": 29,
     "metadata": {},
     "output_type": "execute_result"
    }
   ],
   "source": [
    "np.random.binomial(1,0.5,100)"
   ]
  },
  {
   "cell_type": "code",
   "execution_count": 30,
   "metadata": {},
   "outputs": [],
   "source": [
    "bd = np.random.binomial(1.0,0.5,1000)"
   ]
  },
  {
   "cell_type": "code",
   "execution_count": 31,
   "metadata": {},
   "outputs": [
    {
     "data": {
      "image/png": "[encoded data removed]",
      "text/plain": [
       "<Figure size 432x288 with 1 Axes>"
      ]
     },
     "metadata": {},
     "output_type": "display_data"
    }
   ],
   "source": [
    "plt.style.use('seaborn-whitegrid')\n",
    "plt.hist(bd)\n",
    "plt.xlabel('discrete variable')\n",
    "plt.ylabel('number of outcomes')\n",
    "plt.show()"
   ]
  },
  {
   "cell_type": "markdown",
   "metadata": {},
   "source": [
    "With the probability set to 0.5 (50%), the above histogram offers no surprises. The resulting outcomes equal.\n"
   ]
  },
  {
   "cell_type": "markdown",
   "metadata": {},
   "source": [
    "The Poisson distribution is related to the exponential distribution. Suppose an event can occur several times within a \n",
    "given unit of time. When the total number of occurrences of the event is unknown, we can think of it as a random variable. \n",
    "This random variable has a Poisson distribution if the time elapsed between two successive occurrences of the event has an exponential distribution and it is independent of previous occurrences."
   ]
  },
  {
   "cell_type": "markdown",
   "metadata": {},
   "source": [
    "# 4. Explain the use of seeds in generating pseudo random numbers."
   ]
  },
  {
   "cell_type": "markdown",
   "metadata": {},
   "source": [
    "First, lets define what pseudo random numbers are. Pseudo random numbers are a set of values or elements that is statistically random, but it is derived from a known starting point and is typically repeated over and over. Pseudo-random numbers provide necessary values for processes that require randomness. (https://www.pcmag.com/encyclopedia/term/49914/pseudo-random-numbers)"
   ]
  }
 ],
 "metadata": {
  "celltoolbar": "Raw Cell Format",
  "kernelspec": {
   "display_name": "Python 3",
   "language": "python",
   "name": "python3"
  },
  "language_info": {
   "codemirror_mode": {
    "name": "ipython",
    "version": 3
   },
   "file_extension": ".py",
   "mimetype": "text/x-python",
   "name": "python",
   "nbconvert_exporter": "python",
   "pygments_lexer": "ipython3",
   "version": "3.6.5"
  }
 },
 "nbformat": 4,
 "nbformat_minor": 2
}
