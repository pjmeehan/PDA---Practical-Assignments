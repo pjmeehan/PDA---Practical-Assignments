{
 "cells": [
  {
   "cell_type": "markdown",
   "metadata": {},
   "source": [
    "# Programming for Data Analysis Practical Assignment\n",
    "***\n",
    "1. Explain the overall purpose of the NumPy package.\n",
    "2. Explain the use of the \"simple random data\" and \"Permutations\" functions.\n",
    "3. Explain the use and purpose of at least five \"Distributions\" functions.\n",
    "4. Explain the use of seeds in generating pseudorandom numbers."
   ]
  },
  {
   "cell_type": "markdown",
   "metadata": {},
   "source": [
    "# 1. Explain the overall purpose of the NumPy package.\n",
    "\n",
    "## NumPy\n",
    "\n",
    "NumPy is a linear algebra library in Python. It is used to perform mathematical and logical operations in arrays.\n",
    "A NumPy array is a grid that contains values of the same type. There are 2 types of arrays :\n",
    "1. Vectors - are one dimensional\n",
    "2. Matrices - are multidimensional\n",
    "\n",
    "Why use NumPy when Python can perform the same function(s)?\n",
    "\n",
    "There are 2 reasons to use NumPy rather than Python, they are :\n",
    "1. NumPy is more efficient, meaning it uses less memory to store data.\n",
    "2. It handles the data from mathematical operations better.\n",
    "\n",
    "It's because of these 2 functions that NumPy is so popular and explains it's purpose. It allows for real life complex data to be used to solve solutions to everyday problems. NumPy is used across many industries as you can see by the following examples. The computer gaming industry uses it for computer generated images, electrical engineers use it to determine the properties of a circuit, medical companies use it for CAT scans and MRIs, the robotic industry uses it to operate robot movements and IT companies use it for tracking user information, to perform search queries and manage databases. These are just a small amount of examples.\n",
    "\n",
    "\n"
   ]
  },
  {
   "cell_type": "markdown",
   "metadata": {},
   "source": [
    "# 2. Explain the use of the \"Simple random data\" and \"Permutations\" functions."
   ]
  },
  {
   "cell_type": "markdown",
   "metadata": {},
   "source": [
    "## Simple Random Data\n",
    "\n",
    "Before I get into the randon fucntion(s) in numpy, I want to explore why anyone would need to generate random numbers. It turns out the use of random numbers is utilized across many industries.. It is used in science, art, statistics, gaming, gambling and other industries.(https://en.wikipedia.org/wiki/Applications_of_randomness). It is used to for encryption, modeling complex phenomena and for selectiing random samples from larger data sets. (https://www.random.org/randomness/).\n",
    "A specific example of the use of random generated numbers comes from the online betting exchange Betfair. In their online help centre, they offer an explanation of \"What are Random Number Generators, and how do they work?\". (https://en-betfair.custhelp.com/app/answers/detail/a_id/158/~/what-are-random-number-generators%2C-and-how-do-they-work%3F). It is very interesting, especially their explanation on the use of 'seeds'. More on seeds at the end of this assignment. But basically, they say it is used to generate numbers that do not have patterns and thus appear to be random. \n",
    "\n",
    "In NumPy, there are several ways to generate simple random data such as rand, randn, and random. They all return random numbers but go about it slightly different.<br>\n",
    "*_Rand_ - creates an array of a specified shape and fills it with random numbers from a uniform distribution over \\[0,1). https://docs.scipy.org/doc/numpy-1.15.1/reference/generated/numpy.random.rand.html <br>\n",
    "*_Randn_ - creates the same array as Rand but fills it with random values based on the 'standard normal' distribution.(https://www.geeksforgeeks.org/numpy-random-rand-python/). <br>\n",
    "*_Random_ - returns an array filled with random numbers from a continuous uniform distribution in the half open interval \\[0.0,1.0) (https://docs.scipy.org/doc/numpy-1.15.1/reference/generated/numpy.random.sample.html#numpy.random.sample.)<br>\n",
    "\n",
    " Below are examples of each of the three simple random functions and graphs to illustrate the outcomes."
   ]
  },
  {
   "cell_type": "code",
   "execution_count": 2,
   "metadata": {},
   "outputs": [],
   "source": [
    "import numpy as np"
   ]
  },
  {
   "cell_type": "markdown",
   "metadata": {},
   "source": [
    "### random.rand"
   ]
  },
  {
   "cell_type": "markdown",
   "metadata": {},
   "source": [
    "Random.rand (d0,d1,...dn)is the official function where d is a parameter that gives the array dimension. Example, random.rand(2,3) will return 6 random numbers \\(2*3) with dimensions 2 rows by 3 columns.<br>\n",
    "If you just wanted to generate x amount of numbers you would just enter how many numbers you wanted to generate instead of giving it dimensions. ie random.rand(1000)."
   ]
  },
  {
   "cell_type": "markdown",
   "metadata": {},
   "source": [
    "Here are two examples of the random.rand function :"
   ]
  },
  {
   "cell_type": "code",
   "execution_count": 3,
   "metadata": {},
   "outputs": [
    {
     "data": {
      "text/plain": [
       "array([[0.98853032, 0.15149924, 0.12734924, 0.3329084 , 0.89125136],\n",
       "       [0.17173839, 0.21011443, 0.34614317, 0.45850019, 0.21003816]])"
      ]
     },
     "execution_count": 3,
     "metadata": {},
     "output_type": "execute_result"
    }
   ],
   "source": [
    "np.random.rand(2,5)"
   ]
  },
  {
   "cell_type": "markdown",
   "metadata": {},
   "source": [
    "This generated a random array of 2 rows by 5 columns."
   ]
  },
  {
   "cell_type": "code",
   "execution_count": 4,
   "metadata": {},
   "outputs": [
    {
     "data": {
      "text/plain": [
       "array([0.91635432, 0.32990832, 0.78486995, 0.55324613, 0.74786201,\n",
       "       0.75282473, 0.76660816, 0.63786567, 0.72247501, 0.7473389 ,\n",
       "       0.58197192, 0.48736235, 0.39794186, 0.86322426, 0.91190852,\n",
       "       0.24034927, 0.68260552, 0.68978049, 0.54145296, 0.82509124,\n",
       "       0.54076202, 0.30612187, 0.75208333, 0.28837557, 0.61337586,\n",
       "       0.9681417 , 0.09077509, 0.33086334, 0.85476889, 0.80732921,\n",
       "       0.66585428, 0.66070267, 0.67938084, 0.09453201, 0.47915941,\n",
       "       0.44527202, 0.11112021, 0.01260057, 0.88115432, 0.137321  ,\n",
       "       0.4504751 , 0.65315738, 0.37383656, 0.07643798, 0.15611478,\n",
       "       0.99754104, 0.87520252, 0.59549089, 0.39828293, 0.96427671,\n",
       "       0.67104908, 0.77344269, 0.78843465, 0.88169348, 0.89391146,\n",
       "       0.82702378, 0.24086279, 0.82970797, 0.45928017, 0.63536468,\n",
       "       0.90580154, 0.41003378, 0.26323714, 0.00752573, 0.55963455,\n",
       "       0.73416992, 0.94580442, 0.08242704, 0.28806585, 0.20138072,\n",
       "       0.7374176 , 0.5885483 , 0.93098882, 0.58970492, 0.66048736,\n",
       "       0.87498014, 0.09132291, 0.20904762, 0.54236068, 0.50505193,\n",
       "       0.38286312, 0.80628082, 0.64287711, 0.32435239, 0.77921844,\n",
       "       0.52281386, 0.51511908, 0.55496324, 0.58374049, 0.4393905 ,\n",
       "       0.59315995, 0.301857  , 0.30436779, 0.67842737, 0.60983276,\n",
       "       0.80302822, 0.16428689, 0.26274987, 0.07227441, 0.72370655,\n",
       "       0.25427067, 0.95428813, 0.30020314, 0.55533358, 0.86344988,\n",
       "       0.25777404, 0.21728601, 0.13397379, 0.18510148, 0.11190351,\n",
       "       0.10613254, 0.74044965, 0.03667124, 0.46998593, 0.06224232,\n",
       "       0.08091533, 0.18828239, 0.52383541, 0.83239997, 0.70425077,\n",
       "       0.61181818, 0.98061965, 0.6290107 , 0.95752587, 0.07723194,\n",
       "       0.93433738, 0.64943148, 0.10288534, 0.9339226 , 0.60686507,\n",
       "       0.06912889, 0.23158881, 0.37040314, 0.97417331, 0.07175995,\n",
       "       0.21588545, 0.39552519, 0.08656003, 0.32766716, 0.28117087,\n",
       "       0.23224899, 0.73321052, 0.19258523, 0.04004258, 0.89630913,\n",
       "       0.05918516, 0.09067537, 0.81414708, 0.34430072, 0.62964671,\n",
       "       0.23088079, 0.09060565, 0.33434955, 0.22056669, 0.6779048 ,\n",
       "       0.53901104, 0.0829258 , 0.02205121, 0.32697975, 0.35459379,\n",
       "       0.48274151, 0.33215479, 0.41838307, 0.54510693, 0.09365733,\n",
       "       0.19244938, 0.60890559, 0.67554758, 0.03851801, 0.45285588,\n",
       "       0.12256222, 0.53050922, 0.9324704 , 0.32795295, 0.26149877,\n",
       "       0.12310478, 0.91031065, 0.01986336, 0.03385458, 0.84170553,\n",
       "       0.46517154, 0.61009351, 0.42141498, 0.03883123, 0.61258826,\n",
       "       0.98644909, 0.16016989, 0.79525052, 0.21848305, 0.56189219,\n",
       "       0.37269457, 0.73652166, 0.43262307, 0.38778724, 0.69171507,\n",
       "       0.70774126, 0.19742432, 0.25552685, 0.99679754, 0.81230001,\n",
       "       0.63300031, 0.9178753 , 0.98987252, 0.55053616, 0.66469939,\n",
       "       0.65267719, 0.45815708, 0.25831594, 0.9075941 , 0.07881612,\n",
       "       0.48487128, 0.79571029, 0.03526634, 0.77722897, 0.88737913,\n",
       "       0.80208438, 0.96578771, 0.56132812, 0.98474354, 0.98051873,\n",
       "       0.08370923, 0.48599667, 0.41776428, 0.4166247 , 0.03881778,\n",
       "       0.80479841, 0.45277799, 0.09798359, 0.49662912, 0.38541582,\n",
       "       0.63976816, 0.68953891, 0.08629806, 0.22419119, 0.84117235,\n",
       "       0.05725369, 0.84082617, 0.43029155, 0.63365918, 0.26704446,\n",
       "       0.16407571, 0.02901562, 0.43880222, 0.68146582, 0.20535741,\n",
       "       0.99284522, 0.10847578, 0.49402706, 0.57268864, 0.72607545,\n",
       "       0.07670591, 0.33101822, 0.98441636, 0.97671529, 0.01209605,\n",
       "       0.38879174, 0.45837023, 0.02867854, 0.04591769, 0.56449281,\n",
       "       0.41180329, 0.61451189, 0.16858464, 0.04221965, 0.22822954,\n",
       "       0.48464136, 0.24278911, 0.69828146, 0.38716513, 0.58813074,\n",
       "       0.18317682, 0.22031447, 0.6142315 , 0.02076735, 0.02026913,\n",
       "       0.75804183, 0.08731011, 0.92015653, 0.60261024, 0.55033167,\n",
       "       0.80937801, 0.7215474 , 0.79565545, 0.32643367, 0.34297865,\n",
       "       0.34700294, 0.06272624, 0.37106107, 0.09173445, 0.22534204,\n",
       "       0.4198099 , 0.73520265, 0.47740922, 0.44141651, 0.35219005,\n",
       "       0.69627392, 0.10459825, 0.3226706 , 0.89646689, 0.31400277,\n",
       "       0.95238002, 0.17023193, 0.40395456, 0.17067147, 0.38760129,\n",
       "       0.69484089, 0.87698791, 0.59334588, 0.525145  , 0.80521119,\n",
       "       0.71707385, 0.38608691, 0.89208168, 0.86263051, 0.20797053,\n",
       "       0.73444524, 0.03708689, 0.15465426, 0.64882031, 0.21197263,\n",
       "       0.18132216, 0.63366377, 0.49083502, 0.09585656, 0.6877031 ,\n",
       "       0.87237398, 0.73466297, 0.70012818, 0.99470201, 0.35527173,\n",
       "       0.89548809, 0.36413305, 0.37531383, 0.44423816, 0.99967887,\n",
       "       0.63271995, 0.86094207, 0.74560765, 0.43553177, 0.75309643,\n",
       "       0.30428777, 0.42524123, 0.06729801, 0.43782139, 0.91814598,\n",
       "       0.58233192, 0.57860864, 0.31062216, 0.31967754, 0.26239806,\n",
       "       0.9357932 , 0.59143964, 0.01009646, 0.62642012, 0.98554285,\n",
       "       0.15737729, 0.45620112, 0.85787258, 0.18244104, 0.64486057,\n",
       "       0.67825103, 0.67470724, 0.17671581, 0.41432185, 0.3584376 ,\n",
       "       0.19626515, 0.13706357, 0.37262634, 0.98721142, 0.71895567,\n",
       "       0.69369062, 0.83890443, 0.06499741, 0.18449259, 0.91388595,\n",
       "       0.26010228, 0.40637197, 0.06026272, 0.03261588, 0.56870166,\n",
       "       0.67946719, 0.74235305, 0.60778157, 0.1311234 , 0.20251487,\n",
       "       0.83362272, 0.48896253, 0.55329333, 0.19653682, 0.9180744 ,\n",
       "       0.44422395, 0.91276851, 0.03474267, 0.5079647 , 0.71948638,\n",
       "       0.99346385, 0.76053918, 0.15613151, 0.04099626, 0.57468841,\n",
       "       0.9596721 , 0.30066547, 0.68598062, 0.78578754, 0.3998174 ,\n",
       "       0.49289912, 0.50733584, 0.54139502, 0.94216763, 0.8382954 ,\n",
       "       0.28074998, 0.3155056 , 0.60422303, 0.25965977, 0.56108975,\n",
       "       0.54032572, 0.67269849, 0.1038111 , 0.79888428, 0.92247193,\n",
       "       0.9480073 , 0.05095123, 0.43558342, 0.21224889, 0.88272889,\n",
       "       0.65509494, 0.31553871, 0.72709976, 0.6063466 , 0.58878809,\n",
       "       0.44215502, 0.11197802, 0.24876562, 0.60881679, 0.22019879,\n",
       "       0.43356576, 0.49080373, 0.30359588, 0.40812376, 0.57053884,\n",
       "       0.49116795, 0.30638527, 0.16502849, 0.42715823, 0.49230317,\n",
       "       0.68851428, 0.2517048 , 0.57681476, 0.7256365 , 0.75838484,\n",
       "       0.8528178 , 0.16528232, 0.53721913, 0.75317204, 0.42282639,\n",
       "       0.60115348, 0.10363368, 0.60328391, 0.19583566, 0.81004382,\n",
       "       0.79378216, 0.41526193, 0.74350255, 0.32722479, 0.69117987,\n",
       "       0.92560155, 0.33427867, 0.24052323, 0.12852308, 0.26370834,\n",
       "       0.76859693, 0.61447688, 0.66943554, 0.51525239, 0.37395127,\n",
       "       0.29565061, 0.00426533, 0.67436939, 0.58795762, 0.77817406,\n",
       "       0.59290008, 0.3861769 , 0.53784069, 0.90860935, 0.5691605 ,\n",
       "       0.86671522, 0.27633706, 0.39508763, 0.23223218, 0.73105814,\n",
       "       0.72336591, 0.9259893 , 0.8320911 , 0.48711514, 0.76448322,\n",
       "       0.48998122, 0.68299579, 0.07901223, 0.18482306, 0.20362352,\n",
       "       0.83690679, 0.05230477, 0.55245086, 0.60376615, 0.64220448,\n",
       "       0.69445832, 0.38885866, 0.35101337, 0.42168934, 0.68494051,\n",
       "       0.29203312, 0.1044457 , 0.47298706, 0.12192629, 0.53061777,\n",
       "       0.26840756, 0.28692788, 0.30422449, 0.65942962, 0.94251326,\n",
       "       0.31657151, 0.80103218, 0.39920467, 0.06756467, 0.37282911,\n",
       "       0.51796936, 0.69533346, 0.96419132, 0.50030107, 0.16464754,\n",
       "       0.98279794, 0.37595272, 0.82273937, 0.1509145 , 0.22544599,\n",
       "       0.38719097, 0.10327175, 0.84889032, 0.08716476, 0.37938812,\n",
       "       0.12673851, 0.81828935, 0.20844986, 0.11380059, 0.15888997,\n",
       "       0.30766273, 0.25490833, 0.14318085, 0.4515693 , 0.68445804,\n",
       "       0.16212569, 0.1859979 , 0.64367706, 0.31688718, 0.5645398 ,\n",
       "       0.85608509, 0.43500138, 0.56711576, 0.40966693, 0.84665748,\n",
       "       0.51973284, 0.37155833, 0.22559314, 0.79745778, 0.03761805,\n",
       "       0.63607775, 0.38270395, 0.63684768, 0.25445643, 0.74877438,\n",
       "       0.07879531, 0.09314795, 0.94623839, 0.29259011, 0.94867199,\n",
       "       0.83735517, 0.97351663, 0.89830012, 0.56466528, 0.35037348,\n",
       "       0.58473932, 0.65579067, 0.56839824, 0.30448117, 0.00847659,\n",
       "       0.65713881, 0.43397759, 0.82761545, 0.45524122, 0.32233272,\n",
       "       0.12891886, 0.47898697, 0.35914967, 0.30385917, 0.37284529,\n",
       "       0.69041424, 0.57452642, 0.53738622, 0.58292626, 0.5606993 ,\n",
       "       0.10513333, 0.97521676, 0.77549686, 0.89534504, 0.94214428,\n",
       "       0.95047985, 0.27439751, 0.65934931, 0.8385357 , 0.83715687,\n",
       "       0.28509737, 0.25144709, 0.97771966, 0.11421577, 0.0019975 ,\n",
       "       0.74601303, 0.71430136, 0.94258681, 0.41786983, 0.65500281,\n",
       "       0.62659963, 0.4297099 , 0.40575041, 0.0151879 , 0.41066922,\n",
       "       0.80019867, 0.84494018, 0.59822037, 0.74989352, 0.19502324,\n",
       "       0.62493179, 0.63783753, 0.32666045, 0.97535353, 0.65505111,\n",
       "       0.10191681, 0.28420948, 0.2346426 , 0.17309307, 0.48374753,\n",
       "       0.73870672, 0.69861439, 0.33319682, 0.23367459, 0.79719374,\n",
       "       0.38768749, 0.52087626, 0.80969797, 0.21099351, 0.02330396,\n",
       "       0.35114543, 0.98060339, 0.75829343, 0.91174706, 0.06646332,\n",
       "       0.0237254 , 0.70946275, 0.50739146, 0.59200283, 0.75188292,\n",
       "       0.8951764 , 0.78338628, 0.80829659, 0.15006008, 0.11834945,\n",
       "       0.59148853, 0.09193035, 0.11041175, 0.75887702, 0.16709191,\n",
       "       0.4182776 , 0.79143947, 0.96283014, 0.87328918, 0.1987577 ,\n",
       "       0.98247857, 0.50433999, 0.31817873, 0.23798116, 0.84082686,\n",
       "       0.52002051, 0.50773153, 0.24588904, 0.71797178, 0.00435782,\n",
       "       0.9513378 , 0.48074962, 0.75735544, 0.05104433, 0.10277363,\n",
       "       0.04431899, 0.9660683 , 0.19182042, 0.67661586, 0.03882544,\n",
       "       0.07110438, 0.27979831, 0.16082402, 0.16425721, 0.43170432,\n",
       "       0.24580622, 0.05611527, 0.2878091 , 0.39670582, 0.49917238,\n",
       "       0.17348707, 0.5852131 , 0.99245644, 0.38358997, 0.82845416,\n",
       "       0.54391669, 0.82957917, 0.18447587, 0.92891605, 0.7505068 ,\n",
       "       0.50604219, 0.20763065, 0.65888735, 0.37882266, 0.05727664,\n",
       "       0.78802649, 0.10619353, 0.87620779, 0.92413295, 0.18347386,\n",
       "       0.88235751, 0.35492651, 0.73353615, 0.54511616, 0.0488097 ,\n",
       "       0.98882868, 0.67245717, 0.090069  , 0.20910365, 0.4181533 ,\n",
       "       0.30857234, 0.86929299, 0.64527622, 0.41484169, 0.84218691,\n",
       "       0.76487706, 0.99225271, 0.2967405 , 0.15699778, 0.46449455,\n",
       "       0.07024625, 0.90135247, 0.42465396, 0.26023092, 0.39084695,\n",
       "       0.4054312 , 0.49918158, 0.20698022, 0.25065194, 0.4778492 ,\n",
       "       0.82858076, 0.1393022 , 0.19986611, 0.80990009, 0.3310955 ,\n",
       "       0.56232964, 0.99945566, 0.23070548, 0.90778143, 0.42396108,\n",
       "       0.03562497, 0.03538588, 0.56605116, 0.35751687, 0.10548069,\n",
       "       0.75338113, 0.8501082 , 0.36308354, 0.4657168 , 0.59470389,\n",
       "       0.86330821, 0.11283529, 0.78417042, 0.81985507, 0.11422106,\n",
       "       0.32111364, 0.80222072, 0.89829811, 0.54789814, 0.6393165 ,\n",
       "       0.28868792, 0.68535696, 0.99069622, 0.71856716, 0.61385887,\n",
       "       0.01679804, 0.76013411, 0.11601766, 0.36888469, 0.23190324,\n",
       "       0.12879332, 0.09395152, 0.29874933, 0.51246755, 0.46440224,\n",
       "       0.68613695, 0.34121657, 0.8584739 , 0.08387463, 0.10451635,\n",
       "       0.95833351, 0.90964231, 0.81341725, 0.52425459, 0.88807547,\n",
       "       0.66390928, 0.04358649, 0.10672937, 0.96605927, 0.10539273,\n",
       "       0.47461656, 0.19429329, 0.37866312, 0.45536594, 0.08135829,\n",
       "       0.73166744, 0.12462661, 0.14061312, 0.14278483, 0.56020153,\n",
       "       0.09800094, 0.83382202, 0.97299971, 0.64469398, 0.5764822 ,\n",
       "       0.15789597, 0.87664147, 0.34128981, 0.65242196, 0.47969458,\n",
       "       0.48668868, 0.73225669, 0.40737785, 0.24284478, 0.88096115,\n",
       "       0.37858807, 0.8628122 , 0.13066242, 0.48796727, 0.23453042,\n",
       "       0.94285666, 0.15407251, 0.45821492, 0.96420445, 0.68015133,\n",
       "       0.7696492 , 0.5370394 , 0.23491364, 0.99061255, 0.74782662,\n",
       "       0.37988432, 0.34968526, 0.59506741, 0.63876855, 0.3243496 ,\n",
       "       0.57018917, 0.30268643, 0.77544962, 0.72111455, 0.82536857,\n",
       "       0.97295964, 0.72180447, 0.53921355, 0.14844315, 0.61949242,\n",
       "       0.66653204, 0.81849799, 0.75898434, 0.31021724, 0.6754631 ,\n",
       "       0.41716821, 0.11512729, 0.63572656, 0.22699027, 0.93800573,\n",
       "       0.4795324 , 0.71748378, 0.14346632, 0.85579873, 0.14503835,\n",
       "       0.22332148, 0.60122331, 0.45485297, 0.30404635, 0.08660362,\n",
       "       0.47182811, 0.02404754, 0.063478  , 0.90270075, 0.70083203,\n",
       "       0.12995807, 0.30909896, 0.97980654, 0.77406037, 0.38962198,\n",
       "       0.04481597, 0.76767437, 0.45352021, 0.18173783, 0.61854242,\n",
       "       0.61822844, 0.00830991, 0.09467638, 0.88311675, 0.69835682,\n",
       "       0.55899433, 0.04449433, 0.54020463, 0.61330329, 0.14158578,\n",
       "       0.88159227, 0.79784842, 0.04482495, 0.20237246, 0.50829257,\n",
       "       0.80160531, 0.21133808, 0.06323882, 0.62742557, 0.10875062,\n",
       "       0.50355564, 0.38194195, 0.84664124, 0.97511997, 0.36179512,\n",
       "       0.57724382, 0.46037671, 0.65086538, 0.62251692, 0.81439307,\n",
       "       0.81253903, 0.45046504, 0.77029317, 0.39754875, 0.98436895,\n",
       "       0.69697044, 0.78421717, 0.14739979, 0.76557906, 0.49742651,\n",
       "       0.45573464, 0.5312272 , 0.18234146, 0.90136271, 0.73546305,\n",
       "       0.40029408, 0.78636896, 0.91293226, 0.56378008, 0.97516875,\n",
       "       0.07918005, 0.2944547 , 0.16097932, 0.87665608, 0.8475042 ,\n",
       "       0.17544324, 0.56322362, 0.15492581, 0.8431872 , 0.36501071,\n",
       "       0.36360944, 0.58660959, 0.43017904, 0.97173137, 0.08801368,\n",
       "       0.07632353, 0.4508833 , 0.91768861, 0.7706115 , 0.73043494,\n",
       "       0.71658558, 0.48069383, 0.27090745, 0.74405673, 0.25790098,\n",
       "       0.4950383 , 0.20288512, 0.0626192 , 0.72711183, 0.25083219,\n",
       "       0.11586298, 0.12022471, 0.68754539, 0.83384851, 0.52413749,\n",
       "       0.27857865, 0.56139307, 0.08423478, 0.28262264, 0.29927481,\n",
       "       0.2646382 , 0.13108359, 0.51481286, 0.41038565, 0.46720858])"
      ]
     },
     "execution_count": 4,
     "metadata": {},
     "output_type": "execute_result"
    }
   ],
   "source": [
    "np.random.rand(1000)"
   ]
  },
  {
   "cell_type": "markdown",
   "metadata": {},
   "source": [
    "This generated 1000 random numbers."
   ]
  },
  {
   "cell_type": "code",
   "execution_count": 5,
   "metadata": {},
   "outputs": [],
   "source": [
    "x = np.random.rand(1000)"
   ]
  },
  {
   "cell_type": "code",
   "execution_count": 34,
   "metadata": {
    "scrolled": true
   },
   "outputs": [
    {
     "data": {
      "image/png": "[encoded data removed]",
      "text/plain": [
       "<Figure size 432x288 with 1 Axes>"
      ]
     },
     "metadata": {},
     "output_type": "display_data"
    }
   ],
   "source": [
    "%matplotlib inline\n",
    "\n",
    "import matplotlib.pyplot as plt\n",
    "plt.style.use('seaborn-whitegrid')\n",
    "plt.hist(x)\n",
    "plt.xlabel('continuous variables')\n",
    "plt.ylabel('number of outcomes')\n",
    "plt.show()\n"
   ]
  },
  {
   "cell_type": "markdown",
   "metadata": {},
   "source": [
    "As you can see from the histogram above, the random.rand is uniform with 10 different columns of continuous variables all around the 100 level of outcomes."
   ]
  },
  {
   "cell_type": "markdown",
   "metadata": {},
   "source": [
    "### random.randn"
   ]
  },
  {
   "cell_type": "markdown",
   "metadata": {},
   "source": [
    "The random.randn function is the same as the random.rand as far as being able to give the outcome dimensions and the ability to generate just many random numbers. The only difference is that the random.randn is based on a normal distribution. Please see below histogram based on 5000 outcomes."
   ]
  },
  {
   "cell_type": "markdown",
   "metadata": {},
   "source": [
    "Here are two examples of the random.randn function :"
   ]
  },
  {
   "cell_type": "code",
   "execution_count": 7,
   "metadata": {},
   "outputs": [
    {
     "data": {
      "text/plain": [
       "array([[ 1.24654003, -0.92949444, -0.53431171,  0.00833373],\n",
       "       [-0.34833212,  0.46372151,  1.18138975, -2.92364483],\n",
       "       [ 0.10585337, -1.14324122, -1.25277469,  0.57341177],\n",
       "       [ 1.1358282 , -0.98944124, -1.34893631, -0.57974104]])"
      ]
     },
     "execution_count": 7,
     "metadata": {},
     "output_type": "execute_result"
    }
   ],
   "source": [
    "np.random.randn(4,4)"
   ]
  },
  {
   "cell_type": "markdown",
   "metadata": {},
   "source": [
    "This generated a random array of 4 rows by 4 columns."
   ]
  },
  {
   "cell_type": "code",
   "execution_count": 8,
   "metadata": {},
   "outputs": [],
   "source": [
    "y = np.random.randn(5000)"
   ]
  },
  {
   "cell_type": "code",
   "execution_count": 35,
   "metadata": {
    "scrolled": true
   },
   "outputs": [
    {
     "data": {
      "image/png": "[encoded data removed]",
      "text/plain": [
       "<Figure size 432x288 with 1 Axes>"
      ]
     },
     "metadata": {},
     "output_type": "display_data"
    }
   ],
   "source": [
    "plt.style.use('seaborn-whitegrid')\n",
    "plt.hist(y)\n",
    "plt.xlabel('continuous variables')\n",
    "plt.ylabel('number of outcomes')\n",
    "plt.show()"
   ]
  },
  {
   "cell_type": "markdown",
   "metadata": {},
   "source": [
    "As you csn see from the above histogram, the random.randn returns a normal distribution with the classic bell shape."
   ]
  },
  {
   "cell_type": "markdown",
   "metadata": {},
   "source": [
    "### random.random"
   ]
  },
  {
   "cell_type": "markdown",
   "metadata": {},
   "source": [
    "Random.rand is the same as the random.rand except for how the arguments are handled.In random.rand, the shapes are separate arguments while in the random.random function, the shape argument is a single tuple. https://stackoverflow.com/questions/47231852/np-random-rand-vs-np-random-random"
   ]
  },
  {
   "cell_type": "markdown",
   "metadata": {},
   "source": [
    "Here are two examples of the random.random function :"
   ]
  },
  {
   "cell_type": "code",
   "execution_count": 10,
   "metadata": {},
   "outputs": [
    {
     "data": {
      "text/plain": [
       "0.5628478173336995"
      ]
     },
     "execution_count": 10,
     "metadata": {},
     "output_type": "execute_result"
    }
   ],
   "source": [
    "np.random.random()"
   ]
  },
  {
   "cell_type": "markdown",
   "metadata": {},
   "source": [
    "This generated a single random number from the uniform distribution [0,1)."
   ]
  },
  {
   "cell_type": "code",
   "execution_count": 11,
   "metadata": {},
   "outputs": [],
   "source": [
    "z = np.random.random(5000)"
   ]
  },
  {
   "cell_type": "code",
   "execution_count": 36,
   "metadata": {
    "scrolled": true
   },
   "outputs": [
    {
     "data": {
      "image/png": "[encoded data removed]",
      "text/plain": [
       "<Figure size 432x288 with 1 Axes>"
      ]
     },
     "metadata": {},
     "output_type": "display_data"
    }
   ],
   "source": [
    "plt.style.use('seaborn-whitegrid')\n",
    "plt.hist(z)\n",
    "plt.xlabel('continuous variable')\n",
    "plt.ylabel('number of outcomes')\n",
    "plt.show()\n"
   ]
  },
  {
   "cell_type": "markdown",
   "metadata": {},
   "source": [
    "You can tell from the above histogram that the outcomes show a uniform distribution based on 5000 random numbers."
   ]
  },
  {
   "cell_type": "markdown",
   "metadata": {},
   "source": [
    "## Permutations "
   ]
  },
  {
   "cell_type": "markdown",
   "metadata": {},
   "source": [
    "In mathematics, permutation is defined as the act of arranging all the members of a set into some sequence or order, \n",
    "or if the set is already ordered, rearranging its elements, a process called permuting. https://en.wikipedia.org/wiki/Permutation"
   ]
  },
  {
   "cell_type": "code",
   "execution_count": 13,
   "metadata": {},
   "outputs": [
    {
     "data": {
      "text/plain": [
       "array([4, 3, 0, 1, 2])"
      ]
     },
     "execution_count": 13,
     "metadata": {},
     "output_type": "execute_result"
    }
   ],
   "source": [
    "np.random.permutation(5)"
   ]
  },
  {
   "cell_type": "code",
   "execution_count": 14,
   "metadata": {},
   "outputs": [
    {
     "data": {
      "text/plain": [
       "array([[0, 1],\n",
       "       [4, 5],\n",
       "       [2, 3]])"
      ]
     },
     "execution_count": 14,
     "metadata": {},
     "output_type": "execute_result"
    }
   ],
   "source": [
    "ar = np.arange(6).reshape((3,2))\n",
    "np.random.permutation(ar)"
   ]
  },
  {
   "cell_type": "markdown",
   "metadata": {},
   "source": [
    "# 3. Explain the use and purpose of at least five \"Distributions\" functions."
   ]
  },
  {
   "cell_type": "markdown",
   "metadata": {},
   "source": [
    "## Distributions"
   ]
  },
  {
   "cell_type": "markdown",
   "metadata": {},
   "source": [
    "Distribution, as defined in statistics, is a listing or function showing all the possible values (or intervals) of the data and how often they occur.(https://www.dummies.com/education/math/statistics/what-the-distribution-tells-you-about-a-statistical-data-set/)"
   ]
  },
  {
   "cell_type": "markdown",
   "metadata": {},
   "source": [
    "The main purpose of distributions is that they can be used as a shorthand for describinng and calculating related quantities, such as likelihhods of observations, and plotting the relationship between observations in the domain. (https://machinelearningmastery.com/statistical-data-distributions/)"
   ]
  },
  {
   "cell_type": "markdown",
   "metadata": {},
   "source": [
    "There are many types of distribtions and below we will look at 5 of the most common. They are the normal distribution, the uniform distribution, the exponential distribution, the poisson distribution and the binomial distribution."
   ]
  },
  {
   "cell_type": "markdown",
   "metadata": {},
   "source": [
    "### Normal Distribution"
   ]
  },
  {
   "cell_type": "markdown",
   "metadata": {},
   "source": [
    "The normal distribution, also known as the Gaussian distribution, is a probability distribution that is symmetric about the mean, showing that data near the mean are more frequent in occurrence than data far from the mean. (https://www.investopedia.com/terms/n/normaldistribution.asp)"
   ]
  },
  {
   "cell_type": "markdown",
   "metadata": {},
   "source": [
    "In numpy, the normal distribution function is defined as : numpy.random.normal(*loc*, *scale*, *size*).\n",
    "*loc* is the mean (centre) of the distribution, *scale* is the standard deviation (spread) of the distribution and \n",
    "*size* is the output shape. (https://docs.scipy.org/doc/numpy-1.15.1/reference/generated/numpy.random.normal.html#numpy.random.normal)"
   ]
  },
  {
   "cell_type": "code",
   "execution_count": 32,
   "metadata": {},
   "outputs": [
    {
     "data": {
      "text/plain": [
       "array([ 0.11541504,  0.15962019, -0.05224338,  0.08163294, -0.03355387,\n",
       "       -0.11279049,  0.07862697,  0.07020115,  0.05524058,  0.29070162])"
      ]
     },
     "execution_count": 32,
     "metadata": {},
     "output_type": "execute_result"
    }
   ],
   "source": [
    "np.random.normal(0,0.1,10)"
   ]
  },
  {
   "cell_type": "code",
   "execution_count": 28,
   "metadata": {},
   "outputs": [],
   "source": [
    "nd = np.random.normal(0,0.1,1000)"
   ]
  },
  {
   "cell_type": "code",
   "execution_count": 38,
   "metadata": {},
   "outputs": [
    {
     "data": {
      "image/png": "[encoded data removed]",
      "text/plain": [
       "<Figure size 432x288 with 1 Axes>"
      ]
     },
     "metadata": {},
     "output_type": "display_data"
    }
   ],
   "source": [
    "plt.style.use('seaborn-whitegrid')\n",
    "plt.hist(nd)\n",
    "plt.xlabel('continuous variable')\n",
    "plt.ylabel('number of outcomes')\n",
    "plt.show()"
   ]
  },
  {
   "cell_type": "markdown",
   "metadata": {},
   "source": [
    "As you can see from the above histogram, most of the data are near the mean (0)."
   ]
  },
  {
   "cell_type": "markdown",
   "metadata": {},
   "source": [
    "### Uniform Distribution"
   ]
  },
  {
   "cell_type": "markdown",
   "metadata": {},
   "source": [
    "The uniform distribution is a continuous distribution. It is a probability distribution that has a constant probability.\n",
    "It is also known as the rectangular distribution. The distribution is defined by two parameters, a and b. It is written as U(a,b). (https://www.statisticshowto.datasciencecentral.com/uniform-distribution/)"
   ]
  },
  {
   "cell_type": "code",
   "execution_count": 40,
   "metadata": {},
   "outputs": [
    {
     "data": {
      "text/plain": [
       "array([0.08421918, 0.96155766, 0.62325833, 0.40726346, 0.31836573,\n",
       "       0.1740825 , 0.32497123, 0.42397874, 0.93386251, 0.54383685])"
      ]
     },
     "execution_count": 40,
     "metadata": {},
     "output_type": "execute_result"
    }
   ],
   "source": [
    "np.random.uniform(0,1,10)"
   ]
  },
  {
   "cell_type": "code",
   "execution_count": 41,
   "metadata": {},
   "outputs": [],
   "source": [
    "ud = np.random.uniform(0,1,1000)"
   ]
  },
  {
   "cell_type": "code",
   "execution_count": 42,
   "metadata": {},
   "outputs": [
    {
     "data": {
      "image/png": "[encoded data removed]",
      "text/plain": [
       "<Figure size 432x288 with 1 Axes>"
      ]
     },
     "metadata": {},
     "output_type": "display_data"
    }
   ],
   "source": [
    "plt.style.use('seaborn-whitegrid')\n",
    "plt.hist(ud)\n",
    "plt.xlabel('continuous variable')\n",
    "plt.ylabel('number of outcomes')\n",
    "plt.show()"
   ]
  },
  {
   "cell_type": "markdown",
   "metadata": {},
   "source": [
    "As you can see from the above histogram, the uniform distribution takes the shape of a rectangle."
   ]
  },
  {
   "cell_type": "markdown",
   "metadata": {},
   "source": [
    "### Exponetial Distribution"
   ]
  },
  {
   "cell_type": "code",
   "execution_count": null,
   "metadata": {
    "collapsed": true
   },
   "outputs": [],
   "source": []
  },
  {
   "cell_type": "markdown",
   "metadata": {},
   "source": [
    "The exponential distribution (also known as the negative distribution) describes the time until some specific events occur. A popular example is the time before an earthquake takes place. Another example might be how many days before a car battery runs out. The exponential distribution is widely used in the field of reliability. Reliability deals with the amount of time a product lasts. (https://courses.lumenlearning.com/introstats1/chapter/the-exponential-distribution/)"
   ]
  },
  {
   "cell_type": "code",
   "execution_count": 43,
   "metadata": {},
   "outputs": [
    {
     "data": {
      "text/plain": [
       "array([0.00846583, 0.54349544, 1.07903207, 0.28356107, 0.47635018,\n",
       "       1.34556968, 0.26334805, 0.5082477 , 0.26656422, 0.5892199 ])"
      ]
     },
     "execution_count": 43,
     "metadata": {},
     "output_type": "execute_result"
    }
   ],
   "source": [
    "np.random.exponential(1.0, 10)"
   ]
  },
  {
   "cell_type": "code",
   "execution_count": 44,
   "metadata": {},
   "outputs": [],
   "source": [
    "ed = np.random.exponential(1.0, 1000)"
   ]
  },
  {
   "cell_type": "code",
   "execution_count": 46,
   "metadata": {},
   "outputs": [
    {
     "data": {
      "image/png": "[encoded data removed]",
      "text/plain": [
       "<Figure size 432x288 with 1 Axes>"
      ]
     },
     "metadata": {},
     "output_type": "display_data"
    }
   ],
   "source": [
    "plt.style.use('seaborn-whitegrid')\n",
    "plt.hist(ed)\n",
    "plt.xlabel('continuous variable')\n",
    "plt.ylabel('number of outcomes')\n",
    "plt.show()"
   ]
  },
  {
   "cell_type": "markdown",
   "metadata": {},
   "source": [
    "### Poisson Distribution"
   ]
  },
  {
   "cell_type": "markdown",
   "metadata": {},
   "source": [
    "The Poisson distribution is the discrete probability distribution of the number of events occurring in a given time period, given the average number of times the event occurs over that time period.(https://brilliant.org/wiki/poisson-distribution/)\n",
    "\n",
    "A classical example of a random variable having a Poisson distribution is the number of phone calls received by a call center. If the time elapsed between two successive phone calls has an exponential distribution and it is independent of the time of arrival of the previous calls, then the total number of calls received in one hour has a Poisson distribution. (https://www.statlect.com/probability-distributions/Poisson-distribution)"
   ]
  },
  {
   "cell_type": "code",
   "execution_count": 47,
   "metadata": {},
   "outputs": [
    {
     "data": {
      "text/plain": [
       "array([3, 0, 2, 0, 0, 2, 0, 2, 1, 3])"
      ]
     },
     "execution_count": 47,
     "metadata": {},
     "output_type": "execute_result"
    }
   ],
   "source": [
    "np.random.poisson(1.0,10)"
   ]
  },
  {
   "cell_type": "code",
   "execution_count": 53,
   "metadata": {},
   "outputs": [],
   "source": [
    "pd = np.random.poisson(1.0,1000)"
   ]
  },
  {
   "cell_type": "code",
   "execution_count": 51,
   "metadata": {},
   "outputs": [
    {
     "data": {
      "image/png": "[encoded data removed]",
      "text/plain": [
       "<Figure size 432x288 with 1 Axes>"
      ]
     },
     "metadata": {},
     "output_type": "display_data"
    }
   ],
   "source": [
    "plt.style.use('seaborn-whitegrid')\n",
    "plt.hist(pd)\n",
    "plt.xlabel('discrete variable')\n",
    "plt.ylabel('number of outcomes')\n",
    "plt.show()"
   ]
  },
  {
   "cell_type": "markdown",
   "metadata": {},
   "source": [
    "The Poisson distribution is related to the exponential distribution. Suppose an event can occur several times within a \n",
    "given unit of time. When the total number of occurrences of the event is unknown, we can think of it as a random variable. \n",
    "This random variable has a Poisson distribution if the time elapsed between two successive occurrences of the event has an exponential distribution and it is independent of previous occurrences."
   ]
  }
 ],
 "metadata": {
  "celltoolbar": "Raw Cell Format",
  "kernelspec": {
   "display_name": "Python 3",
   "language": "python",
   "name": "python3"
  },
  "language_info": {
   "codemirror_mode": {
    "name": "ipython",
    "version": 3
   },
   "file_extension": ".py",
   "mimetype": "text/x-python",
   "name": "python",
   "nbconvert_exporter": "python",
   "pygments_lexer": "ipython3",
   "version": "3.6.5"
  }
 },
 "nbformat": 4,
 "nbformat_minor": 2
}
