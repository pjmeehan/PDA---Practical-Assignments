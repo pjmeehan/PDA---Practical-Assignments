{
 "cells": [
  {
   "cell_type": "markdown",
   "metadata": {},
   "source": [
    "# Programming for Data Analysis Practical Assignment\n",
    "***\n",
    "1. Explain the overall purpose of the NumPy package.\n",
    "2. Explain the use of the \"simple random data\" and \"Permutations\" functions.\n",
    "3. Explain the use and purpose of at least five \"Distributions\" functions.\n",
    "4. Explain the use of seeds in generating pseudorandom numbers."
   ]
  },
  {
   "cell_type": "markdown",
   "metadata": {},
   "source": [
    "# 1. Explain the overall purpose of the NumPy package.\n",
    "\n",
    "## NumPy\n",
    "\n",
    "NumPy is a linear algebra library in Python. It is used to perform mathematical and logical operations in arrays.\n",
    "A NumPy array is a grid that contains values of the same type. There are 2 types of arrays :\n",
    "1. Vectors - are one dimensional\n",
    "2. Matrices - are multidimensional\n",
    "\n",
    "Why use NumPy when Python can perform the same function(s)?\n",
    "\n",
    "There are 2 reasons to use NumPy rather than Python, they are :\n",
    "1. NumPy is more efficient, meaning it uses less memory to store data.\n",
    "2. It handles the data from mathematical operations better.\n",
    "\n",
    "It's because of these 2 functions that NumPy is so popular and explains it's purpose. It allows for real life complex data to be used to solve solutions to everyday problems. NumPy is used across many industries as you can see by the following examples. The computer gaming industry uses it for computer generated images, electrical engineers use it to determine the properties of a circuit, medical companies use it for CAT scans and MRIs, the robotic industry uses it to operate robot movements and IT companies use it for tracking user information, to perform search queries and manage databases. These are just a small amount of examples.\n",
    "\n",
    "\n"
   ]
  },
  {
   "cell_type": "markdown",
   "metadata": {},
   "source": [
    "# 2. Explain the use of the \"Simple random data\" and \"Permutations\" functions."
   ]
  },
  {
   "cell_type": "markdown",
   "metadata": {},
   "source": [
    "## Simple Random Data\n",
    "\n",
    "Before I get into the randon fucntion(s) in numpy, I want to explore why anyone would need to generate random numbers. It turns out the use of random numbers is utilized across many industries.. It is used in science, art, statistics, gaming, gambling and other industries.(https://en.wikipedia.org/wiki/Applications_of_randomness). It is used to for encryption, modeling complex phenomena and for selectiing random samples from larger data sets. (https://www.random.org/randomness/).\n",
    "A specific example of the use of random generated numbers comes from the online betting exchange Betfair. In their online help centre, they offer an explanation of \"What are Random Number Generators, and how do they work?\". (https://en-betfair.custhelp.com/app/answers/detail/a_id/158/~/what-are-random-number-generators%2C-and-how-do-they-work%3F). It is very interesting, especially their explanation on the use of 'seeds'. More on seeds at the end of this assignment. But basically, they say it is used to generate numbers that do not have patterns and thus appear to be random. \n",
    "\n",
    "In NumPy, there are several ways to generate simple random data such as rand, randn, and random. They all return random numbers but go about it slightly different.<br>\n",
    "*_Rand_ - creates an array of a specified shape and fills it with random numbers from a uniform distribution over \\[0,1). https://docs.scipy.org/doc/numpy-1.15.1/reference/generated/numpy.random.rand.html <br>\n",
    "*_Randn_ - creates the same array as Rand but fills it with random values based on the 'standard normal' distribution.(https://www.geeksforgeeks.org/numpy-random-rand-python/). <br>\n",
    "*_Random_ - returns an array filled with random numbers from a continuous uniform distribution in the half open interval \\[0.0,1.0) (https://docs.scipy.org/doc/numpy-1.15.1/reference/generated/numpy.random.sample.html#numpy.random.sample.)<br>\n",
    "\n",
    " Below are examples of each of the three simple random functions and graphs to illustrate the outcomes."
   ]
  },
  {
   "cell_type": "code",
   "execution_count": 2,
   "metadata": {},
   "outputs": [],
   "source": [
    "import numpy as np"
   ]
  },
  {
   "cell_type": "markdown",
   "metadata": {},
   "source": [
    "### random.rand"
   ]
  },
  {
   "cell_type": "markdown",
   "metadata": {},
   "source": [
    "Random.rand (d0,d1,...dn)is the official function where d is a parameter that gives the array dimension. Example, random.rand(2,3) will return 6 random numbers \\(2*3) with dimensions 2 rows by 3 columns.<br>\n",
    "If you just wanted to generate x amount of numbers you would just enter how many numbers you wanted to generate instead of giving it dimensions. ie random.rand(1000)."
   ]
  },
  {
   "cell_type": "markdown",
   "metadata": {},
   "source": [
    "Here are two examples of the random.rand function :"
   ]
  },
  {
   "cell_type": "code",
   "execution_count": 3,
   "metadata": {},
   "outputs": [
    {
     "data": {
      "text/plain": [
       "array([[0.57887246, 0.40564776, 0.71485772, 0.57157149, 0.63094492],\n",
       "       [0.20167608, 0.20768328, 0.09720095, 0.37250278, 0.00826616]])"
      ]
     },
     "execution_count": 3,
     "metadata": {},
     "output_type": "execute_result"
    }
   ],
   "source": [
    "np.random.rand(2,5)"
   ]
  },
  {
   "cell_type": "markdown",
   "metadata": {},
   "source": [
    "This generated a random array of 2 rows by 5 columns."
   ]
  },
  {
   "cell_type": "code",
   "execution_count": 4,
   "metadata": {},
   "outputs": [
    {
     "data": {
      "text/plain": [
       "array([0.6406542 , 0.85924591, 0.50960294, 0.91332101, 0.99050438,\n",
       "       0.74611958, 0.91302536, 0.53005898, 0.1000157 , 0.64041178,\n",
       "       0.28954837, 0.92097153, 0.479762  , 0.42645178, 0.52232996,\n",
       "       0.83404913, 0.46231922, 0.95839961, 0.93563604, 0.16329555,\n",
       "       0.45708176, 0.53124756, 0.82714252, 0.84812614, 0.3646275 ,\n",
       "       0.29415242, 0.96805461, 0.55631768, 0.84380198, 0.86113516,\n",
       "       0.99880042, 0.31461493, 0.28631831, 0.72411573, 0.06307629,\n",
       "       0.99012003, 0.56767564, 0.45581759, 0.6279237 , 0.94893204,\n",
       "       0.06171851, 0.02165754, 0.35725383, 0.67622978, 0.16904818,\n",
       "       0.23601161, 0.52164764, 0.45817559, 0.97834876, 0.30382694,\n",
       "       0.14908365, 0.33718578, 0.31870681, 0.23862288, 0.70149147,\n",
       "       0.5664233 , 0.3628654 , 0.72037129, 0.59163892, 0.6586447 ,\n",
       "       0.08744561, 0.98112331, 0.17189306, 0.70392667, 0.48107449,\n",
       "       0.98216676, 0.5404099 , 0.45209854, 0.85239286, 0.43206127,\n",
       "       0.13842919, 0.98507091, 0.18073373, 0.77226871, 0.64658558,\n",
       "       0.3072645 , 0.43773344, 0.94388105, 0.45443747, 0.55966252,\n",
       "       0.22779084, 0.48683678, 0.88225339, 0.55053186, 0.07415409,\n",
       "       0.32448644, 0.68113415, 0.77146846, 0.27076486, 0.60173142,\n",
       "       0.35950248, 0.00552584, 0.20066555, 0.03744638, 0.00620994,\n",
       "       0.96142682, 0.32736208, 0.95722385, 0.57334436, 0.66006176,\n",
       "       0.52777773, 0.8882943 , 0.68456064, 0.15787977, 0.85141059,\n",
       "       0.12571817, 0.1456682 , 0.51604243, 0.56124471, 0.57230625,\n",
       "       0.87816087, 0.59916759, 0.36172545, 0.04633086, 0.24976944,\n",
       "       0.40133878, 0.10889328, 0.84541276, 0.05905895, 0.8071852 ,\n",
       "       0.00703881, 0.87989132, 0.75044931, 0.23538164, 0.12950173,\n",
       "       0.34659339, 0.6330785 , 0.95966439, 0.6482038 , 0.75065291,\n",
       "       0.66246238, 0.66246723, 0.13089925, 0.61869102, 0.59496537,\n",
       "       0.81889969, 0.05345235, 0.61812027, 0.5629549 , 0.59621818,\n",
       "       0.07376291, 0.06445977, 0.03281346, 0.66028376, 0.52453678,\n",
       "       0.02366793, 0.25429967, 0.00368621, 0.55130259, 0.78575237,\n",
       "       0.50429749, 0.55634239, 0.050886  , 0.65771972, 0.7173759 ,\n",
       "       0.9930217 , 0.36750878, 0.81487268, 0.41367758, 0.95506839,\n",
       "       0.63415209, 0.1831356 , 0.5445611 , 0.41147545, 0.48172551,\n",
       "       0.67913177, 0.68774712, 0.50980702, 0.54293367, 0.15956005,\n",
       "       0.82052791, 0.12032922, 0.41390467, 0.34264525, 0.94141581,\n",
       "       0.26833288, 0.67180055, 0.13791325, 0.81726431, 0.83747998,\n",
       "       0.68265807, 0.20588137, 0.1122356 , 0.5722861 , 0.24099687,\n",
       "       0.16006429, 0.58848318, 0.44495879, 0.71760377, 0.39593587,\n",
       "       0.56873255, 0.09263061, 0.92842976, 0.17880094, 0.52369759,\n",
       "       0.32015782, 0.10466577, 0.3953523 , 0.27863388, 0.63316387,\n",
       "       0.38100411, 0.66030784, 0.37226372, 0.37489637, 0.26324481,\n",
       "       0.93006291, 0.08520302, 0.82906535, 0.99669134, 0.53030162,\n",
       "       0.55104806, 0.20901382, 0.1131126 , 0.80530473, 0.30683348,\n",
       "       0.10564704, 0.45636053, 0.95115538, 0.34601935, 0.53321715,\n",
       "       0.19443497, 0.48130453, 0.85527575, 0.09623976, 0.32816132,\n",
       "       0.20426946, 0.00677942, 0.98449759, 0.61111997, 0.81914588,\n",
       "       0.80248782, 0.57660545, 0.55073584, 0.22290422, 0.60854277,\n",
       "       0.52254084, 0.34196668, 0.91486747, 0.09272388, 0.45513995,\n",
       "       0.18894639, 0.17078551, 0.67309431, 0.58174056, 0.86242043,\n",
       "       0.23517195, 0.97559113, 0.79164325, 0.36144068, 0.74844249,\n",
       "       0.30699764, 0.01493264, 0.57635884, 0.98664945, 0.58263409,\n",
       "       0.38593403, 0.53033143, 0.34958909, 0.93080363, 0.40286358,\n",
       "       0.86695237, 0.69241283, 0.03330765, 0.10889852, 0.26249265,\n",
       "       0.43137131, 0.6656144 , 0.2676885 , 0.99864855, 0.69127417,\n",
       "       0.77062849, 0.58548479, 0.51750975, 0.44302671, 0.10481449,\n",
       "       0.54058467, 0.70118561, 0.81449947, 0.67522116, 0.78007109,\n",
       "       0.56312235, 0.56417982, 0.42911763, 0.43318268, 0.76502338,\n",
       "       0.7722102 , 0.36627047, 0.66705603, 0.58678413, 0.00558807,\n",
       "       0.27277336, 0.56059708, 0.62140767, 0.1247796 , 0.75508554,\n",
       "       0.225903  , 0.37865974, 0.47155077, 0.25120181, 0.34053542,\n",
       "       0.48356109, 0.60461674, 0.43344506, 0.03683496, 0.23786577,\n",
       "       0.48011356, 0.98036762, 0.84604642, 0.14511157, 0.77832478,\n",
       "       0.11133642, 0.26947768, 0.98181377, 0.09378653, 0.97785393,\n",
       "       0.82641495, 0.0384991 , 0.5272244 , 0.26854632, 0.71314741,\n",
       "       0.18718888, 0.72821717, 0.30102572, 0.50001643, 0.03570003,\n",
       "       0.30070486, 0.27783259, 0.19042658, 0.86818382, 0.33868806,\n",
       "       0.95996329, 0.55595784, 0.04320942, 0.51957931, 0.63308269,\n",
       "       0.60256138, 0.32536232, 0.65214263, 0.88160604, 0.32382146,\n",
       "       0.15607712, 0.3219296 , 0.48015476, 0.5864323 , 0.2323178 ,\n",
       "       0.55210117, 0.85304036, 0.05528594, 0.62490189, 0.1204813 ,\n",
       "       0.50268823, 0.75004414, 0.79550127, 0.91212688, 0.60987948,\n",
       "       0.34019689, 0.35448395, 0.70425449, 0.9963118 , 0.48655769,\n",
       "       0.34892572, 0.41990353, 0.83775091, 0.99690195, 0.90670918,\n",
       "       0.63644941, 0.83445305, 0.31849631, 0.07488938, 0.88900578,\n",
       "       0.49467604, 0.16247174, 0.62418037, 0.60439706, 0.28449472,\n",
       "       0.21755844, 0.75223455, 0.3875009 , 0.92828777, 0.91840173,\n",
       "       0.13388078, 0.07794325, 0.84028714, 0.10712238, 0.25610119,\n",
       "       0.16597691, 0.87046871, 0.8685856 , 0.77146836, 0.35757991,\n",
       "       0.54453026, 0.36988138, 0.72484987, 0.76547475, 0.14132652,\n",
       "       0.77741939, 0.51417275, 0.82246976, 0.65639288, 0.12262836,\n",
       "       0.50340684, 0.28506819, 0.56740671, 0.39426501, 0.74935754,\n",
       "       0.85957141, 0.82023738, 0.41730363, 0.88796512, 0.12183437,\n",
       "       0.95882792, 0.85465695, 0.33935034, 0.84870348, 0.46002092,\n",
       "       0.45213463, 0.56247807, 0.83053537, 0.30255779, 0.99385659,\n",
       "       0.13226796, 0.91139826, 0.90330532, 0.48444251, 0.79129908,\n",
       "       0.82974783, 0.32602576, 0.59835282, 0.10141039, 0.94755389,\n",
       "       0.21659543, 0.73328104, 0.67729723, 0.66527446, 0.33551038,\n",
       "       0.58813977, 0.64113522, 0.24649038, 0.54629187, 0.99184445,\n",
       "       0.16870267, 0.18028959, 0.01238632, 0.01589679, 0.31398347,\n",
       "       0.81182264, 0.35943474, 0.98853846, 0.11549188, 0.23126785,\n",
       "       0.8060916 , 0.37052776, 0.81441954, 0.26396312, 0.99379341,\n",
       "       0.17316139, 0.0472557 , 0.61128731, 0.64715303, 0.49859646,\n",
       "       0.0769201 , 0.55393165, 0.59075766, 0.28009671, 0.04967281,\n",
       "       0.97841889, 0.27643335, 0.85066227, 0.05854442, 0.39105224,\n",
       "       0.47813124, 0.49301276, 0.52273547, 0.27114773, 0.44311798,\n",
       "       0.03355599, 0.39127227, 0.10442448, 0.59276656, 0.34073558,\n",
       "       0.30260458, 0.35469004, 0.78809369, 0.83251609, 0.33820632,\n",
       "       0.21297376, 0.54065384, 0.41244538, 0.14518311, 0.13766676,\n",
       "       0.40490166, 0.04371936, 0.9817247 , 0.10311614, 0.9720951 ,\n",
       "       0.80116024, 0.98955524, 0.31146436, 0.82176296, 0.98394595,\n",
       "       0.25806299, 0.29983053, 0.53749028, 0.74386878, 0.47184805,\n",
       "       0.04343959, 0.56120959, 0.9462884 , 0.28933271, 0.76357083,\n",
       "       0.06261995, 0.67908819, 0.89035985, 0.58144434, 0.37999443,\n",
       "       0.74617856, 0.26934246, 0.15891474, 0.80167572, 0.169274  ,\n",
       "       0.48631248, 0.11948622, 0.54854761, 0.82065573, 0.41062233,\n",
       "       0.56364247, 0.67317138, 0.33947145, 0.2943643 , 0.48862329,\n",
       "       0.79339258, 0.68745646, 0.00587232, 0.53701891, 0.40374494,\n",
       "       0.58586991, 0.75403564, 0.10863026, 0.44970166, 0.00966503,\n",
       "       0.46817363, 0.11669918, 0.43086755, 0.24059452, 0.25478443,\n",
       "       0.16496563, 0.61406918, 0.22441302, 0.37980994, 0.49408488,\n",
       "       0.49724664, 0.17967679, 0.66624027, 0.97138461, 0.62887915,\n",
       "       0.84902353, 0.69547566, 0.39739108, 0.50820274, 0.67016616,\n",
       "       0.87045089, 0.17192973, 0.03909989, 0.32060975, 0.5399716 ,\n",
       "       0.51081882, 0.77439855, 0.44421446, 0.08625415, 0.52796522,\n",
       "       0.38639814, 0.82765166, 0.65762437, 0.26933799, 0.97530431,\n",
       "       0.99949133, 0.7884585 , 0.03832761, 0.30862409, 0.5795984 ,\n",
       "       0.02660019, 0.37818351, 0.75709766, 0.02518282, 0.3311454 ,\n",
       "       0.32122838, 0.89170956, 0.50589618, 0.36837227, 0.74260942,\n",
       "       0.94708009, 0.6734055 , 0.19520235, 0.41580221, 0.72983561,\n",
       "       0.94662539, 0.24015494, 0.26451169, 0.2436135 , 0.6169219 ,\n",
       "       0.1186542 , 0.74708028, 0.45178792, 0.57742808, 0.92328248,\n",
       "       0.64797293, 0.62248811, 0.32015938, 0.15690859, 0.63448302,\n",
       "       0.2474574 , 0.17400205, 0.41380254, 0.72498703, 0.68975246,\n",
       "       0.76671242, 0.53875534, 0.2028322 , 0.7330805 , 0.35245676,\n",
       "       0.57056367, 0.38729746, 0.71298314, 0.15693696, 0.48664004,\n",
       "       0.76453163, 0.25212962, 0.58269091, 0.88229573, 0.97918772,\n",
       "       0.85733127, 0.32684277, 0.93257284, 0.48351317, 0.58528043,\n",
       "       0.82529923, 0.75811483, 0.98389367, 0.3322978 , 0.76123653,\n",
       "       0.2717197 , 0.16748204, 0.34795616, 0.71226573, 0.67873013,\n",
       "       0.8912312 , 0.68090497, 0.46328372, 0.02948613, 0.5871063 ,\n",
       "       0.11007354, 0.13724001, 0.91684491, 0.77405204, 0.26903449,\n",
       "       0.88882722, 0.34460412, 0.06625719, 0.2024436 , 0.42149291,\n",
       "       0.41452133, 0.77762672, 0.5964928 , 0.88238191, 0.21047045,\n",
       "       0.75929615, 0.83471339, 0.19811231, 0.22730519, 0.48582941,\n",
       "       0.98706115, 0.92246271, 0.98031047, 0.52269088, 0.23468068,\n",
       "       0.88281542, 0.01790279, 0.04399237, 0.02058023, 0.30882271,\n",
       "       0.1601036 , 0.72819526, 0.89143054, 0.81131329, 0.34926   ,\n",
       "       0.46119638, 0.19793574, 0.01130157, 0.33368034, 0.93023656,\n",
       "       0.6137384 , 0.60428845, 0.95935856, 0.17934906, 0.54879246,\n",
       "       0.96171303, 0.22820662, 0.3748968 , 0.22651625, 0.51138677,\n",
       "       0.82071309, 0.31641281, 0.03951505, 0.25815666, 0.86433671,\n",
       "       0.71555429, 0.8328162 , 0.99692892, 0.47778016, 0.5919591 ,\n",
       "       0.52371563, 0.27130937, 0.97549912, 0.25366505, 0.47946211,\n",
       "       0.81910321, 0.3038432 , 0.9043227 , 0.62012521, 0.60393201,\n",
       "       0.66107569, 0.38542456, 0.12622583, 0.21639647, 0.09833142,\n",
       "       0.60640338, 0.11697296, 0.25759383, 0.90707967, 0.98047676,\n",
       "       0.72426091, 0.14141786, 0.7502192 , 0.97109576, 0.71884804,\n",
       "       0.11896496, 0.62314432, 0.54405672, 0.18183992, 0.33369744,\n",
       "       0.02175575, 0.58556654, 0.95895765, 0.98400606, 0.22944448,\n",
       "       0.75364326, 0.60658728, 0.97382125, 0.49886607, 0.51033152,\n",
       "       0.46734456, 0.42987741, 0.03556993, 0.5606866 , 0.21661455,\n",
       "       0.93127416, 0.46496731, 0.31747971, 0.47256576, 0.11993435,\n",
       "       0.62057126, 0.30815816, 0.5271296 , 0.41642133, 0.6071026 ,\n",
       "       0.22133928, 0.63638405, 0.81626202, 0.2439764 , 0.89350894,\n",
       "       0.32429347, 0.10408408, 0.46503066, 0.08936513, 0.04048882,\n",
       "       0.53714718, 0.72676296, 0.04428473, 0.99757074, 0.1360645 ,\n",
       "       0.28487799, 0.30357329, 0.67724716, 0.74661433, 0.77465668,\n",
       "       0.30726112, 0.12584624, 0.81537254, 0.86327784, 0.27855163,\n",
       "       0.73400349, 0.23322343, 0.19768621, 0.8988605 , 0.80050727,\n",
       "       0.47099131, 0.26193087, 0.08132232, 0.0738887 , 0.27529001,\n",
       "       0.21400963, 0.20113579, 0.45184474, 0.68506339, 0.07384705,\n",
       "       0.49074513, 0.31417814, 0.05146309, 0.44148256, 0.94851462,\n",
       "       0.7042725 , 0.09011149, 0.07433111, 0.48131002, 0.36471512,\n",
       "       0.46904928, 0.29790847, 0.31214139, 0.6257463 , 0.01355856,\n",
       "       0.85025187, 0.02063088, 0.98130879, 0.55828345, 0.28693362,\n",
       "       0.8789743 , 0.7580878 , 0.13273785, 0.79516661, 0.97731846,\n",
       "       0.24905083, 0.71336682, 0.65191268, 0.1825105 , 0.68193421,\n",
       "       0.4742241 , 0.84603785, 0.4453305 , 0.84738147, 0.68596271,\n",
       "       0.26160764, 0.33292518, 0.79822778, 0.58906237, 0.58242825,\n",
       "       0.97424597, 0.8868623 , 0.35121664, 0.35711875, 0.90436177,\n",
       "       0.56695434, 0.77735648, 0.14787377, 0.335146  , 0.5574945 ,\n",
       "       0.44955452, 0.04964361, 0.09450443, 0.53550061, 0.1195208 ,\n",
       "       0.05904382, 0.48654452, 0.74278359, 0.30754556, 0.56547953,\n",
       "       0.74351419, 0.09052874, 0.09154575, 0.51780956, 0.54551802,\n",
       "       0.10368976, 0.24373209, 0.1080571 , 0.70745133, 0.56931031,\n",
       "       0.41158915, 0.76542291, 0.6226847 , 0.07106192, 0.58839272,\n",
       "       0.55173423, 0.25067718, 0.96379003, 0.62514007, 0.73707812,\n",
       "       0.82274252, 0.66618703, 0.40205284, 0.32828892, 0.20694736,\n",
       "       0.09194942, 0.7757157 , 0.92586783, 0.51829749, 0.83919166,\n",
       "       0.48621122, 0.02331351, 0.72443812, 0.10059441, 0.10366697,\n",
       "       0.98719424, 0.67737849, 0.40446847, 0.62821658, 0.18608908,\n",
       "       0.18314828, 0.75312278, 0.82283797, 0.91473764, 0.65511316,\n",
       "       0.51690209, 0.77672495, 0.11826535, 0.20426858, 0.78560641,\n",
       "       0.06840785, 0.6272676 , 0.58399062, 0.66613784, 0.75168051,\n",
       "       0.12609419, 0.08894677, 0.10368559, 0.05445887, 0.45559255,\n",
       "       0.58445779, 0.19553563, 0.33009776, 0.97074332, 0.28678843,\n",
       "       0.67304899, 0.73339303, 0.09942928, 0.46625856, 0.41440307,\n",
       "       0.25754658, 0.00945777, 0.48707094, 0.34817454, 0.510286  ,\n",
       "       0.85664491, 0.7041773 , 0.14864956, 0.46485302, 0.37781703,\n",
       "       0.34767387, 0.86656586, 0.82880216, 0.31746031, 0.10026595,\n",
       "       0.37032311, 0.45746876, 0.30445684, 0.77418592, 0.36046869,\n",
       "       0.44500532, 0.06221964, 0.98089257, 0.7358518 , 0.72110957,\n",
       "       0.24956069, 0.70087052, 0.48708013, 0.13821334, 0.04023815,\n",
       "       0.47876855, 0.59989233, 0.944412  , 0.94488683, 0.71764875,\n",
       "       0.10861458, 0.46459783, 0.59547382, 0.5262303 , 0.22088427,\n",
       "       0.59038848, 0.41663207, 0.09847927, 0.3376922 , 0.25944908,\n",
       "       0.60967562, 0.41874372, 0.50006858, 0.2090652 , 0.60076322,\n",
       "       0.08307872, 0.11772088, 0.73015597, 0.84503939, 0.81767293,\n",
       "       0.68999999, 0.78441177, 0.15804   , 0.61279724, 0.62910071,\n",
       "       0.30850491, 0.92244308, 0.25342955, 0.14704414, 0.71588587])"
      ]
     },
     "execution_count": 4,
     "metadata": {},
     "output_type": "execute_result"
    }
   ],
   "source": [
    "np.random.rand(1000)"
   ]
  },
  {
   "cell_type": "markdown",
   "metadata": {},
   "source": [
    "This generated 1000 random numbers."
   ]
  },
  {
   "cell_type": "code",
   "execution_count": 5,
   "metadata": {},
   "outputs": [],
   "source": [
    "x = np.random.rand(1000)"
   ]
  },
  {
   "cell_type": "code",
   "execution_count": 6,
   "metadata": {
    "scrolled": true
   },
   "outputs": [
    {
     "data": {
      "image/png": "[encoded data removed]",
      "text/plain": [
       "<Figure size 432x288 with 1 Axes>"
      ]
     },
     "metadata": {},
     "output_type": "display_data"
    }
   ],
   "source": [
    "%matplotlib inline\n",
    "\n",
    "import matplotlib.pyplot as plt\n",
    "plt.hist(x)\n",
    "plt.xlabel('continuous variables')\n",
    "plt.ylabel('number of outcomes')\n",
    "plt.show()\n"
   ]
  },
  {
   "cell_type": "markdown",
   "metadata": {},
   "source": [
    "As you can see from the histogram above, the random.rand is uniform with 10 different columns of continuous variables all around the 100 level of outcomes."
   ]
  },
  {
   "cell_type": "markdown",
   "metadata": {},
   "source": [
    "### random.randn"
   ]
  },
  {
   "cell_type": "markdown",
   "metadata": {},
   "source": [
    "The random.randn function is the same as the random.rand as far as being able to give the outcome dimensions and just the ability to generate many random numbers. The only difference is that the random.randn is based on a normal distribution. Please see below histogram based on 5000 outcomes."
   ]
  },
  {
   "cell_type": "markdown",
   "metadata": {},
   "source": [
    "Here are two examples of the random.randn function :"
   ]
  },
  {
   "cell_type": "code",
   "execution_count": 7,
   "metadata": {},
   "outputs": [
    {
     "data": {
      "text/plain": [
       "array([[-1.09288874,  0.22591046,  1.48136617, -1.47752459],\n",
       "       [ 1.06032551,  0.32699827,  1.34849989,  0.45042333],\n",
       "       [-1.37579101,  0.50955021, -0.1111218 , -2.33336898],\n",
       "       [-0.60946523,  1.00041009,  0.3074801 , -0.61269518]])"
      ]
     },
     "execution_count": 7,
     "metadata": {},
     "output_type": "execute_result"
    }
   ],
   "source": [
    "np.random.randn(4,4)"
   ]
  },
  {
   "cell_type": "markdown",
   "metadata": {},
   "source": [
    "This generated a random array of 4 rows by 4 columns."
   ]
  },
  {
   "cell_type": "code",
   "execution_count": 8,
   "metadata": {},
   "outputs": [],
   "source": [
    "y = np.random.randn(5000)"
   ]
  },
  {
   "cell_type": "code",
   "execution_count": 9,
   "metadata": {
    "scrolled": true
   },
   "outputs": [
    {
     "data": {
      "image/png": "[encoded data removed]",
      "text/plain": [
       "<Figure size 432x288 with 1 Axes>"
      ]
     },
     "metadata": {},
     "output_type": "display_data"
    }
   ],
   "source": [
    "plt.hist(y)\n",
    "plt.xlabel('continuous variables')\n",
    "plt.ylabel('number of outcomes')\n",
    "plt.show()"
   ]
  },
  {
   "cell_type": "markdown",
   "metadata": {},
   "source": [
    "As you csn see from the above histogram, the random.randn returns a normal distribution with the classic bell shape."
   ]
  },
  {
   "cell_type": "markdown",
   "metadata": {},
   "source": [
    "### random.random"
   ]
  },
  {
   "cell_type": "markdown",
   "metadata": {},
   "source": [
    "Random.rand is the same as the random.rand except for how the arguments are handled.In random.rand, the shapes are separate arguments while in the random.random function, the shape argument is a single tuple. https://stackoverflow.com/questions/47231852/np-random-rand-vs-np-random-random"
   ]
  },
  {
   "cell_type": "markdown",
   "metadata": {},
   "source": [
    "Here are two examples of the random.random function :"
   ]
  },
  {
   "cell_type": "code",
   "execution_count": 10,
   "metadata": {},
   "outputs": [
    {
     "data": {
      "text/plain": [
       "0.12124666539439266"
      ]
     },
     "execution_count": 10,
     "metadata": {},
     "output_type": "execute_result"
    }
   ],
   "source": [
    "np.random.random()"
   ]
  },
  {
   "cell_type": "markdown",
   "metadata": {},
   "source": [
    "This generated a single random number from the uniform distribution [0,1)."
   ]
  },
  {
   "cell_type": "code",
   "execution_count": 11,
   "metadata": {},
   "outputs": [],
   "source": [
    "z = np.random.random(5000)"
   ]
  },
  {
   "cell_type": "code",
   "execution_count": 12,
   "metadata": {
    "scrolled": true
   },
   "outputs": [
    {
     "data": {
      "image/png": "[encoded data removed]",
      "text/plain": [
       "<Figure size 432x288 with 1 Axes>"
      ]
     },
     "metadata": {},
     "output_type": "display_data"
    }
   ],
   "source": [
    "plt.hist(z)\n",
    "plt.xlabel('continuous variable')\n",
    "plt.ylabel('number of outcomes')\n",
    "plt.show()\n"
   ]
  },
  {
   "cell_type": "markdown",
   "metadata": {},
   "source": [
    "You can tell from the above histogram that the outcomes show a uniform distribution based on 5000 random numbers."
   ]
  },
  {
   "cell_type": "markdown",
   "metadata": {},
   "source": [
    "## Permutations "
   ]
  },
  {
   "cell_type": "markdown",
   "metadata": {},
   "source": [
    "In mathematics, permutation is defined as the act of arranging all the members of a set into some sequence or order, \n",
    "or if the set is already ordered, rearranging its elements, a process called permuting. https://en.wikipedia.org/wiki/Permutation"
   ]
  },
  {
   "cell_type": "code",
   "execution_count": 15,
   "metadata": {},
   "outputs": [
    {
     "data": {
      "text/plain": [
       "array([0, 1, 4, 2, 3])"
      ]
     },
     "execution_count": 15,
     "metadata": {},
     "output_type": "execute_result"
    }
   ],
   "source": [
    "np.random.permutation(5)"
   ]
  },
  {
   "cell_type": "code",
   "execution_count": 17,
   "metadata": {},
   "outputs": [
    {
     "data": {
      "text/plain": [
       "array([[4, 5],\n",
       "       [2, 3],\n",
       "       [0, 1]])"
      ]
     },
     "execution_count": 17,
     "metadata": {},
     "output_type": "execute_result"
    }
   ],
   "source": [
    "ar = np.arange(6).reshape((3,2))\n",
    "np.random.permutation(ar)"
   ]
  },
  {
   "cell_type": "code",
   "execution_count": null,
   "metadata": {},
   "outputs": [],
   "source": []
  }
 ],
 "metadata": {
  "celltoolbar": "Raw Cell Format",
  "kernelspec": {
   "display_name": "Python 3",
   "language": "python",
   "name": "python3"
  },
  "language_info": {
   "codemirror_mode": {
    "name": "ipython",
    "version": 3
   },
   "file_extension": ".py",
   "mimetype": "text/x-python",
   "name": "python",
   "nbconvert_exporter": "python",
   "pygments_lexer": "ipython3",
   "version": "3.6.5"
  }
 },
 "nbformat": 4,
 "nbformat_minor": 2
}
