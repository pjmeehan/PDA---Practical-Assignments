{
 "cells": [
  {
   "cell_type": "markdown",
   "metadata": {},
   "source": [
    "# Programming for Data Analysis Practical Assignment\n",
    "***\n",
    "1. Explain the overall purpose of the NumPy package.\n",
    "2. Explain the use of the \"simple random data\" and \"Permutations\" functions.\n",
    "3. Explain the use and purpose of at least five \"Distributions\" functions.\n",
    "4. Explain the use of seeds in generating pseudorandom numbers."
   ]
  },
  {
   "cell_type": "markdown",
   "metadata": {},
   "source": [
    "# 1. Explain the overall purpose of the NumPy package.\n",
    "\n",
    "## NumPy\n",
    "\n",
    "NumPy is a linear algebra library in Python. It is used to perform mathematical and logical operations in arrays.\n",
    "A NumPy array is a grid that contains values of the same type. There are 2 types of arrays :\n",
    "1. Vectors - are one dimensional\n",
    "2. Matrices - are multidimensional\n",
    "\n",
    "Why use NumPy when Python can perform the same function(s)?\n",
    "\n",
    "There are 2 reasons to use NumPy rather than Python, they are :\n",
    "1. NumPy is more efficient, meaning it uses less memory to store data.\n",
    "2. It handles the data from mathematical operations better.\n",
    "\n",
    "It's because of these 2 functions that NumPy is so popular and explains it's purpose. It allows for real life complex data to be used to solve solutions to everyday problems. NumPy is used across many industries as you can see by the following examples. The computer gaming industry uses it for computer generated images, electrical engineers use it to determine the properties of a circuit, medical companies use it for CAT scans and MRIs, the robotic industry uses it to operate robot movements and IT companies use it for tracking user information, to perform search queries and manage databases. These are just a small amount of examples.\n",
    "\n",
    "\n"
   ]
  },
  {
   "cell_type": "markdown",
   "metadata": {},
   "source": [
    "# 2. Explain the use of the \"Simple random data\" and \"Permutations\" functions."
   ]
  },
  {
   "cell_type": "markdown",
   "metadata": {},
   "source": [
    "## Simple Random Data\n",
    "\n",
    "Before I get into the randon fucntion(s) in numpy, I want to explore why anyone would need to generate random numbers. It turns out the use of random numbers is utilized across many industries.. It is used in science, art, statistics, gaming, gambling and other industries.(https://en.wikipedia.org/wiki/Applications_of_randomness). It is used to for encryption, modeling complex phenomena and for selectiing random samples from larger data sets. (https://www.random.org/randomness/).\n",
    "A specific example of the use of random generated numbers comes from the online betting exchange Betfair. In their online help centre, they offer an explanation of \"What are Random Number Generators, and how do they work?\". (https://en-betfair.custhelp.com/app/answers/detail/a_id/158/~/what-are-random-number-generators%2C-and-how-do-they-work%3F). It is very interesting, especially their explanation on the use of 'seeds'. More on seeds at the end of this assignment. But basically, they say it is used to generate numbers that do not have patterns and thus appear to be random. \n",
    "\n",
    "In NumPy, there are several ways to generate simple random data such as rand, randn, and random. They all return random numbers but for different purposes.<br>\n",
    "*_Rand_ - creates an array of a specified shape and fills it with random numbers from a uniform distribution over \\[0,1). https://docs.scipy.org/doc/numpy-1.15.1/reference/generated/numpy.random.rand.html <br>\n",
    "*_Randn_ - creates the same array as Rand but fills it with random values based on the 'standard normal' distribution.(https://www.geeksforgeeks.org/numpy-random-rand-python/). <br>\n",
    "*_Random_ - returns an array filled with random numbers from a continuous uniform distribution in the half open interval \\[0.0,1.0) (https://docs.scipy.org/doc/numpy-1.15.1/reference/generated/numpy.random.sample.html#numpy.random.sample.)<br>\n",
    "\n",
    " Below are examples of each of the three simple random functions and graphs to illustrate the outcomes."
   ]
  },
  {
   "cell_type": "code",
   "execution_count": 2,
   "metadata": {},
   "outputs": [],
   "source": [
    "import numpy as np"
   ]
  },
  {
   "cell_type": "markdown",
   "metadata": {},
   "source": [
    "### random.rand"
   ]
  },
  {
   "cell_type": "markdown",
   "metadata": {},
   "source": [
    "Random.rand (d0,d1,...dn)is the official formula where d is a parameter that gives the array dimension. Example, random.rand(2,3) will return 6 random numbers \\(2*3) with dimensions 2 rows by 3 columns.<br>\n",
    "If you just wanted to generate x amount of numbers you would just enter how many numbers you wanted to generate instead of giving it dimensions. ie random.rand(1000)."
   ]
  },
  {
   "cell_type": "code",
   "execution_count": 7,
   "metadata": {},
   "outputs": [
    {
     "data": {
      "text/plain": [
       "array([[0.29743322, 0.48685711, 0.50207484, 0.79608238, 0.76125708],\n",
       "       [0.57359361, 0.530562  , 0.7025064 , 0.93463279, 0.27401406]])"
      ]
     },
     "execution_count": 7,
     "metadata": {},
     "output_type": "execute_result"
    }
   ],
   "source": [
    "np.random.rand(2,5)"
   ]
  },
  {
   "cell_type": "markdown",
   "metadata": {},
   "source": [
    "This generated a random array of 2 rows by 5 columns."
   ]
  },
  {
   "cell_type": "code",
   "execution_count": 13,
   "metadata": {},
   "outputs": [
    {
     "data": {
      "text/plain": [
       "array([2.98275660e-01, 2.40579621e-01, 3.67703845e-01, 8.64822763e-01,\n",
       "       8.55181114e-01, 9.12244694e-01, 6.73273752e-01, 2.98235193e-01,\n",
       "       9.91693391e-01, 3.80632978e-01, 8.98239434e-01, 9.89627497e-02,\n",
       "       8.15893390e-01, 3.33136958e-01, 6.43462557e-01, 7.34751382e-01,\n",
       "       3.29978025e-01, 8.80189549e-01, 5.95366274e-01, 5.42545445e-01,\n",
       "       4.23611354e-01, 6.68915345e-01, 2.17311310e-01, 4.10506492e-01,\n",
       "       1.65559576e-01, 4.86191936e-01, 4.01372188e-01, 8.79598237e-01,\n",
       "       4.56215103e-02, 1.03493706e-01, 9.14117905e-01, 4.99002353e-01,\n",
       "       9.38675924e-01, 7.14240712e-01, 3.66975412e-01, 7.00097527e-01,\n",
       "       3.79378729e-01, 9.75774730e-02, 8.00413361e-01, 4.03230346e-01,\n",
       "       7.10863352e-01, 1.47366749e-01, 6.64220481e-01, 9.51692475e-01,\n",
       "       7.14083375e-02, 4.36383007e-01, 6.70127733e-01, 2.48202755e-01,\n",
       "       4.26664479e-01, 8.79351848e-01, 8.10217820e-01, 3.44736878e-01,\n",
       "       2.12476415e-01, 5.75452546e-01, 2.23175788e-02, 5.83971689e-01,\n",
       "       6.23486717e-01, 2.08188085e-01, 2.82974234e-01, 4.20283723e-01,\n",
       "       3.40473079e-01, 1.73205580e-01, 6.08839720e-01, 2.93232642e-01,\n",
       "       7.76894967e-01, 3.58409155e-01, 4.87630644e-01, 6.04077050e-01,\n",
       "       9.02572776e-01, 5.65401663e-02, 8.10557070e-01, 1.75135904e-01,\n",
       "       5.17054756e-01, 3.50622024e-01, 5.80954294e-01, 1.59302530e-01,\n",
       "       9.21391501e-01, 9.44482529e-01, 1.37342037e-02, 3.70860908e-01,\n",
       "       8.69425278e-01, 3.20040482e-02, 8.41861436e-01, 1.55356576e-01,\n",
       "       2.14762510e-01, 1.17200793e-01, 9.93017470e-02, 9.30335051e-01,\n",
       "       3.58829998e-01, 1.00224165e-01, 8.09371246e-01, 8.28785593e-01,\n",
       "       2.09334920e-01, 5.05597233e-01, 7.44467960e-01, 3.14747748e-01,\n",
       "       1.75423734e-01, 9.16254709e-01, 2.17561601e-01, 8.72410214e-01,\n",
       "       5.74562110e-01, 3.27761106e-01, 6.75247547e-01, 8.54751701e-01,\n",
       "       2.96854745e-01, 9.85477150e-01, 7.65114541e-01, 2.93753524e-01,\n",
       "       4.77830315e-01, 9.16471339e-01, 6.24523723e-01, 6.91189059e-01,\n",
       "       5.71281356e-01, 6.58851540e-01, 2.44861419e-01, 1.16826461e-01,\n",
       "       5.62214892e-01, 7.72195533e-01, 8.24605614e-01, 8.98061663e-01,\n",
       "       5.17389929e-01, 2.10282758e-01, 8.17888311e-01, 2.27622123e-01,\n",
       "       4.52579095e-02, 2.25387442e-01, 6.22479713e-01, 6.47963763e-01,\n",
       "       8.20396270e-01, 9.90588592e-01, 3.54163889e-02, 2.40453714e-01,\n",
       "       2.25449516e-01, 3.84556274e-01, 6.89986874e-01, 7.70531579e-01,\n",
       "       7.68908034e-01, 1.99965765e-02, 3.97605283e-01, 1.02531524e-01,\n",
       "       4.43232216e-01, 1.35948216e-01, 8.46706310e-01, 5.01990601e-01,\n",
       "       3.84275889e-01, 2.43684182e-01, 1.13607663e-01, 3.69545210e-01,\n",
       "       9.53254570e-02, 4.67238625e-01, 9.46137289e-01, 6.36636312e-01,\n",
       "       6.90685548e-01, 6.15018699e-01, 8.69058426e-01, 9.69968205e-01,\n",
       "       6.18983054e-01, 1.87254436e-02, 3.02939256e-01, 8.31653589e-01,\n",
       "       9.97956290e-02, 7.29552862e-01, 4.80065491e-01, 5.24223683e-01,\n",
       "       9.63642248e-01, 9.62571315e-01, 6.38271164e-01, 6.28418328e-01,\n",
       "       6.67646114e-01, 4.13075260e-01, 8.63478310e-01, 5.88824414e-02,\n",
       "       5.44099042e-01, 2.18515058e-01, 5.62022139e-01, 8.36260565e-01,\n",
       "       6.14812615e-01, 8.10381563e-01, 1.45442229e-01, 3.90471412e-02,\n",
       "       8.50983275e-02, 5.56473900e-01, 6.95144825e-01, 5.66093550e-01,\n",
       "       4.23783522e-01, 1.35775857e-01, 3.25849077e-01, 3.18434266e-01,\n",
       "       6.36002167e-01, 6.72584892e-01, 4.15233519e-01, 6.38470726e-01,\n",
       "       5.35108373e-01, 4.64416244e-01, 6.98674193e-01, 7.95456817e-01,\n",
       "       6.49281016e-01, 7.76738504e-01, 4.63887017e-01, 4.95826630e-01,\n",
       "       1.21302833e-01, 9.07242576e-01, 8.40224530e-01, 6.97943305e-01,\n",
       "       7.69038039e-01, 9.56942233e-01, 4.77930279e-02, 9.76479291e-01,\n",
       "       7.10594262e-01, 2.41420142e-01, 6.43907426e-01, 6.44069689e-01,\n",
       "       1.07677614e-02, 3.76469757e-01, 6.94156539e-01, 3.57594866e-01,\n",
       "       8.55878252e-02, 7.31196740e-01, 5.24087312e-02, 6.01768526e-01,\n",
       "       8.66086010e-02, 4.63238939e-01, 8.47845097e-01, 8.25226312e-01,\n",
       "       3.70231182e-01, 8.27028286e-01, 9.14807707e-01, 3.09829666e-02,\n",
       "       2.25824445e-01, 5.16541452e-01, 8.08208113e-01, 7.14304207e-01,\n",
       "       9.97380717e-01, 2.48188075e-01, 6.42064856e-01, 1.94973417e-02,\n",
       "       1.88217533e-01, 9.69313402e-01, 6.51779157e-01, 2.44116057e-01,\n",
       "       8.83022823e-01, 3.18459926e-01, 7.46717809e-01, 9.29965101e-02,\n",
       "       1.61845963e-01, 6.62296461e-01, 2.86262082e-01, 3.56468251e-01,\n",
       "       7.95459261e-01, 9.49575152e-01, 4.40569223e-01, 8.94535420e-01,\n",
       "       1.47922934e-01, 1.74800533e-01, 6.73275815e-01, 1.89626729e-02,\n",
       "       3.66327798e-01, 5.52756669e-01, 7.12822267e-01, 3.18856058e-03,\n",
       "       2.76737053e-01, 2.95596202e-01, 8.41415769e-02, 6.95410058e-01,\n",
       "       1.28380842e-01, 1.98899258e-01, 7.45967646e-01, 6.63930770e-01,\n",
       "       3.82447507e-01, 2.42496781e-01, 5.35135727e-01, 5.96276582e-01,\n",
       "       8.98337038e-01, 5.04082194e-01, 8.48898444e-01, 5.72669529e-01,\n",
       "       7.66389132e-01, 4.39135731e-01, 7.44263973e-01, 1.40773909e-01,\n",
       "       2.45617958e-02, 4.21741585e-01, 1.84100313e-01, 1.47735918e-01,\n",
       "       4.13354057e-01, 9.27609929e-01, 9.16981897e-01, 4.03822755e-01,\n",
       "       2.24219942e-01, 6.68252054e-01, 9.19338408e-01, 1.31074566e-01,\n",
       "       1.65737880e-01, 3.78021003e-01, 6.79448271e-04, 9.85007038e-01,\n",
       "       2.48138545e-01, 7.49482552e-01, 3.26033393e-01, 3.94748150e-01,\n",
       "       7.96792126e-01, 8.80531371e-01, 9.26174287e-01, 1.85557083e-01,\n",
       "       7.37821828e-01, 9.10617057e-01, 1.20960972e-01, 7.02335229e-01,\n",
       "       1.25681980e-01, 3.27356368e-01, 8.01604409e-01, 2.92496449e-01,\n",
       "       1.63364465e-01, 8.52594965e-01, 3.72869356e-01, 8.99516124e-01,\n",
       "       5.84090038e-01, 5.59740712e-03, 9.42986118e-01, 2.94646811e-01,\n",
       "       8.16069252e-02, 5.15033906e-02, 3.05143174e-01, 8.94812250e-01,\n",
       "       3.95737871e-01, 9.13729383e-01, 3.79395161e-01, 5.25152085e-01,\n",
       "       7.69172490e-01, 7.90716873e-01, 7.74556837e-01, 2.69537468e-01,\n",
       "       9.09757113e-02, 3.44593193e-01, 3.00829646e-01, 5.70847357e-01,\n",
       "       4.31417139e-01, 4.67960567e-02, 8.78712002e-01, 1.45159862e-01,\n",
       "       8.98477776e-01, 3.95748145e-01, 6.73714727e-01, 5.04822079e-01,\n",
       "       4.49946636e-01, 8.69429777e-01, 4.31087555e-01, 6.66161071e-01,\n",
       "       8.93913740e-01, 1.99602044e-02, 3.26031799e-01, 6.04901925e-01,\n",
       "       2.35919648e-01, 2.54698522e-01, 6.95009086e-01, 4.78095131e-01,\n",
       "       5.80855674e-01, 7.25875666e-01, 4.19901292e-01, 4.83721417e-01,\n",
       "       4.54611957e-02, 3.73422663e-01, 3.37467313e-02, 9.40539424e-01,\n",
       "       8.11581869e-01, 3.48476573e-01, 6.83479738e-01, 1.11786480e-01,\n",
       "       2.84124128e-02, 4.58781293e-01, 5.16720780e-01, 8.34564208e-01,\n",
       "       2.02108840e-01, 8.33802933e-02, 5.29864529e-01, 1.74829807e-01,\n",
       "       3.31881450e-01, 6.94140991e-02, 5.22174291e-01, 2.04615748e-01,\n",
       "       7.56827183e-02, 1.43826557e-02, 4.63888876e-01, 2.90746532e-01,\n",
       "       7.85218285e-01, 5.02709561e-01, 7.32196265e-01, 6.28431451e-01,\n",
       "       7.80661149e-02, 3.60118448e-01, 7.91082056e-01, 1.24988575e-01,\n",
       "       5.64744773e-01, 6.70386089e-01, 8.58183273e-01, 3.69191097e-01,\n",
       "       2.18198319e-01, 5.60294256e-01, 2.68945458e-01, 7.32374745e-01,\n",
       "       5.92710119e-01, 3.95837756e-01, 7.64724789e-02, 1.82808962e-02,\n",
       "       9.47830319e-01, 9.99957279e-01, 7.08789803e-01, 6.18476364e-01,\n",
       "       5.35369797e-01, 5.49896666e-01, 2.30750041e-01, 9.05343488e-02,\n",
       "       7.30402331e-01, 1.40802893e-01, 6.03205519e-01, 6.99049012e-01,\n",
       "       5.73503308e-01, 7.76327717e-01, 9.88882532e-01, 3.25909228e-01,\n",
       "       3.16747673e-01, 4.76891795e-01, 4.66889394e-01, 2.03832772e-01,\n",
       "       6.58842982e-01, 7.74000343e-01, 3.31530909e-01, 6.70148356e-01,\n",
       "       4.50611580e-01, 1.14827179e-01, 9.31334958e-01, 9.20801997e-01,\n",
       "       1.66318882e-01, 9.72169572e-01, 2.03102521e-01, 8.13789266e-01,\n",
       "       7.35536816e-01, 9.63827310e-01, 1.44030387e-01, 6.64050290e-01,\n",
       "       5.59947554e-01, 5.16372732e-02, 9.99653027e-01, 1.44711020e-02,\n",
       "       3.20624475e-01, 3.09282183e-01, 9.82726171e-01, 8.32241137e-01,\n",
       "       3.13220263e-01, 1.67363392e-01, 5.12995240e-01, 1.55393510e-02,\n",
       "       3.61653590e-01, 5.65146964e-01, 7.63779947e-01, 7.76109737e-02,\n",
       "       5.24336537e-01, 8.53481943e-02, 9.30772252e-01, 1.64515566e-01,\n",
       "       3.18069233e-01, 7.94507103e-01, 7.15871127e-01, 9.63974156e-01,\n",
       "       7.83574787e-02, 2.93848409e-01, 3.65402188e-01, 3.21069780e-01,\n",
       "       4.93393966e-01, 3.91752298e-01, 7.88147806e-01, 7.72841936e-01,\n",
       "       2.35454638e-01, 3.06232150e-01, 7.66481188e-01, 4.24270549e-01,\n",
       "       1.41655246e-01, 5.00805438e-02, 1.44919004e-01, 6.92304781e-01,\n",
       "       1.06382316e-01, 7.20583207e-01, 2.31981428e-01, 8.32258205e-01,\n",
       "       2.97989930e-01, 7.02977426e-01, 2.83007263e-01, 2.38339574e-01,\n",
       "       2.83711663e-01, 3.85705604e-01, 3.03490685e-01, 9.59657959e-01,\n",
       "       3.10085250e-01, 2.12046228e-01, 9.54585655e-01, 6.89852573e-01,\n",
       "       8.01437121e-01, 5.34026852e-01, 3.83050216e-01, 7.23082989e-01,\n",
       "       3.51606558e-01, 5.37761777e-01, 9.43437573e-01, 8.60866417e-03,\n",
       "       7.59630502e-01, 6.77228342e-02, 2.05648046e-01, 1.35289849e-01,\n",
       "       8.59056089e-01, 4.85309849e-01, 8.72752678e-01, 7.01800706e-01,\n",
       "       5.34638697e-01, 3.48733114e-02, 5.29683741e-01, 4.91200330e-03,\n",
       "       9.28734814e-01, 8.08679116e-01, 4.46202720e-01, 3.97732649e-01,\n",
       "       1.59240013e-01, 5.61009352e-01, 7.56863408e-01, 8.64817924e-02,\n",
       "       4.53355572e-01, 3.89091610e-01, 9.34412341e-01, 5.51137989e-01,\n",
       "       4.23394278e-01, 7.65212407e-01, 8.92364627e-01, 8.70427376e-02,\n",
       "       7.09789129e-01, 9.43481849e-01, 4.06935429e-01, 2.01991037e-01,\n",
       "       4.29167379e-01, 6.97676109e-01, 9.86686815e-01, 4.22043478e-01,\n",
       "       4.66715826e-01, 8.83900014e-01, 6.03734192e-01, 6.22928006e-01,\n",
       "       8.33001105e-01, 8.06210011e-01, 9.60478688e-01, 8.48243962e-01,\n",
       "       4.31278082e-01, 2.45988878e-01, 6.33769351e-01, 4.45866439e-01,\n",
       "       1.19227023e-01, 6.14743531e-01, 8.62068275e-01, 6.29232821e-01,\n",
       "       7.56630288e-01, 3.34764626e-01, 4.95721986e-01, 7.59929383e-01,\n",
       "       3.04434897e-01, 8.84527187e-01, 9.09657966e-01, 5.19015021e-01,\n",
       "       2.31853496e-01, 3.06074920e-01, 3.78338037e-01, 3.40610337e-01,\n",
       "       2.38655475e-01, 5.42708692e-01, 6.60375545e-01, 2.90705440e-01,\n",
       "       7.17783962e-01, 4.49510692e-01, 6.91714117e-01, 6.36440779e-01,\n",
       "       7.05457830e-01, 4.66550498e-01, 8.96599931e-01, 5.15931182e-01,\n",
       "       9.99475615e-01, 7.67902373e-01, 7.60070167e-01, 6.22204941e-01,\n",
       "       7.14062350e-01, 3.02056112e-01, 5.85639859e-01, 8.05774079e-01,\n",
       "       1.96122444e-01, 8.14858242e-01, 7.21350833e-01, 6.55437027e-01,\n",
       "       7.28394677e-01, 7.35375386e-01, 8.33889730e-01, 4.08824713e-01,\n",
       "       7.27954669e-01, 5.11276238e-01, 6.87191877e-01, 1.80903551e-01,\n",
       "       6.39119960e-01, 2.74904856e-01, 2.85024079e-01, 9.74235310e-01,\n",
       "       2.59166358e-01, 4.15212590e-01, 8.33207089e-01, 7.14223400e-01,\n",
       "       1.68982965e-01, 4.13820489e-01, 4.47724959e-01, 9.30413276e-01,\n",
       "       2.71771282e-01, 1.08198871e-01, 6.09458095e-01, 9.49608661e-01,\n",
       "       2.81565106e-01, 3.63803825e-02, 8.93611264e-01, 4.50585632e-01,\n",
       "       5.60673747e-01, 5.02346566e-01, 1.97229079e-01, 5.04788675e-01,\n",
       "       2.00801325e-01, 2.98842971e-01, 3.05009245e-01, 6.64737978e-01,\n",
       "       1.12821478e-03, 4.74588306e-01, 3.38021784e-01, 7.96984759e-01,\n",
       "       4.01618940e-02, 7.48917519e-02, 4.50300725e-01, 3.75427686e-01,\n",
       "       7.81880255e-01, 8.96823278e-01, 2.84701853e-01, 6.54845226e-01,\n",
       "       4.45742946e-01, 6.79256969e-01, 8.93008051e-01, 4.51382240e-01,\n",
       "       5.54534753e-01, 2.48328201e-01, 2.43236831e-03, 9.67842827e-01,\n",
       "       8.10682422e-01, 2.18575575e-01, 4.35088791e-01, 7.52846688e-01,\n",
       "       9.61919043e-01, 9.35457613e-01, 8.05468995e-01, 8.28299196e-01,\n",
       "       3.75157734e-01, 1.83819062e-01, 5.72690235e-01, 9.52993253e-01,\n",
       "       6.69677057e-01, 8.96370190e-01, 8.77059770e-01, 9.98419672e-01,\n",
       "       6.67279055e-01, 6.13667061e-01, 7.86192156e-01, 2.93917039e-01,\n",
       "       7.99285906e-02, 9.17377771e-01, 6.59248216e-02, 5.90798388e-02,\n",
       "       8.37001253e-01, 8.38038936e-01, 4.57092888e-01, 4.40865269e-01,\n",
       "       8.73913170e-01, 8.44899644e-01, 2.83911439e-01, 5.82073380e-01,\n",
       "       9.56002530e-01, 4.22665766e-01, 4.46913716e-02, 6.53048956e-02,\n",
       "       1.67842180e-01, 7.33942680e-01, 1.12284152e-01, 4.85680006e-01,\n",
       "       8.92535268e-01, 6.84272790e-01, 1.76720910e-01, 4.14613943e-01,\n",
       "       9.47007367e-01, 6.53215760e-01, 2.10151821e-01, 8.94001596e-01,\n",
       "       1.26505776e-01, 9.28768222e-01, 7.27874552e-01, 5.90883962e-01,\n",
       "       7.08240244e-01, 7.69517488e-01, 4.15341979e-01, 5.74033418e-02,\n",
       "       8.92188377e-01, 9.06873261e-01, 8.34108779e-01, 5.85347567e-01,\n",
       "       1.49542774e-01, 8.67854611e-02, 8.38219907e-01, 9.68711754e-01,\n",
       "       3.29076190e-03, 8.01857127e-02, 1.80206546e-01, 8.51448479e-01,\n",
       "       5.24281010e-01, 9.16174096e-01, 3.97660966e-01, 5.07411049e-01,\n",
       "       9.32185131e-01, 8.31142071e-01, 1.38542261e-01, 9.80993164e-01,\n",
       "       5.18099586e-01, 6.29808598e-01, 6.45574884e-01, 2.03454716e-01,\n",
       "       2.67210387e-01, 1.30425010e-01, 2.43320247e-01, 6.45224593e-01,\n",
       "       5.96157607e-01, 3.27228242e-01, 1.24197117e-01, 6.13305962e-01,\n",
       "       2.10358859e-01, 8.35082310e-01, 9.35966193e-01, 4.75416250e-01,\n",
       "       2.38316761e-01, 9.58249716e-02, 6.91243957e-01, 7.01944138e-02,\n",
       "       2.68879157e-02, 2.64158078e-01, 6.74300452e-01, 1.58324529e-01,\n",
       "       7.28709969e-01, 4.10453910e-01, 4.72340590e-01, 1.07922441e-02,\n",
       "       7.17868151e-02, 4.58618945e-01, 2.44809682e-01, 3.97542026e-01,\n",
       "       2.67852835e-01, 2.49993320e-01, 4.04846527e-01, 5.44150793e-01,\n",
       "       6.69270832e-01, 6.23302579e-01, 4.23443748e-01, 5.99704080e-01,\n",
       "       3.25324937e-01, 4.37638621e-01, 8.00095537e-02, 1.18581485e-01,\n",
       "       7.35074499e-01, 8.15232708e-01, 4.18853251e-01, 9.02615815e-01,\n",
       "       1.32908851e-01, 3.92395605e-01, 8.82456525e-01, 2.68769040e-01,\n",
       "       8.03033583e-02, 1.03602632e-01, 1.83635149e-01, 3.73086576e-01,\n",
       "       3.63051053e-01, 6.45523840e-01, 7.54199888e-01, 4.41456250e-04,\n",
       "       5.08844404e-01, 4.84223835e-01, 2.92810867e-01, 5.03476275e-01,\n",
       "       1.37434315e-01, 6.43485463e-01, 1.81992026e-01, 7.71793601e-01,\n",
       "       3.92099350e-02, 3.38327635e-01, 1.66528247e-01, 4.34929271e-01,\n",
       "       5.69997237e-01, 3.24479019e-02, 1.05212209e-01, 4.25266342e-01,\n",
       "       8.59055898e-01, 1.42314580e-02, 3.29784771e-01, 5.90818835e-01,\n",
       "       9.21187099e-01, 7.50404779e-01, 8.44616390e-02, 9.65679521e-03,\n",
       "       4.09597758e-02, 8.62839541e-01, 5.68252223e-01, 5.58788528e-01,\n",
       "       7.59240974e-01, 1.44946512e-01, 2.56015041e-01, 3.20609277e-01,\n",
       "       9.78991077e-01, 3.80417492e-01, 2.53419203e-01, 4.30822630e-02,\n",
       "       7.17270714e-01, 9.99021371e-01, 2.16959710e-01, 1.95373366e-01,\n",
       "       1.49796377e-01, 1.81298442e-01, 9.05465175e-01, 1.39697100e-02,\n",
       "       3.48792183e-01, 7.32375479e-01, 8.16639096e-01, 1.34297440e-01,\n",
       "       3.53769938e-01, 4.53494936e-01, 9.74891444e-01, 6.27219292e-01,\n",
       "       5.95853254e-01, 9.27034614e-01, 2.65963724e-01, 7.61054805e-01,\n",
       "       6.83188869e-01, 3.98402447e-01, 7.48663150e-01, 4.27837260e-02,\n",
       "       5.52398467e-01, 1.59557815e-01, 9.87956468e-01, 5.60661666e-01,\n",
       "       5.63352444e-01, 7.70226206e-01, 9.71829729e-01, 4.96141180e-01,\n",
       "       4.04100453e-01, 5.37403482e-01, 9.27245615e-01, 8.16364629e-01,\n",
       "       3.77978597e-02, 7.81413584e-01, 4.01267095e-01, 6.10762026e-01,\n",
       "       9.01826644e-01, 9.55480880e-01, 3.72880879e-01, 2.47852489e-01,\n",
       "       5.97695510e-01, 9.50256222e-01, 1.18059602e-01, 8.65676748e-02,\n",
       "       7.70084645e-01, 3.38680457e-01, 6.10307042e-01, 7.72536953e-01,\n",
       "       7.21352405e-01, 3.28207730e-01, 3.66729144e-01, 1.52921494e-01,\n",
       "       6.34823658e-02, 4.22634978e-01, 6.79320289e-01, 5.60519598e-01,\n",
       "       9.28667622e-01, 8.18229816e-01, 5.65952946e-01, 7.75530763e-01,\n",
       "       4.35059566e-01, 7.76280814e-01, 7.68715669e-01, 9.73102955e-01,\n",
       "       5.19264639e-01, 4.05096845e-01, 1.76827171e-01, 9.15226412e-01,\n",
       "       7.47289433e-01, 2.41237567e-01, 3.67104775e-01, 2.03139873e-01,\n",
       "       8.60178822e-01, 7.29757049e-01, 3.07530058e-01, 8.19528979e-01,\n",
       "       5.75099484e-01, 3.98744146e-01, 4.00629694e-01, 6.57987862e-01,\n",
       "       4.23228554e-01, 8.40871559e-01, 9.01159059e-01, 6.29893857e-01,\n",
       "       7.35879675e-01, 9.94293318e-01, 9.35830845e-01, 7.45149439e-02,\n",
       "       3.52461315e-01, 7.48210873e-01, 1.05561531e-01, 4.78895601e-01,\n",
       "       8.53411083e-01, 7.13336870e-02, 2.38219845e-01, 8.76831422e-02,\n",
       "       4.02568902e-01, 2.69251748e-01, 1.14261728e-03, 9.27142133e-01,\n",
       "       4.73564832e-01, 4.04116418e-01, 5.81951331e-01, 5.11098646e-01,\n",
       "       5.92855091e-01, 6.67356684e-01, 4.54352087e-01, 3.96846300e-01,\n",
       "       3.46889517e-01, 3.73000821e-01, 4.27909516e-01, 9.95796850e-01,\n",
       "       2.02120455e-01, 4.36310958e-02, 6.69789373e-01, 1.36104905e-01,\n",
       "       6.29513713e-01, 4.46796317e-01, 5.98765457e-02, 9.76567717e-01,\n",
       "       8.78684412e-01, 6.86345340e-01, 4.21493850e-01, 6.98455386e-01,\n",
       "       9.90806319e-01, 2.88921957e-01, 8.20271268e-02, 9.20836472e-01,\n",
       "       5.59738054e-01, 8.18389489e-01, 6.37335218e-02, 4.78331819e-01,\n",
       "       1.87333266e-01, 3.92829782e-01, 2.26055434e-01, 1.49744119e-01,\n",
       "       5.55015322e-01, 3.26356888e-01, 1.95687080e-02, 5.98411694e-01,\n",
       "       1.01625719e-01, 3.55579035e-01, 8.40134025e-02, 4.92971804e-01,\n",
       "       8.79878242e-01, 6.16115105e-01, 5.87037111e-01, 7.21774787e-01,\n",
       "       4.73854910e-01, 6.57700152e-01, 5.89140463e-01, 6.44278387e-01,\n",
       "       6.95674671e-02, 5.64051110e-01, 7.97965436e-01, 4.31974562e-01,\n",
       "       3.48273008e-01, 3.51825181e-01, 7.57807528e-01, 2.66929747e-01,\n",
       "       9.81228889e-01, 7.66660638e-01, 6.25723401e-01, 7.88043383e-01,\n",
       "       7.34832567e-02, 4.95020808e-01, 8.92363143e-01, 9.04154468e-02,\n",
       "       8.18739303e-02, 2.58586773e-01, 3.45630141e-01, 5.37957174e-01,\n",
       "       8.91465567e-01, 1.25640177e-01, 3.79010944e-01, 6.65637562e-02])"
      ]
     },
     "execution_count": 13,
     "metadata": {},
     "output_type": "execute_result"
    }
   ],
   "source": [
    "np.random.rand(1000)"
   ]
  },
  {
   "cell_type": "markdown",
   "metadata": {},
   "source": [
    "This generated 1000 random numbers."
   ]
  },
  {
   "cell_type": "code",
   "execution_count": 9,
   "metadata": {},
   "outputs": [],
   "source": [
    "x = np.random.rand(1000)"
   ]
  },
  {
   "cell_type": "code",
   "execution_count": 15,
   "metadata": {
    "scrolled": true
   },
   "outputs": [
    {
     "data": {
      "image/png": "[encoded data removed]",
      "text/plain": [
       "<Figure size 432x288 with 1 Axes>"
      ]
     },
     "metadata": {},
     "output_type": "display_data"
    }
   ],
   "source": [
    "%matplotlib inline\n",
    "\n",
    "import matplotlib.pyplot as plt\n",
    "plt.hist(x)\n",
    "plt.xlabel('continuous variables')\n",
    "plt.ylabel('number of outcomes')\n",
    "plt.show()\n"
   ]
  },
  {
   "cell_type": "markdown",
   "metadata": {},
   "source": [
    "As you can see from the histogram above, the random.rand is uniform with 10 different columns of continuous variables all around the 100 level of outcomes."
   ]
  },
  {
   "cell_type": "markdown",
   "metadata": {},
   "source": [
    "### random.randn"
   ]
  },
  {
   "cell_type": "markdown",
   "metadata": {},
   "source": [
    "The random.randn formula is the same as the random.rand as far as giving the outcome dimensions or just the ability to generate many random numbers. The only difference is that the random.randn is based on the outcomes being a normal distribution. Please see below histogram based on 5000 outcomes."
   ]
  },
  {
   "cell_type": "code",
   "execution_count": 10,
   "metadata": {},
   "outputs": [
    {
     "data": {
      "text/plain": [
       "array([[ 0.26190213, -0.69465142,  1.37478834, -0.66560337],\n",
       "       [-1.22003032, -0.17581279,  0.77704831, -0.87512517],\n",
       "       [ 0.42818374,  0.60701425, -1.87777498, -1.25327202],\n",
       "       [ 0.18483908,  2.23229935, -0.32728827,  0.86370174]])"
      ]
     },
     "execution_count": 10,
     "metadata": {},
     "output_type": "execute_result"
    }
   ],
   "source": [
    "np.random.randn(4,4)"
   ]
  },
  {
   "cell_type": "markdown",
   "metadata": {},
   "source": [
    "This generated a random array of 4 rows by 4 columns."
   ]
  },
  {
   "cell_type": "code",
   "execution_count": 17,
   "metadata": {},
   "outputs": [],
   "source": [
    "y = np.random.randn(5000)"
   ]
  },
  {
   "cell_type": "code",
   "execution_count": 18,
   "metadata": {},
   "outputs": [
    {
     "data": {
      "image/png": "[encoded data removed]",
      "text/plain": [
       "<Figure size 432x288 with 1 Axes>"
      ]
     },
     "metadata": {},
     "output_type": "display_data"
    }
   ],
   "source": [
    "plt.hist(y)\n",
    "plt.xlabel('continuous variables')\n",
    "plt.ylabel('number of outcomes')\n",
    "plt.show()"
   ]
  },
  {
   "cell_type": "markdown",
   "metadata": {},
   "source": [
    "As you csn see from the above histogram, the random.randn returns a normal distribution with the classic bell shape."
   ]
  },
  {
   "cell_type": "code",
   "execution_count": 14,
   "metadata": {},
   "outputs": [
    {
     "data": {
      "text/plain": [
       "0.16508767112529465"
      ]
     },
     "execution_count": 14,
     "metadata": {},
     "output_type": "execute_result"
    }
   ],
   "source": [
    "np.random.random()"
   ]
  },
  {
   "cell_type": "markdown",
   "metadata": {},
   "source": [
    "This generated a single random number from the uniform distribution [0,1)."
   ]
  },
  {
   "cell_type": "code",
   "execution_count": 22,
   "metadata": {},
   "outputs": [],
   "source": [
    "z = np.random.random(5000)"
   ]
  },
  {
   "cell_type": "code",
   "execution_count": 23,
   "metadata": {},
   "outputs": [
    {
     "data": {
      "image/png": "[encoded data removed]",
      "text/plain": [
       "<Figure size 432x288 with 1 Axes>"
      ]
     },
     "metadata": {},
     "output_type": "display_data"
    }
   ],
   "source": [
    "plt.hist(z)\n",
    "plt.show()"
   ]
  },
  {
   "cell_type": "code",
   "execution_count": null,
   "metadata": {},
   "outputs": [],
   "source": []
  }
 ],
 "metadata": {
  "celltoolbar": "Raw Cell Format",
  "kernelspec": {
   "display_name": "Python 3",
   "language": "python",
   "name": "python3"
  },
  "language_info": {
   "codemirror_mode": {
    "name": "ipython",
    "version": 3
   },
   "file_extension": ".py",
   "mimetype": "text/x-python",
   "name": "python",
   "nbconvert_exporter": "python",
   "pygments_lexer": "ipython3",
   "version": "3.6.5"
  }
 },
 "nbformat": 4,
 "nbformat_minor": 2
}
