{
 "cells": [
  {
   "cell_type": "markdown",
   "metadata": {},
   "source": [
    "# Programming for Data Analysis Practical Assignment\n",
    "***\n",
    "1. Explain the overall purpose of the NumPy package.\n",
    "2. Explain the use of the \"simple random data\" and \"Permutations\" functions.\n",
    "3. Explain the use and purpose of at least five \"Distributions\" functions.\n",
    "4. Explain the use of seeds in generating pseudorandom numbers."
   ]
  },
  {
   "cell_type": "markdown",
   "metadata": {},
   "source": [
    "# 1. Explain the overall purpose of the NumPy package.\n",
    "***\n",
    "\n",
    "## NumPy\n",
    "\n",
    "NumPy is a linear algebra library in Python. It is used to perform mathematical and logical operations in arrays.\n",
    "A NumPy array is a grid that contains values of the same type.(1) There are 2 types of arrays :\n",
    "\n",
    "1. Vectors - are one dimensional\n",
    "2. Matrices - are multidimensional\n",
    "\n",
    "Why use NumPy when Python can perform the same function(s)?\n",
    "\n",
    "There are 2 reasons to use NumPy rather than Python, they are :\n",
    "1. NumPy is more efficient, meaning it uses less memory to store data.\n",
    "2. It handles the data from mathematical operations better.\n",
    "\n",
    "It's because of these 2 functions that NumPy is so popular and explains it's purpose. It allows for real life complex data to be used to solve solutions to everyday problems. NumPy is used across many industries such as the computer gaming industry, which uses it for computer generated images, electrical engineers use it to determine the properties of a circuit, medical companies use it for CAT scans and MRIs, the robotic industry uses it to operate robot movements and IT companies use it for tracking user information, to perform search queries and manage databases. These are just a small amount of examples.\n",
    "\n",
    "\n"
   ]
  },
  {
   "cell_type": "markdown",
   "metadata": {},
   "source": [
    "# 2. Explain the use of the \"Simple random data\" and \"Permutations\" functions.\n",
    "***"
   ]
  },
  {
   "cell_type": "markdown",
   "metadata": {},
   "source": [
    "## Simple Random Data\n",
    "\n",
    "Before I get into the randon fucntion(s) in numpy, I want to explore why anyone would need to generate random numbers. It turns out the use of random numbers is utilized across many industries.. It is used in science, art, statistics, gaming, gambling and other industries.(2). It is used to for encryption, modeling complex phenomena and for selecting random samples from larger data sets. (3).\n",
    "A specific example of the use of random generated numbers comes from the online betting exchange Betfair. In their online help centre, they offer an explanation of \"What are Random Number Generators, and how do they work?\". (4)(. It is very interesting, especially their explanation on the use of 'seeds'. More on seeds at the end of this assignment. But basically, they say it is used to generate numbers that do not have patterns and thus appear to be random. \n",
    "\n",
    "In NumPy, there are several ways to generate simple random data such as rand, randn, and random. They all return random numbers but go about it slightly different.<br>\n",
    "*_Rand_* - creates an array of a specified shape and fills it with random numbers from a uniform distribution over \\[0.0,1.0). (5) <br>\n",
    "*_Randn_* - creates the same array as _Rand_ but fills it with random values based on the 'standard normal' distribution.(6).<br>\n",
    "*_Random_* - returns an array filled with random numbers from a continuous uniform distribution in the half open interval \\[0.0,1.0) (7)<br>\n",
    "\n",
    " Below are examples of three simple random functions, (rand, randn and random) and histographs to illustrate their outcomes."
   ]
  },
  {
   "cell_type": "code",
   "execution_count": 1,
   "metadata": {},
   "outputs": [],
   "source": [
    "### import numpy library to assis in running the random fuctions."
   ]
  },
  {
   "cell_type": "code",
   "execution_count": 2,
   "metadata": {},
   "outputs": [],
   "source": [
    "import numpy as np"
   ]
  },
  {
   "cell_type": "markdown",
   "metadata": {},
   "source": [
    "### random.rand"
   ]
  },
  {
   "cell_type": "markdown",
   "metadata": {},
   "source": [
    "Random.rand (d0,d1,...dn)is the random function where d is a parameter that gives the array dimension. Example, random.rand(2,3) will return 6 random numbers \\(2*3) with dimensions 2 rows by 3 columns.<br>\n",
    "If you just wanted to generate a specific number or a specific amount of numbers you would just enter how many numbers you want to generate instead of giving it dimensions. ie random.rand(1000)."
   ]
  },
  {
   "cell_type": "markdown",
   "metadata": {},
   "source": [
    "Here are two examples of the random.rand function :"
   ]
  },
  {
   "cell_type": "markdown",
   "metadata": {},
   "source": [
    "The first example shows how to generate 10 random numbers in an array with two rows and five columns."
   ]
  },
  {
   "cell_type": "code",
   "execution_count": 37,
   "metadata": {
    "scrolled": true
   },
   "outputs": [
    {
     "data": {
      "text/plain": [
       "array([[0.12765329, 0.34460838, 0.56150107, 0.21161121, 0.18808191],\n",
       "       [0.7201572 , 0.20588645, 0.41526463, 0.14493104, 0.74389129]])"
      ]
     },
     "execution_count": 37,
     "metadata": {},
     "output_type": "execute_result"
    }
   ],
   "source": [
    "np.random.rand(2,5) "
   ]
  },
  {
   "cell_type": "markdown",
   "metadata": {},
   "source": [
    "The second example shows how to generate a defined amount of random numbers without specifying dimensions. In this example\n",
    "we choose 1000 random numbers."
   ]
  },
  {
   "cell_type": "code",
   "execution_count": 2,
   "metadata": {},
   "outputs": [],
   "source": [
    "###  chose 1000 as random numbers to get a better representation in the random.rand histogram."
   ]
  },
  {
   "cell_type": "code",
   "execution_count": 4,
   "metadata": {},
   "outputs": [
    {
     "data": {
      "text/plain": [
       "array([6.23713401e-01, 9.89673307e-01, 2.08933318e-01, 8.72646645e-01,\n",
       "       4.04129009e-01, 5.83210333e-01, 2.39589360e-01, 3.29624615e-01,\n",
       "       6.35422574e-01, 3.41095013e-01, 6.43512307e-01, 3.27528160e-01,\n",
       "       8.18341194e-02, 6.68137840e-01, 2.55357773e-01, 9.74717053e-01,\n",
       "       4.75565236e-01, 7.06079812e-01, 1.64722305e-01, 7.56470006e-01,\n",
       "       6.52268831e-01, 4.99599214e-01, 6.15511540e-01, 2.97504057e-01,\n",
       "       3.25995065e-01, 6.33539904e-01, 7.75953424e-01, 2.36220977e-02,\n",
       "       2.79921992e-01, 7.85990322e-01, 7.04138110e-01, 7.72604677e-01,\n",
       "       2.25197461e-01, 1.99040403e-02, 9.83378436e-01, 2.34886605e-01,\n",
       "       6.91088096e-01, 6.79782395e-01, 3.32133296e-01, 7.10335074e-01,\n",
       "       3.47338237e-01, 2.70722341e-01, 5.46779439e-01, 6.24755301e-01,\n",
       "       9.61524667e-01, 2.54799703e-01, 7.40120738e-01, 4.49265645e-01,\n",
       "       4.19521798e-01, 3.66689299e-01, 7.89674648e-01, 8.07148079e-01,\n",
       "       4.67482973e-01, 5.47666966e-01, 2.28500989e-01, 5.23418973e-01,\n",
       "       3.80243057e-01, 2.97001437e-01, 4.63377184e-01, 4.72460398e-01,\n",
       "       5.68859822e-01, 7.19889675e-01, 5.60610564e-01, 6.12048548e-01,\n",
       "       2.65680082e-01, 7.68629496e-01, 3.45370681e-01, 9.17894240e-01,\n",
       "       1.29625437e-01, 2.92395446e-01, 2.73777303e-01, 5.99761235e-02,\n",
       "       8.57806376e-01, 9.92314258e-03, 7.16645851e-01, 5.10185083e-01,\n",
       "       8.73765037e-01, 6.22876446e-01, 3.97885908e-01, 4.22604588e-01,\n",
       "       3.58205842e-01, 5.04538784e-01, 3.98651214e-01, 7.46094955e-01,\n",
       "       5.20858531e-01, 4.38348602e-01, 3.21562029e-01, 5.52177518e-01,\n",
       "       6.83114656e-01, 1.39768458e-01, 4.07094119e-01, 5.92801160e-01,\n",
       "       5.78767515e-01, 6.84672707e-01, 5.76524208e-01, 4.14293188e-01,\n",
       "       5.94816548e-01, 7.16142328e-01, 8.11740359e-01, 7.11143909e-01,\n",
       "       8.91679682e-01, 9.71632515e-01, 7.86098918e-01, 3.92227048e-01,\n",
       "       3.17179827e-01, 7.85442351e-01, 2.97074409e-01, 6.70602865e-01,\n",
       "       5.45011056e-01, 5.34699381e-01, 6.43948571e-01, 8.15691028e-01,\n",
       "       7.00439692e-01, 8.03584509e-01, 8.96261602e-01, 7.36145142e-01,\n",
       "       1.04176643e-01, 8.51606330e-01, 7.65553378e-01, 9.73335255e-01,\n",
       "       2.32909694e-01, 8.03940800e-01, 5.19952353e-02, 3.28325113e-01,\n",
       "       2.57143537e-02, 5.25377226e-01, 3.28231734e-01, 3.51422584e-03,\n",
       "       7.75346971e-01, 6.17001005e-01, 4.51862014e-01, 4.46513078e-01,\n",
       "       1.86951265e-01, 5.19434107e-01, 9.94618659e-01, 3.38908954e-01,\n",
       "       6.05461068e-01, 4.15072375e-01, 2.02977984e-01, 1.17121843e-02,\n",
       "       7.14072390e-01, 5.49601146e-03, 1.66490888e-01, 8.34824345e-01,\n",
       "       7.77041604e-01, 9.21493800e-01, 3.31595043e-01, 8.30931831e-01,\n",
       "       7.73828953e-01, 5.35614638e-02, 6.75262674e-01, 4.64192551e-01,\n",
       "       6.46753438e-01, 1.44165066e-01, 5.09644333e-01, 4.53663212e-02,\n",
       "       7.85205633e-01, 2.31336715e-01, 5.10260088e-01, 6.61474392e-01,\n",
       "       1.44432465e-01, 5.56583667e-02, 8.63929826e-01, 1.85462070e-01,\n",
       "       5.34453237e-01, 5.64112422e-01, 5.00072239e-01, 6.31511732e-01,\n",
       "       9.69106263e-01, 9.66708109e-01, 6.54381207e-01, 2.25158505e-01,\n",
       "       3.12949900e-02, 5.00704086e-01, 9.45766650e-02, 6.71526722e-01,\n",
       "       8.44618038e-01, 1.68277641e-01, 5.39741295e-01, 6.08556323e-01,\n",
       "       7.77835222e-01, 2.94529914e-01, 3.33274224e-01, 6.42373774e-01,\n",
       "       1.61166082e-02, 6.33498359e-01, 2.02226153e-01, 8.43751567e-01,\n",
       "       3.09041789e-02, 1.27730602e-01, 2.53305260e-01, 5.56383129e-02,\n",
       "       9.56437450e-01, 1.01514178e-01, 4.00462986e-01, 7.96061715e-01,\n",
       "       2.80934555e-01, 9.79084216e-01, 3.79915695e-01, 5.04917415e-01,\n",
       "       2.57110266e-01, 7.56773781e-01, 6.82433697e-01, 8.71740007e-01,\n",
       "       8.77394895e-01, 6.42819900e-01, 5.36802778e-01, 2.81160476e-01,\n",
       "       7.59845748e-01, 9.34958950e-01, 3.64336884e-01, 1.09799298e-01,\n",
       "       5.64857428e-01, 6.09769227e-01, 7.03980604e-01, 6.27157728e-01,\n",
       "       3.96944140e-01, 6.52696558e-01, 3.07019963e-01, 9.59730835e-01,\n",
       "       4.70115182e-01, 9.73683737e-02, 1.78986903e-01, 4.21921440e-01,\n",
       "       7.25459532e-01, 3.01568817e-01, 3.53217088e-02, 4.35853795e-01,\n",
       "       4.20172258e-01, 1.45268643e-01, 8.43997206e-01, 6.87565806e-01,\n",
       "       1.29247197e-01, 3.65872422e-03, 7.04952892e-01, 3.61808788e-01,\n",
       "       2.74191864e-01, 6.98664692e-01, 5.01408622e-01, 3.57371933e-01,\n",
       "       8.29818279e-01, 3.65466944e-01, 8.74559074e-01, 4.48857793e-01,\n",
       "       2.29000473e-01, 1.89586741e-01, 3.13036480e-01, 3.59690132e-01,\n",
       "       9.76825124e-01, 9.22249973e-01, 7.77598215e-01, 2.70464233e-01,\n",
       "       4.43516172e-02, 7.96950537e-01, 1.74573236e-01, 5.76655264e-01,\n",
       "       6.39079762e-01, 8.96814326e-01, 1.22319963e-01, 4.51022023e-01,\n",
       "       8.62352213e-01, 8.06911253e-01, 8.29412418e-01, 4.48302189e-01,\n",
       "       3.07965695e-01, 2.70506882e-01, 5.48130963e-01, 4.41173664e-01,\n",
       "       8.21428697e-01, 1.12261835e-01, 5.73604790e-01, 9.85729878e-01,\n",
       "       5.98289198e-01, 4.02127868e-01, 7.38244188e-01, 2.39922167e-02,\n",
       "       4.22997587e-01, 8.28709924e-01, 2.11932887e-01, 2.53323961e-01,\n",
       "       8.78172548e-01, 4.47995304e-01, 2.72225434e-01, 4.22724335e-01,\n",
       "       1.89869905e-01, 1.64550273e-02, 7.51913453e-01, 5.45428242e-01,\n",
       "       7.06105832e-02, 7.59647341e-01, 7.55312333e-01, 4.00550961e-01,\n",
       "       1.04408249e-01, 4.68782391e-01, 7.72227600e-01, 4.05743660e-01,\n",
       "       6.08240447e-01, 5.72677102e-02, 3.78437720e-01, 2.76890962e-01,\n",
       "       6.40618748e-01, 1.55098834e-01, 9.17348519e-01, 3.83532279e-01,\n",
       "       5.03437659e-01, 1.29108980e-01, 4.87231819e-01, 3.44350336e-01,\n",
       "       8.48940169e-01, 2.32469005e-01, 7.21242141e-01, 5.46675270e-01,\n",
       "       2.95211763e-01, 6.51652491e-01, 2.56943095e-01, 6.18330324e-02,\n",
       "       1.15719559e-01, 1.41907036e-02, 7.83924526e-01, 3.17872806e-01,\n",
       "       9.09995478e-01, 7.34085356e-01, 9.98994831e-01, 9.68401451e-01,\n",
       "       3.05155450e-01, 2.94381388e-01, 3.23172278e-01, 5.88309041e-01,\n",
       "       7.51502523e-01, 3.81732090e-01, 4.71428413e-01, 5.74701385e-01,\n",
       "       2.38205933e-01, 2.07615203e-01, 9.93988206e-01, 8.48328094e-01,\n",
       "       6.04758335e-01, 6.47988888e-01, 7.97200016e-01, 3.62657690e-01,\n",
       "       5.10532719e-01, 5.87693911e-01, 3.48057500e-01, 4.59724128e-01,\n",
       "       3.27759723e-02, 4.04215632e-01, 7.56073625e-03, 6.84677953e-01,\n",
       "       7.85817726e-01, 9.36473946e-01, 6.87274883e-01, 9.86807669e-01,\n",
       "       8.84195135e-01, 9.90483284e-01, 9.31665363e-01, 6.87603400e-01,\n",
       "       8.32677700e-01, 5.70580412e-01, 1.01554551e-01, 5.15382329e-01,\n",
       "       9.57309272e-01, 3.25742148e-01, 3.40991389e-01, 3.38205446e-01,\n",
       "       4.85780256e-01, 1.70318539e-01, 2.46992492e-01, 7.79044051e-02,\n",
       "       2.12566075e-01, 6.10829404e-01, 9.73384347e-01, 9.00197476e-01,\n",
       "       4.45051177e-03, 7.37908110e-01, 7.02135998e-01, 2.73831359e-01,\n",
       "       3.36108851e-01, 3.91471970e-01, 4.14118474e-01, 4.61508437e-01,\n",
       "       8.50746971e-01, 3.34601434e-01, 7.36674856e-01, 6.17299678e-01,\n",
       "       6.54503495e-01, 1.19387870e-01, 4.43839544e-01, 4.29922551e-01,\n",
       "       9.75019081e-01, 6.95917480e-01, 2.01816456e-01, 6.25997169e-02,\n",
       "       1.27622223e-01, 4.88265873e-01, 8.55710533e-02, 1.45028825e-01,\n",
       "       8.54076129e-01, 5.78918352e-01, 2.87059444e-02, 7.52257992e-01,\n",
       "       9.32517713e-01, 6.60688062e-01, 1.56254576e-01, 6.42471580e-01,\n",
       "       7.81390540e-01, 5.45710868e-01, 3.81429593e-02, 8.30062473e-01,\n",
       "       1.00670252e-01, 6.33678565e-01, 3.54523340e-01, 1.11157615e-01,\n",
       "       6.59636669e-01, 4.00156058e-01, 2.26939581e-02, 2.41034665e-01,\n",
       "       7.73020420e-01, 3.13872501e-01, 2.59578605e-01, 1.24572391e-01,\n",
       "       6.72554050e-01, 3.38324508e-02, 5.34006533e-01, 5.14968742e-01,\n",
       "       6.81069974e-03, 3.33573560e-01, 6.65978800e-01, 2.05373441e-01,\n",
       "       3.00975466e-01, 6.71678365e-01, 2.64765088e-01, 6.48558668e-01,\n",
       "       6.12527066e-01, 7.60105545e-01, 4.98977560e-01, 4.94610265e-01,\n",
       "       3.90940066e-02, 1.89632017e-01, 9.25617100e-01, 7.90366813e-01,\n",
       "       9.74927475e-01, 4.62977076e-01, 7.84596309e-02, 8.43251057e-01,\n",
       "       8.56780225e-01, 3.21915112e-01, 9.65071491e-01, 1.38115618e-01,\n",
       "       2.60007080e-01, 4.29445868e-01, 1.17311268e-01, 5.10920283e-02,\n",
       "       3.89826596e-01, 8.12179964e-01, 2.15148014e-01, 4.15237212e-02,\n",
       "       7.68456796e-01, 3.51904413e-01, 2.81382301e-01, 9.76909032e-01,\n",
       "       2.45335581e-01, 3.31472133e-02, 8.50128919e-01, 2.55683670e-01,\n",
       "       1.93753905e-01, 5.91767558e-01, 5.30511763e-01, 3.07896027e-01,\n",
       "       5.97884401e-02, 5.95319216e-01, 4.95652939e-01, 4.24502077e-01,\n",
       "       3.90712782e-01, 7.86748038e-03, 5.84961924e-01, 3.65166228e-01,\n",
       "       7.41427891e-01, 9.87821106e-01, 7.83794625e-01, 6.82123683e-01,\n",
       "       1.82227368e-01, 1.53328825e-03, 6.56388001e-01, 3.17974670e-01,\n",
       "       4.08699445e-01, 4.51610802e-01, 7.36176153e-01, 4.51354060e-02,\n",
       "       1.73595032e-01, 2.66652732e-01, 1.73762246e-02, 7.15461345e-01,\n",
       "       5.19795974e-01, 4.48402927e-01, 1.94695255e-01, 7.94093547e-01,\n",
       "       6.36227285e-01, 9.57135715e-01, 3.78957134e-01, 2.85767892e-01,\n",
       "       5.62739129e-01, 1.96164826e-01, 6.19412140e-01, 7.96621431e-01,\n",
       "       6.23305187e-01, 7.56522681e-01, 6.00166019e-01, 1.55009206e-01,\n",
       "       7.90479070e-02, 7.31494675e-01, 1.99119782e-01, 7.07447644e-01,\n",
       "       1.43965385e-01, 3.20289806e-01, 7.08962245e-01, 9.67747938e-01,\n",
       "       6.28316254e-02, 9.10224689e-02, 2.29702978e-01, 9.27813700e-01,\n",
       "       6.50934831e-02, 1.45534921e-01, 2.71826446e-01, 8.10990364e-01,\n",
       "       7.48687314e-01, 7.11058861e-01, 6.81566639e-01, 8.20344252e-01,\n",
       "       5.45664748e-01, 1.69822007e-01, 4.16064118e-01, 8.17270795e-01,\n",
       "       7.63215816e-01, 3.94026315e-01, 4.37365832e-01, 3.47657971e-01,\n",
       "       7.20938057e-01, 7.44834763e-01, 6.28669224e-01, 9.35017366e-01,\n",
       "       8.78809860e-01, 4.27741397e-01, 6.61505980e-01, 9.75398528e-01,\n",
       "       6.76953068e-01, 2.72989515e-01, 9.63046296e-01, 9.53916576e-01,\n",
       "       7.42064998e-01, 9.30529524e-01, 4.37918030e-01, 1.10647423e-01,\n",
       "       8.53978855e-01, 2.39348004e-01, 2.90396250e-01, 7.73126347e-01,\n",
       "       2.09768001e-01, 5.35538866e-01, 5.35091699e-01, 9.16082033e-01,\n",
       "       2.70041847e-01, 3.99920685e-01, 4.26796282e-01, 5.48478704e-01,\n",
       "       5.63218121e-01, 5.33628904e-01, 4.48764668e-01, 3.43522212e-01,\n",
       "       2.79736961e-01, 9.87101253e-01, 4.82833737e-01, 6.63190014e-02,\n",
       "       8.06323887e-01, 6.44151279e-01, 9.59670134e-02, 4.95450902e-01,\n",
       "       5.19326565e-01, 4.94409204e-01, 1.03066682e-01, 4.00447756e-01,\n",
       "       8.32161944e-01, 5.20949591e-01, 9.46296642e-01, 1.55609343e-01,\n",
       "       7.45934624e-01, 6.24176571e-01, 6.31510383e-01, 9.52169089e-01,\n",
       "       3.21468596e-01, 7.33016633e-01, 8.59438445e-01, 7.55088137e-01,\n",
       "       4.82622882e-02, 6.65516065e-01, 4.15532702e-01, 4.96594322e-01,\n",
       "       7.04766794e-01, 4.41441344e-01, 2.99563510e-01, 2.59655831e-01,\n",
       "       3.28630582e-01, 2.91942763e-01, 2.53371986e-01, 9.52708869e-01,\n",
       "       5.98032492e-01, 8.88841777e-01, 5.64971921e-01, 5.00418853e-01,\n",
       "       6.82489307e-02, 4.88380119e-02, 7.21323932e-01, 8.66798056e-01,\n",
       "       5.47727225e-01, 1.44848883e-01, 2.41389637e-01, 9.73892690e-01,\n",
       "       4.48694165e-01, 3.20253613e-01, 1.23584418e-01, 2.51451746e-01,\n",
       "       2.88840201e-01, 7.96369717e-01, 6.63204083e-01, 7.32132685e-01,\n",
       "       2.26392101e-01, 4.35014906e-01, 3.84688185e-01, 5.77103177e-01,\n",
       "       9.10660367e-01, 4.61942700e-01, 5.99168752e-01, 5.06034205e-01,\n",
       "       6.07710072e-01, 1.71828418e-01, 9.41356681e-01, 2.67911443e-01,\n",
       "       3.25870470e-01, 5.49860643e-01, 3.81654230e-01, 9.96654001e-02,\n",
       "       6.27375084e-02, 5.19824788e-01, 8.12736974e-01, 7.43280539e-01,\n",
       "       9.90112085e-01, 9.43030078e-02, 5.19883567e-01, 2.52674582e-02,\n",
       "       3.94716155e-01, 2.69588027e-01, 3.08312443e-01, 7.99025141e-02,\n",
       "       2.25963889e-02, 2.06836032e-01, 3.34237359e-01, 2.38038084e-01,\n",
       "       2.80493483e-01, 8.24072001e-01, 5.31151761e-01, 4.77664829e-02,\n",
       "       8.18422208e-01, 3.18566012e-01, 8.79212140e-01, 5.71166314e-01,\n",
       "       3.20814666e-01, 9.84360397e-01, 7.92829755e-02, 8.26073433e-01,\n",
       "       9.47458360e-01, 9.81924597e-01, 9.38031270e-01, 5.92668240e-01,\n",
       "       5.25412174e-02, 8.42864726e-01, 4.83902850e-01, 9.35764453e-01,\n",
       "       1.46615177e-01, 1.61022651e-01, 3.50389811e-01, 6.53250712e-01,\n",
       "       1.55442538e-02, 2.54128547e-01, 1.85311028e-01, 5.20281145e-01,\n",
       "       1.06076243e-01, 6.33497714e-02, 7.08730833e-01, 1.66624888e-01,\n",
       "       9.20197365e-01, 5.78519422e-01, 9.39466221e-01, 3.80016586e-01,\n",
       "       4.56938110e-01, 9.92992467e-01, 4.53336826e-01, 8.17705652e-01,\n",
       "       8.39605192e-01, 8.93210278e-01, 5.98320872e-01, 9.10581985e-01,\n",
       "       8.09929671e-01, 9.37865049e-01, 2.62106306e-01, 5.13007255e-01,\n",
       "       4.90443186e-01, 8.02293020e-02, 4.85047352e-01, 3.71262406e-01,\n",
       "       7.71761177e-01, 9.11079927e-02, 4.10083278e-01, 4.82022800e-02,\n",
       "       7.40159121e-01, 5.98244902e-01, 5.54769644e-01, 7.27501224e-01,\n",
       "       7.86137340e-01, 9.14195235e-01, 2.54184965e-01, 9.70431893e-01,\n",
       "       7.46753444e-01, 4.11355305e-01, 2.19035480e-01, 4.32040360e-01,\n",
       "       1.84108174e-02, 6.88969105e-01, 7.47503194e-01, 5.38457111e-01,\n",
       "       8.12966589e-01, 2.52578637e-01, 7.64294886e-01, 5.82737469e-01,\n",
       "       6.87585939e-01, 3.16511259e-01, 3.73964402e-01, 1.49631352e-01,\n",
       "       2.84262483e-01, 2.90493307e-01, 4.78835929e-01, 8.79768471e-01,\n",
       "       6.90285676e-01, 9.63771931e-01, 8.30254476e-01, 6.67392537e-01,\n",
       "       9.26026473e-01, 8.73674298e-01, 2.80564665e-01, 4.31068336e-01,\n",
       "       9.88241875e-01, 6.35115012e-01, 3.81948770e-01, 9.76596431e-01,\n",
       "       8.59230968e-01, 7.24231579e-01, 4.99718229e-01, 4.79008401e-01,\n",
       "       5.89492210e-02, 8.81538447e-01, 8.83638108e-01, 1.13573557e-01,\n",
       "       9.66816097e-01, 6.32714505e-01, 8.99666643e-01, 8.83479280e-01,\n",
       "       9.38437063e-01, 6.75558535e-01, 8.60127384e-01, 3.11128336e-02,\n",
       "       2.92898734e-01, 7.39256021e-02, 2.14483978e-01, 7.79730752e-01,\n",
       "       8.54299210e-01, 6.83612294e-01, 2.75028582e-01, 2.25630611e-01,\n",
       "       5.66814350e-01, 3.44774762e-01, 5.89355710e-01, 3.80072364e-01,\n",
       "       9.12883697e-01, 5.55939275e-01, 9.07775989e-01, 8.10483732e-01,\n",
       "       2.27893973e-01, 4.57120119e-02, 4.71590919e-01, 1.49601652e-01,\n",
       "       2.22904697e-01, 7.54852804e-01, 8.23871178e-01, 5.30746617e-01,\n",
       "       1.90198592e-01, 4.36054809e-01, 2.10173584e-01, 3.86985246e-01,\n",
       "       7.92967927e-01, 9.31080383e-01, 6.35305644e-01, 4.98243584e-01,\n",
       "       2.45653625e-01, 8.25438264e-01, 1.04325121e-01, 2.89217520e-01,\n",
       "       9.18914700e-01, 4.80048863e-02, 5.94946777e-01, 9.03362748e-01,\n",
       "       9.65915822e-02, 7.31850716e-02, 5.56315200e-01, 9.77383450e-01,\n",
       "       3.50233202e-02, 3.28342121e-01, 5.31540152e-01, 1.20629103e-02,\n",
       "       4.88810207e-01, 1.54322327e-01, 2.79005741e-02, 2.29806995e-01,\n",
       "       6.36715641e-01, 8.65671908e-01, 4.92340839e-01, 8.32678570e-01,\n",
       "       3.01227161e-01, 6.25337951e-01, 2.85717759e-01, 3.40596346e-01,\n",
       "       8.27500870e-01, 6.40903219e-01, 3.59368072e-01, 2.03804359e-01,\n",
       "       2.10884661e-01, 7.00300308e-01, 7.00658432e-01, 7.16796661e-01,\n",
       "       8.23064900e-01, 2.08020612e-01, 9.08687396e-01, 5.60674086e-01,\n",
       "       8.44160957e-01, 9.17716785e-01, 5.64924918e-01, 7.43438160e-01,\n",
       "       8.18430325e-02, 5.08506915e-01, 8.52987115e-01, 1.81154217e-01,\n",
       "       2.03158500e-01, 2.76366391e-01, 7.47338280e-01, 4.56319451e-01,\n",
       "       8.56511055e-01, 5.24296597e-01, 7.53526032e-01, 9.76494602e-01,\n",
       "       5.89611585e-02, 3.69351047e-02, 1.07347555e-01, 9.41939956e-01,\n",
       "       8.78215639e-01, 6.76282669e-01, 5.07091608e-01, 2.37199511e-01,\n",
       "       8.85223028e-01, 2.02126648e-01, 4.67936444e-02, 7.07928721e-01,\n",
       "       1.64504179e-01, 7.98249611e-01, 8.82676444e-01, 9.48706376e-01,\n",
       "       1.80169454e-01, 1.93634671e-01, 5.93166843e-01, 2.60817121e-01,\n",
       "       6.13249923e-01, 2.21081413e-02, 7.22833862e-01, 4.45661267e-01,\n",
       "       2.37584162e-01, 3.92949467e-01, 8.92443153e-01, 7.81566850e-01,\n",
       "       4.96271698e-01, 5.30599283e-01, 8.62928635e-01, 3.67169769e-01,\n",
       "       6.10287516e-01, 8.78857157e-01, 5.95067538e-01, 6.30102358e-02,\n",
       "       6.64330136e-01, 9.04483632e-01, 4.46437884e-01, 7.45111969e-01,\n",
       "       1.88303599e-01, 2.33483897e-01, 2.39012289e-01, 2.72092745e-02,\n",
       "       3.89161428e-01, 7.72009015e-01, 5.96194622e-01, 7.23724370e-01,\n",
       "       7.54330619e-01, 6.75749586e-01, 3.30169046e-01, 1.35008199e-01,\n",
       "       3.32200755e-01, 8.10801744e-01, 9.55874785e-01, 5.78946337e-01,\n",
       "       2.69976681e-01, 6.89150866e-01, 6.77013292e-01, 9.18930675e-01,\n",
       "       4.78506244e-01, 8.99036172e-01, 7.50352057e-01, 3.28104196e-02,\n",
       "       3.61754261e-01, 3.67907279e-01, 5.83773311e-01, 9.66529228e-01,\n",
       "       3.54246173e-01, 3.06483521e-01, 6.31297605e-01, 6.59023342e-01,\n",
       "       4.65436138e-01, 6.85914499e-01, 8.25647446e-01, 8.36907359e-01,\n",
       "       8.33897681e-01, 7.16333768e-01, 3.06264987e-01, 7.33063433e-01,\n",
       "       1.22962012e-01, 8.66951246e-01, 4.64033526e-01, 9.11525042e-01,\n",
       "       5.75485482e-01, 4.86375516e-01, 8.06930707e-01, 2.65670398e-01,\n",
       "       7.36235930e-01, 3.12584324e-01, 1.02383259e-01, 5.79563745e-01,\n",
       "       8.03819437e-01, 7.42093878e-01, 2.94903984e-02, 7.40965606e-01,\n",
       "       3.47837512e-01, 1.05142411e-01, 1.15979883e-01, 1.81085814e-01,\n",
       "       3.00333828e-01, 7.22378337e-01, 7.47334404e-01, 8.06529934e-01,\n",
       "       4.71302424e-01, 5.92286019e-01, 7.31229284e-01, 8.12230071e-01,\n",
       "       2.43976667e-01, 5.75420983e-01, 7.04593712e-01, 1.35252687e-01,\n",
       "       1.86855326e-02, 4.91463117e-01, 9.29392210e-01, 6.15171037e-01,\n",
       "       8.83872014e-01, 1.22551257e-01, 1.49737955e-01, 2.66133055e-04,\n",
       "       3.68629602e-01, 2.15629724e-01, 1.65873422e-01, 8.83527443e-01,\n",
       "       1.93263624e-01, 4.39277830e-01, 8.79668734e-01, 7.44723539e-01,\n",
       "       1.96233640e-02, 5.25288197e-01, 6.80468134e-01, 3.26422770e-01,\n",
       "       9.62492784e-01, 3.61592701e-01, 5.82566647e-01, 2.07674815e-01,\n",
       "       9.01004691e-01, 2.59171653e-01, 6.15535542e-01, 3.32176854e-01,\n",
       "       2.42759311e-02, 4.50585356e-02, 9.79707436e-01, 6.30586326e-01])"
      ]
     },
     "execution_count": 4,
     "metadata": {},
     "output_type": "execute_result"
    }
   ],
   "source": [
    "np.random.rand(1000)"
   ]
  },
  {
   "cell_type": "markdown",
   "metadata": {},
   "source": [
    "Below shows how to create a histogram for the np.random.rand function."
   ]
  },
  {
   "cell_type": "code",
   "execution_count": 5,
   "metadata": {},
   "outputs": [],
   "source": [
    "x = np.random.rand(1000)"
   ]
  },
  {
   "cell_type": "code",
   "execution_count": 3,
   "metadata": {},
   "outputs": [],
   "source": [
    "### import matplotlib librart to assist with the creation of the histograms."
   ]
  },
  {
   "cell_type": "code",
   "execution_count": 6,
   "metadata": {
    "scrolled": true
   },
   "outputs": [
    {
     "data": {
      "image/png": "[encoded data removed]",
      "text/plain": [
       "<Figure size 432x288 with 1 Axes>"
      ]
     },
     "metadata": {},
     "output_type": "display_data"
    }
   ],
   "source": [
    "%matplotlib inline\n",
    "\n",
    "import matplotlib.pyplot as plt\n",
    "plt.style.use('seaborn-whitegrid')\n",
    "plt.hist(x)\n",
    "plt.xlabel('continuous variables')\n",
    "plt.ylabel('number of outcomes')\n",
    "plt.show()\n"
   ]
  },
  {
   "cell_type": "markdown",
   "metadata": {},
   "source": [
    "As you can see from the histogram above, the random.rand is uniform with 10 different columns of continuous variables all around the 100 level of outcomes."
   ]
  },
  {
   "cell_type": "markdown",
   "metadata": {},
   "source": [
    "### random.randn"
   ]
  },
  {
   "cell_type": "markdown",
   "metadata": {},
   "source": [
    "The random.randn function is the same as the random.rand as far as being able to give the outcome dimensions and/or the ability to generate many random numbers without specifying the dimension. The only difference is that the random.randn is based on a normal distribution. Please see the below histogram based on 5000 outcomes."
   ]
  },
  {
   "cell_type": "markdown",
   "metadata": {},
   "source": [
    "Here are two examples of the random.randn function :"
   ]
  },
  {
   "cell_type": "markdown",
   "metadata": {},
   "source": [
    "The first example shows how to generate random numbers in an array with four rows and four columns. "
   ]
  },
  {
   "cell_type": "code",
   "execution_count": 7,
   "metadata": {},
   "outputs": [
    {
     "data": {
      "text/plain": [
       "array([[-0.40757407,  0.29568561,  0.62208854, -0.49892867],\n",
       "       [ 0.11505262, -0.49935272,  0.07278935,  0.37401269],\n",
       "       [ 0.5809183 ,  0.32463713, -0.66195256,  0.55654069],\n",
       "       [-1.42033176, -0.33960245,  0.49277585,  0.60811643]])"
      ]
     },
     "execution_count": 7,
     "metadata": {},
     "output_type": "execute_result"
    }
   ],
   "source": [
    "np.random.randn(4,4)"
   ]
  },
  {
   "cell_type": "markdown",
   "metadata": {},
   "source": [
    "The second example shows how to generate a defined amount of random numbers without specifying dimensions. In this example we choose 5000 random numbers."
   ]
  },
  {
   "cell_type": "code",
   "execution_count": 8,
   "metadata": {},
   "outputs": [
    {
     "data": {
      "text/plain": [
       "array([-1.63274432,  0.33648445,  1.28873171, -0.32722259, -0.75119899,\n",
       "       -1.67861309, -0.31078562,  0.10324558,  0.01447458,  0.36959484])"
      ]
     },
     "execution_count": 8,
     "metadata": {},
     "output_type": "execute_result"
    }
   ],
   "source": [
    "np.random.randn(10)"
   ]
  },
  {
   "cell_type": "markdown",
   "metadata": {},
   "source": [
    "Below shows how to create a histogram for the np.random.randn function."
   ]
  },
  {
   "cell_type": "code",
   "execution_count": 9,
   "metadata": {},
   "outputs": [],
   "source": [
    "y = np.random.randn(5000)"
   ]
  },
  {
   "cell_type": "code",
   "execution_count": 10,
   "metadata": {
    "scrolled": true
   },
   "outputs": [
    {
     "data": {
      "image/png": "[encoded data removed]",
      "text/plain": [
       "<Figure size 432x288 with 1 Axes>"
      ]
     },
     "metadata": {},
     "output_type": "display_data"
    }
   ],
   "source": [
    "plt.style.use('seaborn-whitegrid')\n",
    "plt.hist(y)\n",
    "plt.xlabel('continuous variables')\n",
    "plt.ylabel('number of outcomes')\n",
    "plt.show()"
   ]
  },
  {
   "cell_type": "markdown",
   "metadata": {},
   "source": [
    "As you can see from the above histogram, the random.randn returns a normal distribution with the classic bell shape."
   ]
  },
  {
   "cell_type": "markdown",
   "metadata": {},
   "source": [
    "### random.random"
   ]
  },
  {
   "cell_type": "markdown",
   "metadata": {},
   "source": [
    "Random.random is the same as the random.rand except for how the arguments are handled. In random.rand, the shapes are separate arguments while in the random.random function, the shape argument is a single tuple.(8)"
   ]
  },
  {
   "cell_type": "markdown",
   "metadata": {},
   "source": [
    "Here are two examples of the random.random function :"
   ]
  },
  {
   "cell_type": "markdown",
   "metadata": {},
   "source": [
    "The first example shows how to generate a random number from the uniform distribution without specifying a number of outcomes."
   ]
  },
  {
   "cell_type": "code",
   "execution_count": 38,
   "metadata": {},
   "outputs": [
    {
     "data": {
      "text/plain": [
       "0.6300758626775989"
      ]
     },
     "execution_count": 38,
     "metadata": {},
     "output_type": "execute_result"
    }
   ],
   "source": [
    "np.random.random()     "
   ]
  },
  {
   "cell_type": "markdown",
   "metadata": {},
   "source": [
    "The second example shows how to generate a defined amount of random numbers from the uniform distribution."
   ]
  },
  {
   "cell_type": "code",
   "execution_count": 12,
   "metadata": {},
   "outputs": [
    {
     "data": {
      "text/plain": [
       "array([0.66933177, 0.52022704, 0.76312027, 0.71903601, 0.93564023,\n",
       "       0.75440381, 0.83276433, 0.82404246, 0.56663564, 0.37547727])"
      ]
     },
     "execution_count": 12,
     "metadata": {},
     "output_type": "execute_result"
    }
   ],
   "source": [
    "np.random.random(10)"
   ]
  },
  {
   "cell_type": "markdown",
   "metadata": {},
   "source": [
    "Below shows how to create a histogram for the np.random.random function with 5,000 outcomes."
   ]
  },
  {
   "cell_type": "code",
   "execution_count": 13,
   "metadata": {},
   "outputs": [],
   "source": [
    "z = np.random.random(5000)"
   ]
  },
  {
   "cell_type": "code",
   "execution_count": 14,
   "metadata": {
    "scrolled": true
   },
   "outputs": [
    {
     "data": {
      "image/png": "[encoded data removed]",
      "text/plain": [
       "<Figure size 432x288 with 1 Axes>"
      ]
     },
     "metadata": {},
     "output_type": "display_data"
    }
   ],
   "source": [
    "plt.style.use('seaborn-whitegrid')\n",
    "plt.hist(z)\n",
    "plt.xlabel('continuous variable')\n",
    "plt.ylabel('number of outcomes')\n",
    "plt.show()\n"
   ]
  },
  {
   "cell_type": "markdown",
   "metadata": {},
   "source": [
    "You can tell from the above histogram that the outcomes show a uniform distribution based on 5000 random numbers."
   ]
  },
  {
   "cell_type": "markdown",
   "metadata": {},
   "source": [
    "## Permutations "
   ]
  },
  {
   "cell_type": "markdown",
   "metadata": {},
   "source": [
    "In mathematics, permutation is defined as the act of arranging all the members of a set into some sequence or order, \n",
    "or if the set is already ordered, rearranging its elements, a process called permuting. (9)"
   ]
  },
  {
   "cell_type": "markdown",
   "metadata": {},
   "source": [
    "The use of random permutations is often fundamental to fields that use randomized algorithms such as coding theory, cryptography and simulation. (10) "
   ]
  },
  {
   "cell_type": "markdown",
   "metadata": {},
   "source": [
    "Below is an example of generating a permutation using the random.permutation function in numpy."
   ]
  },
  {
   "cell_type": "code",
   "execution_count": 46,
   "metadata": {},
   "outputs": [
    {
     "data": {
      "text/plain": [
       "array([ 5,  7,  8, 11,  2,  6,  4,  9,  1,  3, 10,  0])"
      ]
     },
     "execution_count": 46,
     "metadata": {},
     "output_type": "execute_result"
    }
   ],
   "source": [
    "np.random.permutation(12)"
   ]
  },
  {
   "cell_type": "markdown",
   "metadata": {},
   "source": [
    "The second example of the random.permutation function shows how you can take the above output and reshape\n",
    "it into an array with dimensions by using the arange and reshape functions."
   ]
  },
  {
   "cell_type": "code",
   "execution_count": 44,
   "metadata": {},
   "outputs": [
    {
     "data": {
      "text/plain": [
       "array([[ 0,  1,  2,  3],\n",
       "       [ 8,  9, 10, 11],\n",
       "       [ 4,  5,  6,  7]])"
      ]
     },
     "execution_count": 44,
     "metadata": {},
     "output_type": "execute_result"
    }
   ],
   "source": [
    "ar = np.arange(12).reshape((3,4))\n",
    "np.random.permutation(ar)"
   ]
  },
  {
   "cell_type": "markdown",
   "metadata": {},
   "source": [
    "# 3. Explain the use and purpose of at least five \"Distributions\" functions.\n",
    "***"
   ]
  },
  {
   "cell_type": "markdown",
   "metadata": {},
   "source": [
    "## Distributions"
   ]
  },
  {
   "cell_type": "markdown",
   "metadata": {},
   "source": [
    "Distribution, as defined in statistics, is a listing or function showing all the possible values (or intervals) of the data and how often they occur. (11)"
   ]
  },
  {
   "cell_type": "markdown",
   "metadata": {},
   "source": [
    "The main purpose of distributions is that they can be used as a shorthand for describinng and calculating related quantities, such as likelihhods of observations, and plotting the relationship between observations in the domain. (12)"
   ]
  },
  {
   "cell_type": "markdown",
   "metadata": {},
   "source": [
    "There are many types of distribtions and below we will look at 5 of the most common. They are the normal distribution, the uniform distribution, the exponential distribution, the poisson distribution and the binomial distribution."
   ]
  },
  {
   "cell_type": "markdown",
   "metadata": {},
   "source": [
    "### Normal Distribution"
   ]
  },
  {
   "cell_type": "markdown",
   "metadata": {},
   "source": [
    "The normal distribution, also known as the Gaussian distribution, is a probability distribution that is symmetric about the mean, showing that data near the mean are more frequent in occurrence than data far from the mean. (13)"
   ]
  },
  {
   "cell_type": "markdown",
   "metadata": {},
   "source": [
    "Here are two examples of the normal distribution function using the random.normal function in numpy :"
   ]
  },
  {
   "cell_type": "code",
   "execution_count": 17,
   "metadata": {},
   "outputs": [
    {
     "data": {
      "text/plain": [
       "array([ 0.00448247, -0.20333361,  0.06319711,  0.24201714, -0.30292893,\n",
       "        0.1182558 , -0.13456213, -0.01335186, -0.02175205, -0.01671092])"
      ]
     },
     "execution_count": 17,
     "metadata": {},
     "output_type": "execute_result"
    }
   ],
   "source": [
    "np.random.normal(0,0.1,10)"
   ]
  },
  {
   "cell_type": "code",
   "execution_count": 39,
   "metadata": {},
   "outputs": [],
   "source": [
    "nd = np.random.normal(0,0.1,1000) "
   ]
  },
  {
   "cell_type": "code",
   "execution_count": null,
   "metadata": {},
   "outputs": [],
   "source": [
    "### used some plt.'functions' to assist in getting a histogram with labels for the x & y axis' and also to create grid lines."
   ]
  },
  {
   "cell_type": "code",
   "execution_count": 19,
   "metadata": {},
   "outputs": [
    {
     "data": {
      "image/png": "[encoded data removed]",
      "text/plain": [
       "<Figure size 432x288 with 1 Axes>"
      ]
     },
     "metadata": {},
     "output_type": "display_data"
    }
   ],
   "source": [
    "plt.style.use('seaborn-whitegrid')\n",
    "plt.hist(nd)\n",
    "plt.xlabel('continuous variable')\n",
    "plt.ylabel('number of outcomes')\n",
    "plt.show()"
   ]
  },
  {
   "cell_type": "markdown",
   "metadata": {},
   "source": [
    "As you can see from the above histogram, most of the data are near the mean (0)."
   ]
  },
  {
   "cell_type": "markdown",
   "metadata": {},
   "source": [
    "### Uniform Distribution"
   ]
  },
  {
   "cell_type": "markdown",
   "metadata": {},
   "source": [
    "The uniform distribution is a continuous distribution. It is a probability distribution that has a constant probability.\n",
    "It is also known as the rectangular distribution because when plotted, the outcomes take the form of a rectangle."
   ]
  },
  {
   "cell_type": "markdown",
   "metadata": {},
   "source": [
    "Here are two examples of the uniform distribution function using the random.uniform function in numpy :"
   ]
  },
  {
   "cell_type": "code",
   "execution_count": 20,
   "metadata": {},
   "outputs": [
    {
     "data": {
      "text/plain": [
       "array([0.17266642, 0.45233689, 0.41349043, 0.72821739, 0.84764933,\n",
       "       0.09789817, 0.64839225, 0.65294547, 0.10387664, 0.71027127])"
      ]
     },
     "execution_count": 20,
     "metadata": {},
     "output_type": "execute_result"
    }
   ],
   "source": [
    "np.random.uniform(0,1,10)"
   ]
  },
  {
   "cell_type": "code",
   "execution_count": 21,
   "metadata": {},
   "outputs": [],
   "source": [
    "ud = np.random.uniform(0,1,1000)"
   ]
  },
  {
   "cell_type": "code",
   "execution_count": 22,
   "metadata": {},
   "outputs": [
    {
     "data": {
      "image/png": "[encoded data removed]",
      "text/plain": [
       "<Figure size 432x288 with 1 Axes>"
      ]
     },
     "metadata": {},
     "output_type": "display_data"
    }
   ],
   "source": [
    "plt.style.use('seaborn-whitegrid')\n",
    "plt.hist(ud)\n",
    "plt.xlabel('continuous variable')\n",
    "plt.ylabel('number of outcomes')\n",
    "plt.show()"
   ]
  },
  {
   "cell_type": "markdown",
   "metadata": {},
   "source": [
    "As you can see from the above histogram, the uniform distribution takes the shape of a rectangle."
   ]
  },
  {
   "cell_type": "markdown",
   "metadata": {},
   "source": [
    "### Exponetial Distribution"
   ]
  },
  {
   "cell_type": "markdown",
   "metadata": {},
   "source": [
    "The exponential distribution (also known as the negative distribution) describes the time until some specific event(s) occur. A popular example is the time before an earthquake takes place. Another example might be how many days before a car battery runs out. The exponential distribution is widely used in the field of reliability. Reliability deals with the amount of time a product lasts. (14) "
   ]
  },
  {
   "cell_type": "markdown",
   "metadata": {},
   "source": [
    "Here are two examples of the exponential distribution function using the random.exponential function in numpy :"
   ]
  },
  {
   "cell_type": "code",
   "execution_count": 23,
   "metadata": {},
   "outputs": [
    {
     "data": {
      "text/plain": [
       "array([0.54880888, 1.00047117, 0.54276918, 0.25994312, 0.67934074,\n",
       "       1.21849342, 0.48999872, 1.13666616, 0.42698923, 0.53541289])"
      ]
     },
     "execution_count": 23,
     "metadata": {},
     "output_type": "execute_result"
    }
   ],
   "source": [
    "np.random.exponential(1.0, 10)"
   ]
  },
  {
   "cell_type": "code",
   "execution_count": 24,
   "metadata": {},
   "outputs": [],
   "source": [
    "ed = np.random.exponential(1.0, 1000)"
   ]
  },
  {
   "cell_type": "code",
   "execution_count": 25,
   "metadata": {},
   "outputs": [
    {
     "data": {
      "image/png": "[encoded data removed]",
      "text/plain": [
       "<Figure size 432x288 with 1 Axes>"
      ]
     },
     "metadata": {},
     "output_type": "display_data"
    }
   ],
   "source": [
    "plt.style.use('seaborn-whitegrid')\n",
    "plt.hist(ed)\n",
    "plt.xlabel('continuous variable')\n",
    "plt.ylabel('number of outcomes')\n",
    "plt.show()"
   ]
  },
  {
   "cell_type": "markdown",
   "metadata": {},
   "source": [
    "### Poisson Distribution"
   ]
  },
  {
   "cell_type": "markdown",
   "metadata": {},
   "source": [
    "The poisson distribution is the discrete probability distribution of the number of events occurring in a given time period, given the average number of times the event occurs over that time period.(15)\n",
    "\n",
    "The poisson distribution is applied in many ways. Examples are, predicting how many rare diseases will be diagnosed in any given time period, how many car accidents will there be on New Year's eve and to predict the number of failures of a machine in a month.(16)\n",
    "\n"
   ]
  },
  {
   "cell_type": "markdown",
   "metadata": {},
   "source": [
    "Here are two examples of the poisson distribution function using the random.poisson function in numpy :"
   ]
  },
  {
   "cell_type": "code",
   "execution_count": 26,
   "metadata": {},
   "outputs": [
    {
     "data": {
      "text/plain": [
       "array([2, 0, 1, 2, 1, 0, 1, 2, 1, 0])"
      ]
     },
     "execution_count": 26,
     "metadata": {},
     "output_type": "execute_result"
    }
   ],
   "source": [
    "np.random.poisson(1.0,10)"
   ]
  },
  {
   "cell_type": "code",
   "execution_count": 27,
   "metadata": {},
   "outputs": [],
   "source": [
    "pd = np.random.poisson(1.0,1000)"
   ]
  },
  {
   "cell_type": "code",
   "execution_count": 28,
   "metadata": {},
   "outputs": [
    {
     "data": {
      "image/png": "[encoded data removed]",
      "text/plain": [
       "<Figure size 432x288 with 1 Axes>"
      ]
     },
     "metadata": {},
     "output_type": "display_data"
    }
   ],
   "source": [
    "plt.style.use('seaborn-whitegrid')\n",
    "plt.hist(pd)\n",
    "plt.xlabel('discrete variable')\n",
    "plt.ylabel('number of outcomes')\n",
    "plt.show()"
   ]
  },
  {
   "cell_type": "markdown",
   "metadata": {},
   "source": [
    "As expected in the above poisson histogram, the events start to decline right around the mean, (1.0)."
   ]
  },
  {
   "cell_type": "markdown",
   "metadata": {},
   "source": [
    "### Binomial Distribution"
   ]
  },
  {
   "cell_type": "markdown",
   "metadata": {},
   "source": [
    "The binomial distribution can be thought of as simply the probability of a success or failure outcome in an experiment or survey that is repeated multiple times. The binomial is a type of distribution that has two possible outcomes. An example of this is predicting a baby's gender.(17)"
   ]
  },
  {
   "cell_type": "markdown",
   "metadata": {},
   "source": [
    "Here are two examples of the binomial distribution function using the random.binomial function in numpy :"
   ]
  },
  {
   "cell_type": "code",
   "execution_count": 29,
   "metadata": {},
   "outputs": [
    {
     "data": {
      "text/plain": [
       "array([0, 1, 0, 0, 1, 1, 1, 1, 0, 0, 0, 0, 1, 0, 1, 0, 1, 0, 1, 1, 0, 0,\n",
       "       0, 0, 1, 1, 0, 0, 0, 1, 1, 0, 1, 1, 0, 0, 1, 0, 0, 1, 0, 0, 1, 1,\n",
       "       0, 0, 0, 1, 0, 1, 0, 0, 0, 1, 1, 1, 1, 0, 1, 0, 0, 0, 0, 0, 1, 1,\n",
       "       1, 1, 0, 1, 1, 0, 1, 0, 0, 0, 0, 1, 1, 0, 0, 1, 0, 1, 1, 1, 1, 0,\n",
       "       1, 0, 0, 0, 0, 1, 1, 1, 0, 0, 0, 0])"
      ]
     },
     "execution_count": 29,
     "metadata": {},
     "output_type": "execute_result"
    }
   ],
   "source": [
    "np.random.binomial(1,0.5,100)"
   ]
  },
  {
   "cell_type": "code",
   "execution_count": 30,
   "metadata": {},
   "outputs": [],
   "source": [
    "bd = np.random.binomial(1.0,0.5,1000)"
   ]
  },
  {
   "cell_type": "code",
   "execution_count": 31,
   "metadata": {},
   "outputs": [
    {
     "data": {
      "image/png": "[encoded data removed]",
      "text/plain": [
       "<Figure size 432x288 with 1 Axes>"
      ]
     },
     "metadata": {},
     "output_type": "display_data"
    }
   ],
   "source": [
    "plt.style.use('seaborn-whitegrid')\n",
    "plt.hist(bd)\n",
    "plt.xlabel('discrete variable')\n",
    "plt.ylabel('number of outcomes')\n",
    "plt.show()"
   ]
  },
  {
   "cell_type": "markdown",
   "metadata": {},
   "source": [
    "With the probability set to 0.5 (50%), the above histogram offers no surprises. The resulting outcomes equal.\n"
   ]
  },
  {
   "cell_type": "markdown",
   "metadata": {},
   "source": [
    "# 4. Explain the use of seeds in generating pseudo random numbers.\n",
    "***"
   ]
  },
  {
   "cell_type": "markdown",
   "metadata": {},
   "source": [
    "First, lets define what pseudo random numbers are. Pseudo random numbers are a set of values or elements that is statistically random, but it is derived from a known starting point and is typically repeated over and over. Pseudo-random numbers provide necessary values for processes that require randomness. (18) \n",
    "\n",
    "A pseudo random number generator (PRNG) is an algorithm that approximates a sequence of random numbers. You are able to set the staring point for each sequence using a seed. Thus a seed is used to start the generating of the pseudo random number process."
   ]
  },
  {
   "cell_type": "markdown",
   "metadata": {},
   "source": [
    "### References"
   ]
  },
  {
   "cell_type": "markdown",
   "metadata": {},
   "source": [
    "1. (https://towardsdatascience.com/lets-talk-about-numpy-for-datascience-beginners-b8088722309f)\n",
    "2. (https://en.wikipedia.org/wiki/Applications_of_randomness)\n",
    "3. (https://www.random.org/randomness/)\n",
    "4. (https://en-betfair.custhelp.com/app/answers/detail/a_id/158/~/what-are-random-number-generators%2C-and-how-do-they-work%3F)\n",
    "5. (https://docs.scipy.org/doc/numpy-1.15.1/reference/generated/numpy.random.rand.html)\n",
    "6. (https://www.geeksforgeeks.org/numpy-random-rand-python)\n",
    "7. (https://docs.scipy.org/doc/numpy-1.15.1/reference/generated/numpy.random.sample.html#numpy.random.sample.)\n",
    "8. (https://stackoverflow.com/questions/47231852/np-random-rand-vs-np-random-random)\n",
    "9. (https://en.wikipedia.org/wiki/Permutation) <br>\n",
    "10. (https://en.wikipedia.org/wiki/Random_permutation) <br>\n",
    "11. (https://www.dummies.com/education/math/statistics/what-the-distribution-tells-you-about-a-statistical-data-set/) <br>\n",
    "12. (https://machinelearningmastery.com/statistical-data-distributions/) <br>\n",
    "13. (https://www.investopedia.com/terms/n/normaldistribution.asp) <br>\n",
    "14. (https://courses.lumenlearning.com/introstats1/chapter/the-exponential-distribution/) <br>\n",
    "15. (https://brilliant.org/wiki/poisson-distribution/) <br>\n",
    "16. (https://www.intmath.com/counting-probability/13-poisson-probability-distribution.php) <br>\n",
    "17. (https://www.statisticshowto.datasciencecentral.com/probability-and-statistics/binomial-theorem/binomial-distribution-formula/) <br>\n",
    "18. (https://www.pcmag.com/encyclopedia/term/49914/pseudo-random-numbers) <br>\n",
    "\n",
    "\n",
    "\n",
    "\n"
   ]
  },
  {
   "cell_type": "code",
   "execution_count": null,
   "metadata": {},
   "outputs": [],
   "source": []
  }
 ],
 "metadata": {
  "kernelspec": {
   "display_name": "Python 3",
   "language": "python",
   "name": "python3"
  },
  "language_info": {
   "codemirror_mode": {
    "name": "ipython",
    "version": 3
   },
   "file_extension": ".py",
   "mimetype": "text/x-python",
   "name": "python",
   "nbconvert_exporter": "python",
   "pygments_lexer": "ipython3",
   "version": "3.6.5"
  }
 },
 "nbformat": 4,
 "nbformat_minor": 2
}
